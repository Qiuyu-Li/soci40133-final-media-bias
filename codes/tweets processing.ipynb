{
 "cells": [
  {
   "cell_type": "code",
   "execution_count": 2,
   "id": "4815298c",
   "metadata": {},
   "outputs": [],
   "source": [
    "\n",
    "\n",
    "\n",
    "\n",
    "import pandas as pd\n",
    "import collections"
   ]
  },
  {
   "cell_type": "markdown",
   "id": "5057a2dc",
   "metadata": {},
   "source": [
    "Filtering steps:\n",
    "1. Containing \",\", and the string after \",\" is a state in the US.\n",
    "2. One of the cities in the list of 754 cities with a 50,000+ population in 2016 (https://www.governing.com/archive/population-density-land-area-cities-map.html, data from U.S. Census Bureau)\n",
    "3. Counties of the US"
   ]
  },
  {
   "cell_type": "markdown",
   "id": "a8f40d99",
   "metadata": {},
   "source": [
    "# 1 Location data"
   ]
  },
  {
   "cell_type": "markdown",
   "id": "1df6f20c",
   "metadata": {},
   "source": [
    "## 1.1 Construct lowercase city-state dictionary with only populated cities"
   ]
  },
  {
   "cell_type": "code",
   "execution_count": 156,
   "id": "9632a94e",
   "metadata": {},
   "outputs": [],
   "source": [
    "city_table_raw_small = pd.read_excel('../../Paper data/city list.xlsx') \n",
    "city_table_raw_small = city_table_raw_small.replace('hawaiʻi','hawaii')"
   ]
  },
  {
   "cell_type": "code",
   "execution_count": 157,
   "id": "11b7e3c3",
   "metadata": {},
   "outputs": [],
   "source": [
    "city_list_lower = []\n",
    "city_list_lower_state = []\n",
    "for c in city_table_raw_small.City:\n",
    "    state = c.rpartition(',')[2].strip()\n",
    "    city = c.rpartition(',')[0].strip()\n",
    "    city = city.replace('city','').strip()\n",
    "    city_list_lower.append(city.lower())\n",
    "    city_list_lower_state.append(state.lower())\n",
    "\n",
    "city_dict_small = dict(zip(city_list_lower,city_list_lower_state))"
   ]
  },
  {
   "cell_type": "markdown",
   "id": "b3ce86e0",
   "metadata": {},
   "source": [
    "## 1.2 Construct lowercase city-state dictionary with all cities"
   ]
  },
  {
   "cell_type": "markdown",
   "id": "b0e75973",
   "metadata": {},
   "source": [
    "https://simplemaps.com/data/us-cities"
   ]
  },
  {
   "cell_type": "code",
   "execution_count": 158,
   "id": "1e11abf5",
   "metadata": {},
   "outputs": [
    {
     "data": {
      "text/plain": [
       "{'new york': 'new york',\n",
       " 'los angeles': 'california',\n",
       " 'chicago': 'illinois',\n",
       " 'miami': 'missouri',\n",
       " 'dallas': 'south dakota',\n",
       " 'philadelphia': 'tennessee',\n",
       " 'houston': 'arkansas',\n",
       " 'atlanta': 'nebraska',\n",
       " 'washington': 'california',\n",
       " 'boston': 'indiana',\n",
       " 'phoenix': 'illinois',\n",
       " 'seattle': 'washington',\n",
       " 'san francisco': 'california',\n",
       " 'detroit': 'illinois',\n",
       " 'san diego': 'texas',\n",
       " 'minneapolis': 'kansas',\n",
       " 'tampa': 'kansas',\n",
       " 'denver': 'missouri',\n",
       " 'brooklyn': 'illinois',\n",
       " 'queens': 'new york',\n",
       " 'riverside': 'wyoming',\n",
       " 'baltimore': 'ohio',\n",
       " 'las vegas': 'new mexico',\n",
       " 'portland': 'iowa',\n",
       " 'san antonio': 'new mexico',\n",
       " 'st. louis': 'oklahoma',\n",
       " 'sacramento': 'new mexico',\n",
       " 'orlando': 'oklahoma',\n",
       " 'san jose': 'illinois',\n",
       " 'cleveland': 'north dakota',\n",
       " 'pittsburgh': 'pennsylvania',\n",
       " 'austin': 'nevada',\n",
       " 'cincinnati': 'iowa',\n",
       " 'kansas': 'ohio',\n",
       " 'manhattan': 'montana',\n",
       " 'indianapolis': 'indiana',\n",
       " 'columbus': 'illinois',\n",
       " 'charlotte': 'iowa',\n",
       " 'virginia beach': 'virginia',\n",
       " 'bronx': 'new york',\n",
       " 'milwaukee': 'wisconsin',\n",
       " 'providence': 'alabama',\n",
       " 'jacksonville': 'iowa',\n",
       " 'salt lake': 'utah',\n",
       " 'nashville': 'kansas',\n",
       " 'richmond': 'ohio',\n",
       " 'memphis': 'alabama',\n",
       " 'raleigh': 'north dakota',\n",
       " 'new orleans': 'louisiana',\n",
       " 'louisville': 'kansas',\n",
       " 'oklahoma': 'pennsylvania',\n",
       " 'bridgeport': 'oklahoma',\n",
       " 'buffalo': 'north dakota',\n",
       " 'fort worth': 'texas',\n",
       " 'hartford': 'kansas',\n",
       " 'tucson': 'arizona',\n",
       " 'omaha': 'arkansas',\n",
       " 'el paso': 'illinois',\n",
       " 'honolulu': 'hawaii',\n",
       " 'mcallen': 'texas',\n",
       " 'albuquerque': 'new mexico',\n",
       " 'birmingham': 'missouri',\n",
       " 'sarasota': 'florida',\n",
       " 'dayton': 'alabama',\n",
       " 'rochester': 'iowa',\n",
       " 'fresno': 'ohio',\n",
       " 'allentown': 'georgia',\n",
       " 'tulsa': 'oklahoma',\n",
       " 'cape coral': 'florida',\n",
       " 'concord': 'kentucky',\n",
       " 'colorado springs': 'colorado',\n",
       " 'charleston': 'utah',\n",
       " 'springfield': 'wisconsin',\n",
       " 'grand rapids': 'ohio',\n",
       " 'mission viejo': 'california',\n",
       " 'albany': 'wyoming',\n",
       " 'knoxville': 'georgia',\n",
       " 'bakersfield': 'missouri',\n",
       " 'ogden': 'arkansas',\n",
       " 'baton rouge': 'louisiana',\n",
       " 'akron': 'alabama',\n",
       " 'new haven': 'iowa',\n",
       " 'columbia': 'virginia',\n",
       " 'mesa': 'california',\n",
       " 'palm bay': 'florida',\n",
       " 'provo': 'utah',\n",
       " 'worcester': 'massachusetts',\n",
       " 'murrieta': 'california',\n",
       " 'greenville': 'iowa',\n",
       " 'wichita': 'kansas',\n",
       " 'toledo': 'washington',\n",
       " 'staten island': 'new york',\n",
       " 'des moines': 'new mexico',\n",
       " 'long beach': 'minnesota',\n",
       " 'port st. lucie': 'florida',\n",
       " 'denton': 'kansas',\n",
       " 'madison': 'maryland',\n",
       " 'reno': 'ohio',\n",
       " 'harrisburg': 'nebraska',\n",
       " 'little rock': 'iowa',\n",
       " 'oakland': 'kentucky',\n",
       " 'durham': 'kansas',\n",
       " 'winston-salem': 'north carolina',\n",
       " 'bonita springs': 'florida',\n",
       " 'indio': 'california',\n",
       " 'palm coast': 'florida',\n",
       " 'chattanooga': 'oklahoma',\n",
       " 'spokane': 'missouri',\n",
       " 'syracuse': 'missouri',\n",
       " 'lancaster': 'virginia',\n",
       " 'arlington': 'arizona',\n",
       " 'stockton': 'maryland',\n",
       " 'poughkeepsie': 'new york',\n",
       " 'augusta': 'missouri',\n",
       " 'boise': 'oklahoma',\n",
       " 'oxnard': 'california',\n",
       " 'scranton': 'arkansas',\n",
       " 'modesto': 'illinois',\n",
       " 'kissimmee': 'florida',\n",
       " 'aurora': 'kansas',\n",
       " 'youngstown': 'pennsylvania',\n",
       " 'fayetteville': 'texas',\n",
       " 'anaheim': 'california',\n",
       " 'pensacola': 'oklahoma',\n",
       " 'victorville': 'california',\n",
       " 'greensboro': 'indiana',\n",
       " 'corpus christi': 'texas',\n",
       " 'fort wayne': 'indiana',\n",
       " 'santa ana': 'california',\n",
       " 'flint': 'michigan',\n",
       " 'jackson': 'nebraska',\n",
       " 'santa rosa': 'arizona',\n",
       " 'lansing': 'minnesota',\n",
       " 'san juan': 'texas',\n",
       " 'lexington': 'georgia',\n",
       " 'ann arbor': 'michigan',\n",
       " 'henderson': 'maryland',\n",
       " 'huntsville': 'ohio',\n",
       " 'mobile': 'texas',\n",
       " 'fort collins': 'colorado',\n",
       " 'asheville': 'north carolina',\n",
       " 'santa clarita': 'california',\n",
       " 'st. paul': 'arkansas',\n",
       " 'antioch': 'ohio',\n",
       " 'lakeland': 'minnesota',\n",
       " 'trenton': 'south carolina',\n",
       " 'lincoln': 'iowa',\n",
       " 'anchorage': 'kentucky',\n",
       " 'plano': 'iowa',\n",
       " 'irvine': 'kentucky',\n",
       " 'davenport': 'north dakota',\n",
       " 'rockford': 'idaho',\n",
       " 'newark': 'missouri',\n",
       " 'south bend': 'nebraska',\n",
       " 'shreveport': 'louisiana',\n",
       " 'round lake beach': 'illinois',\n",
       " 'savannah': 'ohio',\n",
       " 'myrtle beach': 'south carolina',\n",
       " 'chula vista': 'texas',\n",
       " 'eugene': 'missouri',\n",
       " 'canton': 'north dakota',\n",
       " 'lubbock': 'texas',\n",
       " 'reading': 'kansas',\n",
       " 'winter haven': 'florida',\n",
       " 'salem': 'nebraska',\n",
       " 'st. petersburg': 'pennsylvania',\n",
       " 'lafayette': 'kentucky',\n",
       " 'laredo': 'missouri',\n",
       " 'jersey': 'georgia',\n",
       " 'chandler': 'minnesota',\n",
       " 'mckinney': 'kentucky',\n",
       " 'scottsdale': 'arizona',\n",
       " 'killeen': 'texas',\n",
       " 'tallahassee': 'florida',\n",
       " 'peoria': 'oklahoma',\n",
       " 'wilmington': 'illinois',\n",
       " 'montgomery': 'michigan',\n",
       " 'gilbert': 'arkansas',\n",
       " 'glendale': 'south carolina',\n",
       " 'north las vegas': 'nevada',\n",
       " 'chesapeake': 'missouri',\n",
       " 'barnstable': 'massachusetts',\n",
       " 'norfolk': 'nebraska',\n",
       " 'fremont': 'missouri',\n",
       " 'kennewick': 'washington',\n",
       " 'garland': 'wyoming',\n",
       " 'irving': 'illinois',\n",
       " 'visalia': 'california',\n",
       " 'atlantic': 'pennsylvania',\n",
       " 'paradise': 'kansas',\n",
       " 'nashua': 'minnesota',\n",
       " 'hialeah': 'florida',\n",
       " 'york': 'north dakota',\n",
       " 'evansville': 'alaska',\n",
       " 'avondale': 'missouri',\n",
       " 'brownsville': 'maryland',\n",
       " 'gulfport': 'florida',\n",
       " 'appleton': 'missouri',\n",
       " 'bremerton': 'washington',\n",
       " 'hickory': 'oklahoma',\n",
       " 'tacoma': 'washington',\n",
       " 'san bernardino': 'california',\n",
       " 'college station': 'arkansas',\n",
       " 'kalamazoo': 'michigan',\n",
       " 'thousand oaks': 'california',\n",
       " 'roanoke': 'louisiana',\n",
       " 'fontana': 'kansas',\n",
       " 'moreno valley': 'california',\n",
       " 'north port': 'florida',\n",
       " 'fargo': 'arkansas',\n",
       " 'green bay': 'wisconsin',\n",
       " 'spring valley': 'ohio',\n",
       " 'amarillo': 'texas',\n",
       " 'santa barbara': 'california',\n",
       " 'gainesville': 'alabama',\n",
       " 'olympia': 'washington',\n",
       " 'frisco': 'north carolina',\n",
       " 'yonkers': 'new york',\n",
       " 'norwich': 'ohio',\n",
       " 'huntington beach': 'california',\n",
       " 'deltona': 'florida',\n",
       " 'tempe': 'arizona',\n",
       " 'overland park': 'kansas',\n",
       " 'grand prairie': 'texas',\n",
       " 'sunrise manor': 'nevada',\n",
       " 'waco': 'missouri',\n",
       " 'salinas': 'puerto rico',\n",
       " 'waterbury': 'nebraska',\n",
       " 'clarksville': 'pennsylvania',\n",
       " 'cedar rapids': 'nebraska',\n",
       " 'sioux falls': 'south dakota',\n",
       " 'huntington': 'oregon',\n",
       " 'ontario': 'wisconsin',\n",
       " 'hagerstown': 'indiana',\n",
       " 'erie': 'north dakota',\n",
       " 'vancouver': 'washington',\n",
       " 'nampa': 'idaho',\n",
       " 'spartanburg': 'south carolina',\n",
       " 'gastonia': 'north carolina',\n",
       " 'fort lauderdale': 'florida',\n",
       " 'lorain': 'pennsylvania',\n",
       " 'murfreesboro': 'arkansas',\n",
       " 'high point': 'florida',\n",
       " 'newport news': 'virginia',\n",
       " 'rancho cucamonga': 'california',\n",
       " 'hemet': 'california',\n",
       " 'santa cruz': 'arizona',\n",
       " 'danbury': 'nebraska',\n",
       " 'oceanside': 'oregon',\n",
       " 'elk grove': 'california',\n",
       " 'pembroke pines': 'florida',\n",
       " 'vallejo': 'california',\n",
       " 'garden grove': 'iowa',\n",
       " 'enterprise': 'mississippi',\n",
       " 'medford': 'oklahoma',\n",
       " 'cary': 'mississippi',\n",
       " 'marysville': 'montana',\n",
       " 'corona': 'south dakota',\n",
       " 'ocala': 'florida',\n",
       " 'fredericksburg': 'indiana',\n",
       " 'manchester': 'minnesota',\n",
       " 'bayamón': 'puerto rico',\n",
       " 'champaign': 'illinois',\n",
       " 'alexandria': 'missouri',\n",
       " 'hayward': 'missouri',\n",
       " 'lakewood': 'wisconsin',\n",
       " 'frederick': 'kansas',\n",
       " 'lake charles': 'louisiana',\n",
       " 'odessa': 'nebraska',\n",
       " 'tuscaloosa': 'alabama',\n",
       " 'warner robins': 'georgia',\n",
       " 'palmdale': 'pennsylvania',\n",
       " 'hollywood': 'alabama',\n",
       " 'midland': 'virginia',\n",
       " 'leesburg': 'indiana',\n",
       " 'port arthur': 'texas',\n",
       " 'muskegon': 'michigan',\n",
       " 'macon': 'north carolina',\n",
       " 'sunnyvale': 'texas',\n",
       " 'pomona': 'missouri',\n",
       " 'escondido': 'california',\n",
       " 'pasadena': 'maryland',\n",
       " 'new bedford': 'illinois',\n",
       " 'fairfield': 'kentucky',\n",
       " 'naperville': 'illinois',\n",
       " 'bellevue': 'texas',\n",
       " 'binghamton': 'new york',\n",
       " 'elkhart': 'illinois',\n",
       " 'topeka': 'illinois',\n",
       " 'joliet': 'montana',\n",
       " 'beaumont': 'mississippi',\n",
       " 'paterson': 'new jersey',\n",
       " 'merced': 'california',\n",
       " 'pueblo': 'colorado',\n",
       " 'tyler': 'minnesota',\n",
       " 'torrance': 'california',\n",
       " 'yuma': 'colorado',\n",
       " 'metairie': 'louisiana',\n",
       " 'surprise': 'nebraska',\n",
       " 'athens': 'louisiana',\n",
       " 'roseville': 'pennsylvania',\n",
       " 'thornton': 'wisconsin',\n",
       " 'miramar': 'florida',\n",
       " 'mesquite': 'new mexico',\n",
       " 'olathe': 'colorado',\n",
       " 'santa maria': 'texas',\n",
       " 'houma': 'louisiana',\n",
       " 'carrollton': 'mississippi',\n",
       " 'grand junction': 'tennessee',\n",
       " 'orange': 'ohio',\n",
       " 'fullerton': 'north dakota',\n",
       " 'greeley': 'iowa',\n",
       " 'carolina': 'alabama',\n",
       " 'las cruces': 'new mexico',\n",
       " 'panama': 'iowa',\n",
       " 'harlingen': 'new jersey',\n",
       " 'west valley': 'new york',\n",
       " 'hampton': 'nebraska',\n",
       " 'warren': 'texas',\n",
       " 'mauldin': 'south carolina',\n",
       " 'bloomington': 'nebraska',\n",
       " 'coral springs': 'florida',\n",
       " 'round rock': 'arizona',\n",
       " 'yakima': 'washington',\n",
       " 'sterling heights': 'michigan',\n",
       " 'kent': 'iowa',\n",
       " 'burlington': 'west virginia',\n",
       " 'bellingham': 'minnesota',\n",
       " 'santa clara': 'puerto rico',\n",
       " 'racine': 'west virginia',\n",
       " 'stamford': 'nebraska',\n",
       " 'elizabeth': 'minnesota',\n",
       " 'johnson': 'minnesota',\n",
       " 'lynchburg': 'south carolina',\n",
       " 'simi valley': 'california',\n",
       " 'fort smith': 'montana',\n",
       " 'kenosha': 'wisconsin',\n",
       " 'norman': 'nebraska',\n",
       " 'south lyon': 'michigan',\n",
       " 'boulder': 'wyoming',\n",
       " 'abilene': 'kansas',\n",
       " 'lehigh acres': 'florida',\n",
       " 'pearland': 'texas',\n",
       " 'berkeley': 'illinois',\n",
       " 'richardson': 'texas',\n",
       " 'redding': 'iowa',\n",
       " 'arvada': 'wyoming',\n",
       " 'east los angeles': 'california',\n",
       " 'st. george': 'alaska',\n",
       " 'billings': 'oklahoma',\n",
       " 'yuba': 'wisconsin',\n",
       " 'leominster': 'massachusetts',\n",
       " 'kingsport': 'tennessee',\n",
       " 'duluth': 'washington',\n",
       " 'rock hill': 'louisiana',\n",
       " 'gilroy': 'california',\n",
       " 'cambridge': 'kansas',\n",
       " 'sugar land': 'texas',\n",
       " 'texas': 'texas',\n",
       " 'iowa': 'louisiana',\n",
       " 'saginaw': 'missouri',\n",
       " 'chico': 'texas',\n",
       " 'dover': 'missouri',\n",
       " 'clearwater': 'nebraska',\n",
       " \"coeur d'alene\": 'idaho',\n",
       " 'seaside': 'oregon',\n",
       " 'independence': 'utah',\n",
       " 'west jordan': 'utah',\n",
       " 'brandon': 'colorado',\n",
       " 'el monte': 'california',\n",
       " 'north charleston': 'south carolina',\n",
       " 'carlsbad': 'texas',\n",
       " 'st. cloud': 'missouri',\n",
       " 'temecula': 'california',\n",
       " 'clovis': 'new mexico',\n",
       " 'meridian': 'oklahoma',\n",
       " 'the woodlands': 'texas',\n",
       " 'ponce': 'puerto rico',\n",
       " 'westminster': 'ohio',\n",
       " 'costa mesa': 'california',\n",
       " 'monroe': 'south dakota',\n",
       " 'utica': 'south dakota',\n",
       " 'pompano beach': 'florida',\n",
       " 'west palm beach': 'florida',\n",
       " 'waterloo': 'south carolina',\n",
       " 'everett': 'pennsylvania',\n",
       " 'el centro': 'california',\n",
       " 'santa fe': 'texas',\n",
       " 'downey': 'idaho',\n",
       " 'spring hill': 'iowa',\n",
       " 'lowell': 'wisconsin',\n",
       " 'centennial': 'wyoming',\n",
       " 'elgin': 'ohio',\n",
       " 'broken arrow': 'oklahoma',\n",
       " 'miami gardens': 'florida',\n",
       " 'bend': 'california',\n",
       " 'jurupa valley': 'california',\n",
       " 'sandy springs': 'georgia',\n",
       " 'gresham': 'nebraska',\n",
       " 'lewisville': 'ohio',\n",
       " 'hillsboro': 'new mexico',\n",
       " 'san buenaventura': 'california',\n",
       " 'pottstown': 'pennsylvania',\n",
       " 'inglewood': 'nebraska',\n",
       " 'league': 'texas',\n",
       " 'eau claire': 'pennsylvania',\n",
       " 'turlock': 'california',\n",
       " 'temple': 'oklahoma',\n",
       " 'sioux': 'iowa',\n",
       " 'salisbury': 'pennsylvania',\n",
       " 'davie': 'florida',\n",
       " 'daly': 'california',\n",
       " 'highlands ranch': 'colorado',\n",
       " 'allen': 'kentucky',\n",
       " 'west covina': 'california',\n",
       " 'sparks': 'oklahoma',\n",
       " 'wichita falls': 'texas',\n",
       " 'san mateo': 'new mexico',\n",
       " 'norwalk': 'wisconsin',\n",
       " 'rialto': 'california',\n",
       " 'manteca': 'california',\n",
       " 'arden-arcade': 'california',\n",
       " 'el cajon': 'california',\n",
       " 'burbank': 'oklahoma',\n",
       " 'longmont': 'colorado',\n",
       " 'renton': 'washington',\n",
       " 'vista': 'missouri',\n",
       " 'logan': 'montana',\n",
       " 'prescott valley': 'arizona',\n",
       " 'vacaville': 'california',\n",
       " 'edinburg': 'missouri',\n",
       " 'carmel': 'indiana',\n",
       " 'spokane valley': 'washington',\n",
       " 'san angelo': 'texas',\n",
       " 'la crosse': 'florida',\n",
       " 'idaho falls': 'idaho',\n",
       " 'holland': 'minnesota',\n",
       " 'charlottesville': 'virginia',\n",
       " 'longview': 'illinois',\n",
       " 'tracy': 'missouri',\n",
       " 'boca raton': 'florida',\n",
       " \"lee's summit\": 'missouri',\n",
       " 'rio rancho': 'new mexico',\n",
       " 'south fulton': 'tennessee',\n",
       " 'beaverton': 'alabama',\n",
       " 'lawrence': 'nebraska',\n",
       " 'bismarck': 'illinois',\n",
       " 'orem': 'utah',\n",
       " 'middletown': 'missouri',\n",
       " 'san tan valley': 'arizona',\n",
       " 'san marcos': 'texas',\n",
       " 'sandy': 'oregon',\n",
       " 'federal way': 'washington',\n",
       " 'mandeville': 'louisiana',\n",
       " 'hesperia': 'michigan',\n",
       " 'brockton': 'montana',\n",
       " 'compton': 'illinois',\n",
       " 'riverview': 'alabama',\n",
       " 'fishers': 'indiana',\n",
       " 'sunrise': 'alaska',\n",
       " 'bowling green': 'virginia',\n",
       " 'roswell': 'ohio',\n",
       " 'menifee': 'arkansas',\n",
       " 'plantation': 'kentucky',\n",
       " 'quincy': 'ohio',\n",
       " 'portsmouth': 'iowa',\n",
       " 'chino': 'california',\n",
       " 'lynn': 'colorado',\n",
       " 'edmond': 'kansas',\n",
       " 'hanford': 'california',\n",
       " 'dearborn': 'missouri',\n",
       " 'livonia': 'missouri',\n",
       " 'south gate': 'california',\n",
       " 'vineland': 'colorado',\n",
       " 'florence': 'indiana',\n",
       " 'slidell': 'louisiana',\n",
       " 'lawton': 'north dakota',\n",
       " 'kirkland': 'illinois',\n",
       " 'missoula': 'montana',\n",
       " 'auburn': 'north dakota',\n",
       " 'rapid': 'michigan',\n",
       " 'terre haute': 'indiana',\n",
       " 'suffolk': 'virginia',\n",
       " 'blacksburg': 'south carolina',\n",
       " 'mount pleasant': 'arkansas',\n",
       " 'carson': 'north dakota',\n",
       " 'conroe': 'texas',\n",
       " 'alafaya': 'florida',\n",
       " 'livermore': 'iowa',\n",
       " 'germantown': 'kentucky',\n",
       " 'santa monica': 'california',\n",
       " 'new braunfels': 'texas',\n",
       " 'fall river': 'kansas',\n",
       " 'miami beach': 'florida',\n",
       " 'san leandro': 'california',\n",
       " \"o'fallon\": 'illinois',\n",
       " 'newton': 'georgia',\n",
       " 'muncie': 'illinois',\n",
       " 'citrus heights': 'california',\n",
       " 'state college': 'pennsylvania',\n",
       " \"town 'n' country\": 'florida',\n",
       " 'decatur': 'iowa',\n",
       " 'fort myers': 'florida',\n",
       " 'goodyear': 'arizona',\n",
       " 'dalton': 'missouri',\n",
       " 'bryan': 'ohio',\n",
       " 'waukegan': 'illinois',\n",
       " 'hawthorne': 'florida',\n",
       " 'anderson': 'iowa',\n",
       " 'redwood': 'new york',\n",
       " 'hoover': 'alabama',\n",
       " 'lake forest': 'illinois',\n",
       " 'napa': 'california',\n",
       " 'whittier': 'alaska',\n",
       " 'clifton': 'ohio',\n",
       " 'largo': 'maryland',\n",
       " 'johns creek': 'georgia',\n",
       " 'newport beach': 'california',\n",
       " 'mission': 'oregon',\n",
       " 'milpitas': 'california',\n",
       " 'troy': 'south carolina',\n",
       " 'madera': 'california',\n",
       " 'joplin': 'montana',\n",
       " 'chino hills': 'california',\n",
       " 'alhambra': 'illinois',\n",
       " 'franklin': 'arizona',\n",
       " 'melbourne': 'kentucky',\n",
       " 'port huron': 'michigan',\n",
       " 'mountain view': 'new mexico',\n",
       " 'zephyrhills': 'florida',\n",
       " 'st. augustine': 'illinois',\n",
       " 'flagstaff': 'arizona',\n",
       " 'buena park': 'california',\n",
       " 'pleasanton': 'iowa',\n",
       " 'silver spring': 'maryland',\n",
       " 'atascocita': 'texas',\n",
       " 'westland': 'pennsylvania',\n",
       " 'cranston': 'rhode island',\n",
       " 'somerville': 'indiana',\n",
       " 'folsom': 'new mexico',\n",
       " 'springdale': 'montana',\n",
       " 'deerfield beach': 'florida',\n",
       " 'warwick': 'north dakota',\n",
       " 'cicero': 'indiana',\n",
       " 'farmington hills': 'michigan',\n",
       " 'williamsburg': 'kansas',\n",
       " 'brooklyn park': 'maryland',\n",
       " 'hattiesburg': 'mississippi',\n",
       " 'valdosta': 'georgia',\n",
       " 'plymouth': 'iowa',\n",
       " 'buckeye': 'iowa',\n",
       " 'georgetown': 'maryland',\n",
       " 'cheyenne': 'oklahoma',\n",
       " 'cedar park': 'texas',\n",
       " 'the villages': 'florida',\n",
       " 'kokomo': 'indiana',\n",
       " 'tustin': 'wisconsin',\n",
       " 'perris': 'california',\n",
       " 'st. joseph': 'iowa',\n",
       " 'flower mound': 'texas',\n",
       " 'pharr': 'texas',\n",
       " 'pine hills': 'california',\n",
       " 'alton': 'indiana',\n",
       " 'loveland': 'oklahoma',\n",
       " 'boynton beach': 'florida',\n",
       " 'new rochelle': 'new york',\n",
       " 'jonesboro': 'indiana',\n",
       " 'lebanon': 'south dakota',\n",
       " 'parma': 'missouri',\n",
       " 'layton': 'florida',\n",
       " 'elizabethtown': 'illinois',\n",
       " 'texarkana': 'arkansas',\n",
       " 'alameda': 'california',\n",
       " 'kankakee': 'illinois',\n",
       " 'watsonville': 'california',\n",
       " 'porterville': 'california',\n",
       " 'baytown': 'texas',\n",
       " 'upland': 'nebraska',\n",
       " 'davis': 'south dakota',\n",
       " 'camarillo': 'california',\n",
       " 'south jordan': 'utah',\n",
       " 'battle creek': 'iowa',\n",
       " 'bellflower': 'illinois',\n",
       " 'san ramon': 'california',\n",
       " 'lake jackson': 'texas',\n",
       " 'bethlehem': 'georgia',\n",
       " 'wyoming': 'rhode island',\n",
       " 'oshkosh': 'nebraska',\n",
       " 'hammond': 'minnesota',\n",
       " 'waldorf': 'minnesota',\n",
       " 'missouri': 'missouri',\n",
       " 'pasco': 'washington',\n",
       " 'wheeling': 'missouri',\n",
       " 'kendall': 'washington',\n",
       " 'baldwin park': 'missouri',\n",
       " 'rancho cordova': 'california',\n",
       " 'conway': 'north dakota',\n",
       " 'gary': 'minnesota',\n",
       " 'altoona': 'washington',\n",
       " 'lodi': 'ohio',\n",
       " 'arlington heights': 'ohio',\n",
       " 'bolingbrook': 'illinois',\n",
       " 'rochester hills': 'michigan',\n",
       " 'winchester': 'arkansas',\n",
       " 'framingham': 'massachusetts',\n",
       " 'hilton head island': 'south carolina',\n",
       " 'centreville': 'michigan',\n",
       " 'union': 'new hampshire',\n",
       " 'owensboro': 'kentucky',\n",
       " 'wausau': 'florida',\n",
       " 'camden': 'illinois',\n",
       " 'anniston': 'missouri',\n",
       " 'evanston': 'wyoming',\n",
       " 'apple valley': 'utah',\n",
       " 'mansfield': 'south dakota',\n",
       " 'caguas': 'puerto rico',\n",
       " 'schaumburg': 'illinois',\n",
       " 'pocatello': 'idaho',\n",
       " 'woodbury': 'kentucky',\n",
       " 'southfield': 'michigan',\n",
       " 'ellicott': 'colorado',\n",
       " 'dale': 'oklahoma',\n",
       " 'maple grove': 'michigan',\n",
       " 'pittsburg': 'oklahoma',\n",
       " 'new britain': 'connecticut',\n",
       " 'morgantown': 'pennsylvania',\n",
       " 'dothan': 'alabama',\n",
       " 'harrisonburg': 'louisiana',\n",
       " 'wenatchee': 'washington',\n",
       " 'waukesha': 'wisconsin',\n",
       " 'pawtucket': 'rhode island',\n",
       " 'redmond': 'utah',\n",
       " 'lauderhill': 'florida',\n",
       " 'sumter': 'south carolina',\n",
       " 'redlands': 'colorado',\n",
       " 'daphne': 'alabama',\n",
       " 'mount vernon': 'arkansas',\n",
       " 'weston': 'colorado',\n",
       " 'st. charles': 'south dakota',\n",
       " 'janesville': 'iowa',\n",
       " 'sherman': 'south dakota',\n",
       " 'north richland hills': 'texas',\n",
       " 'broomfield': 'colorado',\n",
       " 'el paso de robles': 'california',\n",
       " 'bristol': 'south dakota',\n",
       " 'casas adobes': 'arizona',\n",
       " 'walnut creek': 'arizona',\n",
       " 'poinciana': 'florida',\n",
       " 'lynwood': 'illinois',\n",
       " 'glen burnie': 'maryland',\n",
       " 'lehi': 'utah',\n",
       " 'passaic': 'missouri',\n",
       " 'homestead': 'new mexico',\n",
       " 'west bend': 'iowa',\n",
       " 'delray beach': 'florida',\n",
       " 'sheboygan': 'wisconsin',\n",
       " 'lake elsinore': 'california',\n",
       " 'daytona beach': 'florida',\n",
       " 'los lunas': 'new mexico',\n",
       " 'lima': 'oklahoma',\n",
       " 'rocklin': 'california',\n",
       " 'rogers': 'north dakota',\n",
       " 'castle rock': 'washington',\n",
       " 'hanover': 'wisconsin',\n",
       " 'bossier': 'louisiana',\n",
       " 'dubuque': 'iowa',\n",
       " 'rockville': 'alabama',\n",
       " 'victoria': 'arkansas',\n",
       " 'saratoga springs': 'utah',\n",
       " 'guaynabo': 'puerto rico',\n",
       " 'gaithersburg': 'maryland',\n",
       " 'ames': 'new york',\n",
       " 'west des moines': 'iowa',\n",
       " 'south san francisco': 'california',\n",
       " 'yorba linda': 'california',\n",
       " 'casper': 'wyoming',\n",
       " 'palatine': 'illinois',\n",
       " 'corvallis': 'montana',\n",
       " 'ankeny': 'iowa',\n",
       " 'rowlett': 'texas',\n",
       " 'lakeville': 'indiana',\n",
       " 'alpharetta': 'georgia',\n",
       " 'dekalb': 'illinois',\n",
       " 'petaluma': 'california',\n",
       " 'redondo beach': 'california',\n",
       " 'tamarac': 'florida',\n",
       " 'laguna niguel': 'california',\n",
       " 'eagan': 'minnesota',\n",
       " 'kenner': 'louisiana',\n",
       " 'bay': 'wisconsin',\n",
       " 'north little rock': 'arkansas',\n",
       " 'sammamish': 'washington',\n",
       " 'shawnee': 'ohio',\n",
       " 'jupiter': 'florida',\n",
       " 'doral': 'florida',\n",
       " 'florence-graham': 'california',\n",
       " 'carbondale': 'kansas',\n",
       " 'blaine': 'kentucky',\n",
       " 'weirton': 'west virginia',\n",
       " 'tulare': 'south dakota',\n",
       " 'wellington': 'illinois',\n",
       " 'pflugerville': 'texas',\n",
       " 'palo alto': 'pennsylvania',\n",
       " 'schenectady': 'new york',\n",
       " 'great falls': 'south carolina',\n",
       " 'michigan': 'north dakota',\n",
       " 'bayonne': 'new jersey',\n",
       " 'eden prairie': 'minnesota',\n",
       " 'port orange': 'florida',\n",
       " 'dublin': 'north carolina',\n",
       " 'grand forks': 'north dakota',\n",
       " 'noblesville': 'indiana',\n",
       " 'san clemente': 'california',\n",
       " 'brentwood': 'maryland',\n",
       " 'carmichael': 'california',\n",
       " 'east orange': 'new jersey',\n",
       " 'eastvale': 'pennsylvania',\n",
       " 'chapel hill': 'tennessee',\n",
       " 'rocky mount': 'virginia',\n",
       " 'haverhill': 'iowa',\n",
       " 'beloit': 'ohio',\n",
       " 'glens falls': 'new york',\n",
       " 'fairbanks': 'alaska',\n",
       " 'bethesda': 'ohio',\n",
       " 'johnstown': 'nebraska',\n",
       " 'dundalk': 'maryland',\n",
       " 'castro valley': 'california',\n",
       " 'coon rapids': 'iowa',\n",
       " 'elmira': 'missouri',\n",
       " 'mankato': 'kansas',\n",
       " 'north miami': 'oklahoma',\n",
       " 'encinitas': 'california',\n",
       " 'skokie': 'illinois',\n",
       " 'leander': 'texas',\n",
       " 'parkersburg': 'illinois',\n",
       " 'waltham': 'minnesota',\n",
       " 'port charlotte': 'florida',\n",
       " 'palm harbor': 'florida',\n",
       " 'san luis obispo': 'california',\n",
       " 'sebring': 'ohio',\n",
       " 'council bluffs': 'iowa',\n",
       " 'hamilton': 'north dakota',\n",
       " 'moore': 'idaho',\n",
       " 'pico rivera': 'california',\n",
       " 'casa grande': 'arizona',\n",
       " 'monessen': 'pennsylvania',\n",
       " 'montebello': 'new york',\n",
       " 'rome': 'ohio',\n",
       " 'the hammocks': 'florida',\n",
       " 'millcreek': 'utah',\n",
       " 'sanford': 'virginia',\n",
       " 'national': 'maryland',\n",
       " 'mayagüez': 'puerto rico',\n",
       " 'burnsville': 'west virginia',\n",
       " 'coconut creek': 'florida',\n",
       " 'morristown': 'south dakota',\n",
       " 'reston': 'virginia',\n",
       " 'spring': 'utah',\n",
       " 'gadsden': 'tennessee',\n",
       " 'taylor': 'wyoming',\n",
       " 'novi': 'michigan',\n",
       " 'marietta': 'illinois',\n",
       " 'hot springs': 'virginia',\n",
       " 'woodland': 'maryland',\n",
       " 'fountainebleau': 'florida',\n",
       " 'la habra': 'california',\n",
       " 'malden': 'washington',\n",
       " 'south whittier': 'california',\n",
       " 'commerce': 'missouri',\n",
       " 'south hill': 'virginia',\n",
       " 'west allis': 'wisconsin',\n",
       " 'taylorsville': 'california',\n",
       " 'bangor': 'california',\n",
       " 'monterey park': 'new mexico',\n",
       " 'greenwood': 'illinois',\n",
       " 'bartlett': 'iowa',\n",
       " 'bradenton': 'florida',\n",
       " 'pontiac': 'missouri',\n",
       " 'staunton': 'indiana',\n",
       " 'meriden': 'iowa',\n",
       " 'gardena': 'north dakota',\n",
       " 'apex': 'north carolina',\n",
       " 'royal oak': 'michigan',\n",
       " 'cupertino': 'california',\n",
       " 'la mesa': 'new mexico',\n",
       " 'benton harbor': 'michigan',\n",
       " 'st. clair shores': 'michigan',\n",
       " 'des plaines': 'illinois',\n",
       " 'lewiston': 'nebraska',\n",
       " 'margate': 'new jersey',\n",
       " 'bowie': 'arizona',\n",
       " 'caldwell': 'arkansas',\n",
       " 'san rafael': 'new mexico',\n",
       " 'richland': 'nebraska',\n",
       " 'st. peters': 'missouri',\n",
       " 'wesley chapel': 'north carolina',\n",
       " 'hendersonville': 'pennsylvania',\n",
       " 'white plains': 'georgia',\n",
       " 'huntersville': 'west virginia',\n",
       " 'santee': 'nebraska',\n",
       " 'jefferson': 'oklahoma',\n",
       " 'beckley': 'west virginia',\n",
       " 'arcadia': 'michigan',\n",
       " 'titusville': 'new york',\n",
       " 'cartersville': 'georgia',\n",
       " 'walla walla': 'washington',\n",
       " 'orland park': 'illinois',\n",
       " 'towson': 'maryland',\n",
       " 'weymouth': 'massachusetts',\n",
       " 'parker': 'washington',\n",
       " 'palm beach gardens': 'florida',\n",
       " 'bozeman': 'montana',\n",
       " 'east stroudsburg': 'pennsylvania',\n",
       " 'huntington park': 'california',\n",
       " 'taunton': 'minnesota',\n",
       " 'midwest': 'wyoming',\n",
       " 'goldsboro': 'maryland',\n",
       " 'euless': 'texas',\n",
       " 'shoreline': 'washington',\n",
       " 'lake havasu': 'arizona',\n",
       " 'smyrna': 'south carolina',\n",
       " 'cape girardeau': 'missouri',\n",
       " 'tamiami': 'florida',\n",
       " 'kendale lakes': 'florida',\n",
       " 'grants pass': 'oregon',\n",
       " 'blue springs': 'alabama',\n",
       " 'southaven': 'mississippi',\n",
       " 'tinley park': 'illinois',\n",
       " 'diamond bar': 'california',\n",
       " 'pittsfield': 'illinois',\n",
       " 'eagle pass': 'texas',\n",
       " 'new brunswick': 'new jersey',\n",
       " 'lenexa': 'kansas',\n",
       " 'hazleton': 'indiana',\n",
       " 'twin falls': 'idaho',\n",
       " 'brookhaven': 'west virginia',\n",
       " 'novato': 'california',\n",
       " 'tigard': 'oregon',\n",
       " 'highland': 'ohio',\n",
       " 'fountain valley': 'california',\n",
       " 'dearborn heights': 'michigan',\n",
       " 'grapevine': 'texas',\n",
       " 'fond du lac': 'wisconsin',\n",
       " 'hacienda heights': 'california',\n",
       " 'ithaca': 'ohio',\n",
       " 'chicopee': 'kansas',\n",
       " 'oak lawn': 'illinois',\n",
       " 'cathedral': 'colorado',\n",
       " 'delano': 'minnesota',\n",
       " 'bentonville': 'ohio',\n",
       " 'stonecrest': 'georgia',\n",
       " 'kettering': 'maryland',\n",
       " 'colton': 'washington',\n",
       " 'kingston': 'new mexico',\n",
       " 'west haven': 'utah',\n",
       " 'normal': 'illinois',\n",
       " 'berwyn': 'nebraska',\n",
       " 'milford': 'missouri',\n",
       " 'aloha': 'oregon',\n",
       " 'arroyo grande': 'california',\n",
       " 'minnetonka': 'minnesota',\n",
       " 'rosemead': 'california',\n",
       " 'paramount': 'california',\n",
       " 'yucaipa': 'california',\n",
       " 'brunswick': 'nebraska',\n",
       " 'williamsport': 'ohio',\n",
       " 'elyria': 'nebraska',\n",
       " 'mount prospect': 'illinois',\n",
       " 'pinellas park': 'florida',\n",
       " 'west sacramento': 'california',\n",
       " 'apopka': 'florida',\n",
       " 'grand island': 'nebraska',\n",
       " 'palm desert': 'california',\n",
       " 'watertown': 'tennessee',\n",
       " 'little elm': 'texas',\n",
       " 'chambersburg': 'pennsylvania',\n",
       " 'revere': 'missouri',\n",
       " 'peabody': 'kansas',\n",
       " 'wylie': 'texas',\n",
       " 'beaufort': 'north carolina',\n",
       " 'aspen hill': 'maryland',\n",
       " 'desoto': 'texas',\n",
       " 'helena': 'ohio',\n",
       " 'edina': 'missouri',\n",
       " 'wheaton': 'kansas',\n",
       " 'west new york': 'new jersey',\n",
       " 'hoboken': 'georgia',\n",
       " 'lacey': 'washington',\n",
       " 'summerville': 'oregon',\n",
       " 'oak park': 'georgia',\n",
       " 'maricopa': 'california',\n",
       " 'lompoc': 'california',\n",
       " 'kentwood': 'louisiana',\n",
       " 'levittown': 'puerto rico',\n",
       " 'sierra vista': 'arizona',\n",
       " 'glendora': 'mississippi',\n",
       " 'burien': 'washington',\n",
       " 'perth amboy': 'new jersey',\n",
       " 'herriman': 'utah',\n",
       " 'farmington': 'delaware',\n",
       " 'new bern': 'north carolina',\n",
       " 'placentia': 'california',\n",
       " 'hinesville': 'georgia',\n",
       " 'collierville': 'california',\n",
       " 'west lafayette': 'ohio',\n",
       " 'florissant': 'colorado',\n",
       " 'hoffman estates': 'illinois',\n",
       " 'queen creek': 'arizona',\n",
       " 'aliso viejo': 'california',\n",
       " 'kannapolis': 'north carolina',\n",
       " 'methuen town': 'massachusetts',\n",
       " 'sahuarita': 'arizona',\n",
       " 'traverse': 'michigan',\n",
       " 'severn': 'north carolina',\n",
       " 'catalina foothills': 'arizona',\n",
       " 'galveston': 'indiana',\n",
       " 'country club': 'missouri',\n",
       " 'cookeville': 'tennessee',\n",
       " 'mishawaka': 'indiana',\n",
       " 'rowland heights': 'california',\n",
       " 'plainfield': 'ohio',\n",
       " 'bullhead': 'south dakota',\n",
       " 'stillwater': 'pennsylvania',\n",
       " 'forney': 'texas',\n",
       " 'azusa': 'california',\n",
       " 'north bethesda': 'maryland',\n",
       " 'cerritos': 'california',\n",
       " 'ashburn': 'georgia',\n",
       " 'bloomsburg': 'pennsylvania',\n",
       " 'morehead': 'kentucky',\n",
       " 'coral gables': 'florida',\n",
       " 'enid': 'oklahoma',\n",
       " 'oroville': 'washington',\n",
       " 'wilson': 'missouri',\n",
       " 'portage': 'utah',\n",
       " 'minot': 'north dakota',\n",
       " 'dunwoody': 'georgia',\n",
       " 'poway': 'california',\n",
       " 'san jacinto': 'california',\n",
       " 'cuyahoga falls': 'ohio',\n",
       " 'downers grove': 'illinois',\n",
       " 'bedford': 'wyoming',\n",
       " 'reedley': 'california',\n",
       " 'marana': 'arizona',\n",
       " 'cypress': 'illinois',\n",
       " 'hollister': 'oklahoma',\n",
       " 'murray': 'ohio',\n",
       " 'pascagoula': 'mississippi',\n",
       " 'tuckahoe': 'new york',\n",
       " 'ceres': 'california',\n",
       " 'st. louis park': 'minnesota',\n",
       " 'rio grande': 'ohio',\n",
       " 'draper': 'south dakota',\n",
       " 'palm springs': 'florida',\n",
       " 'paducah': 'texas',\n",
       " 'findlay': 'illinois',\n",
       " 'university': 'mississippi',\n",
       " 'bel air south': 'maryland',\n",
       " 'antelope': 'oregon',\n",
       " 'kyle': 'south dakota',\n",
       " 'ocoee': 'florida',\n",
       " 'burleson': 'texas',\n",
       " 'la mirada': 'california',\n",
       " 'farmers branch': 'texas',\n",
       " 'east lansing': 'michigan',\n",
       " 'uniontown': 'kansas',\n",
       " 'jeffersonville': 'new york',\n",
       " 'winder': 'georgia',\n",
       " 'wauwatosa': 'wisconsin',\n",
       " 'littleton': 'west virginia',\n",
       " 'cumberland': 'iowa',\n",
       " 'cedar hill': 'tennessee',\n",
       " 'rancho santa margarita': 'california',\n",
       " 'beavercreek': 'oregon',\n",
       " 'niagara falls': 'new york',\n",
       " 'mclean': 'nebraska',\n",
       " 'north highlands': 'california',\n",
       " 'east providence': 'rhode island',\n",
       " 'florin': 'california',\n",
       " 'east honolulu': 'hawaii',\n",
       " 'chesterfield': 'illinois',\n",
       " 'covina': 'california',\n",
       " 'bothell': 'washington',\n",
       " 'glenview': 'kentucky',\n",
       " 'mentor': 'minnesota',\n",
       " 'keller': 'virginia',\n",
       " 'danville': 'missouri',\n",
       " 'elmhurst': 'illinois',\n",
       " 'new philadelphia': 'pennsylvania',\n",
       " 'sandusky': 'michigan',\n",
       " 'el dorado hills': 'california',\n",
       " 'salina': 'oklahoma',\n",
       " 'euclid': 'ohio',\n",
       " 'kingman': 'indiana',\n",
       " 'weatherford': 'oklahoma',\n",
       " 'roseburg': 'oregon',\n",
       " 'biloxi': 'mississippi',\n",
       " 'leavenworth': 'indiana',\n",
       " 'fort pierce': 'florida',\n",
       " 'winter garden': 'florida',\n",
       " ...}"
      ]
     },
     "execution_count": 158,
     "metadata": {},
     "output_type": "execute_result"
    }
   ],
   "source": [
    "city_table_raw = pd.read_csv('../../Paper data/simplemaps_uscities_basicv1.74/uscities.csv')  \n",
    "city_table_raw = city_table_raw.replace('hawaiʻi','hawaii')\n",
    "city_list_lower = []\n",
    "city_list_lower_state = []\n",
    "for i,c in city_table_raw.iterrows():\n",
    "    city = c[0].lower()\n",
    "    city = city.replace('city','').strip()\n",
    "    city = city.replace(u'\\xf1', u' ')\n",
    "    city_list_lower.append(city)\n",
    "    city_list_lower_state.append(c[3].lower())\n",
    "\n",
    "city_dict = dict(zip(city_list_lower,city_list_lower_state))\n",
    "dict(list(city_dict.items()))"
   ]
  },
  {
   "cell_type": "code",
   "execution_count": 159,
   "id": "eabb0d3a",
   "metadata": {},
   "outputs": [],
   "source": [
    "city_list = list(city_dict.keys())\n",
    "\n",
    "textfile = open(\"city_list.txt\", \"w\")\n",
    "for element in city_list:\n",
    "    textfile.write(element + \", \")\n",
    "textfile.close()"
   ]
  },
  {
   "cell_type": "markdown",
   "id": "52aacd9e",
   "metadata": {},
   "source": [
    "## 1.3 Construct the lowercase county-state dictionary"
   ]
  },
  {
   "cell_type": "code",
   "execution_count": 160,
   "id": "c174986b",
   "metadata": {},
   "outputs": [],
   "source": [
    "county_table_raw = pd.read_excel('../../Paper data/county list.xlsx', index_col=0) \n",
    "county_table_raw = county_table_raw.replace('hawaiʻi','hawaii') "
   ]
  },
  {
   "cell_type": "code",
   "execution_count": 161,
   "id": "1fdb1b5b",
   "metadata": {},
   "outputs": [
    {
     "data": {
      "text/plain": [
       "{'cleburne': 'arkansas',\n",
       " 'coffee': 'tennessee',\n",
       " 'colbert': 'alabama',\n",
       " 'conecuh': 'alabama',\n",
       " 'coosa': 'alabama'}"
      ]
     },
     "execution_count": 161,
     "metadata": {},
     "output_type": "execute_result"
    }
   ],
   "source": [
    "# Filling missing states\n",
    "states = []\n",
    "for i,row in county_table_raw.iterrows():\n",
    "    if row[0] == row[0]:\n",
    "        state = row[0]\n",
    "        state = state.replace(u'\\xa0', u' ')\n",
    "    states.append(state.strip())\n",
    "county_table_raw['state_filled'] = states\n",
    "\n",
    "# Lowercase county and state\n",
    "county_list = list(county_table_raw.index)\n",
    "county_list_state = list(county_table_raw['state_filled'])\n",
    "county_list_lower = []\n",
    "county_list_lower_state = []\n",
    "for c in county_list:\n",
    "    if ',' in c:\n",
    "        c = c.rpartition(',')[0]\n",
    "    while '[' in c:\n",
    "        c = c.rpartition('[')[0]\n",
    "    county_list_lower.append(c.strip().lower())\n",
    "for c in county_list_state:\n",
    "    county_list_lower_state.append(c.lower())\n",
    "\n",
    "county_dict = dict(zip(county_list_lower,county_list_lower_state))\n",
    "county_dict.pop('new york',None)\n",
    "dict(list(county_dict.items())[14:19])"
   ]
  },
  {
   "cell_type": "markdown",
   "id": "bb3edc53",
   "metadata": {},
   "source": [
    "## 1.4 The state abb list"
   ]
  },
  {
   "cell_type": "code",
   "execution_count": 162,
   "id": "16a29288",
   "metadata": {},
   "outputs": [],
   "source": [
    "state_table = pd.read_excel('../../Paper data/state list.xlsx', index_col=0)  \n",
    "state_table = state_table.replace('hawaiʻi','hawaii') \n",
    "\n",
    "state_name_list = list(state_table.index)\n",
    "state_name_list_lower = []\n",
    "for c in state_name_list:\n",
    "    state_name_list_lower.append(c.strip().lower())\n",
    "\n",
    "state_abb_list = list(state_table['state abb'])\n",
    "state_abb_list_lower = []\n",
    "for c in state_abb_list:\n",
    "    state_abb_list_lower.append(c.strip().lower())\n",
    "\n",
    "state_dict = dict(zip(state_abb_list_lower,state_name_list_lower))"
   ]
  },
  {
   "cell_type": "markdown",
   "id": "36690ede",
   "metadata": {},
   "source": [
    "# 2 Read the twitter data"
   ]
  },
  {
   "cell_type": "code",
   "execution_count": 3,
   "id": "a7021ef3",
   "metadata": {},
   "outputs": [],
   "source": [
    "tweets_df_1 = pd.read_csv(\"../tweets scrapping/tweets_already_scrapped.csv\")\n",
    "tweets_df_2 = pd.read_csv(\"../tweets scrapping/tweets_df_final_1.csv\")\n",
    "tweets_df = pd.concat([tweets_df_1,tweets_df_2],ignore_index=True)\n",
    "tweets_df = tweets_df.drop(['Unnamed: 0.1','Unnamed: 0'],axis=1)"
   ]
  },
  {
   "cell_type": "code",
   "execution_count": 4,
   "id": "80fea472",
   "metadata": {},
   "outputs": [
    {
     "data": {
      "text/plain": [
       "1516565"
      ]
     },
     "execution_count": 4,
     "metadata": {},
     "output_type": "execute_result"
    }
   ],
   "source": [
    "len(tweets_df)"
   ]
  },
  {
   "cell_type": "code",
   "execution_count": 10,
   "id": "6fa79335",
   "metadata": {},
   "outputs": [],
   "source": [
    "pd.Series(collections.Counter(tweets_df['Keyword'])).to_csv('Distribution of terms.csv')"
   ]
  },
  {
   "cell_type": "markdown",
   "id": "664c1af7",
   "metadata": {},
   "source": [
    "# 3 Retrive user location information"
   ]
  },
  {
   "cell_type": "markdown",
   "id": "05d93a2b",
   "metadata": {},
   "source": [
    "## 3.1 A dictionary of unique location county/city-state pair"
   ]
  },
  {
   "cell_type": "code",
   "execution_count": 163,
   "id": "a79ecf13",
   "metadata": {},
   "outputs": [
    {
     "name": "stdout",
     "output_type": "stream",
     "text": [
      "0\n",
      "165\n"
     ]
    }
   ],
   "source": [
    "county_dict_unique = dict()\n",
    "repeated_keys = []\n",
    "for county,state in county_dict.items():\n",
    "    if county in county_dict_unique.keys():\n",
    "        repeated_keys.append(county)\n",
    "    else:\n",
    "        county_dict_unique[county] = state\n",
    "\n",
    "print(len(repeated_keys))\n",
    "\n",
    "for city,state in city_dict_small.items():\n",
    "    if city in county_dict_unique.keys():\n",
    "        repeated_keys.append(city)\n",
    "\n",
    "print(len(repeated_keys))\n",
    "\n",
    "repeated_keys_set = set(repeated_keys)\n",
    "\n",
    "for key in repeated_keys_set:\n",
    "    county_dict_unique.pop(key,None)"
   ]
  },
  {
   "cell_type": "code",
   "execution_count": 164,
   "id": "1375f82c",
   "metadata": {},
   "outputs": [
    {
     "name": "stdout",
     "output_type": "stream",
     "text": [
      "1962 1797\n"
     ]
    }
   ],
   "source": [
    "print(len(county_dict),len(county_dict_unique))"
   ]
  },
  {
   "cell_type": "code",
   "execution_count": 165,
   "id": "c0c8d02a",
   "metadata": {},
   "outputs": [
    {
     "name": "stdout",
     "output_type": "stream",
     "text": [
      "0\n",
      "1246\n"
     ]
    }
   ],
   "source": [
    "city_dict_unique = dict()\n",
    "repeated_keys = []\n",
    "\n",
    "for city,state in city_dict.items():\n",
    "    if city in city_dict_unique.keys():\n",
    "        repeated_keys.append(city)\n",
    "    else:\n",
    "        city_dict_unique[city] = state\n",
    "\n",
    "print(len(repeated_keys))\n",
    "\n",
    "for county,state in county_dict.items():\n",
    "    if county in city_dict_unique.keys():\n",
    "        repeated_keys.append(county)\n",
    "\n",
    "print(len(repeated_keys))\n",
    "\n",
    "repeated_keys_set = set(repeated_keys)\n",
    "\n",
    "for key in repeated_keys_set:\n",
    "    city_dict_unique.pop(key,None)"
   ]
  },
  {
   "cell_type": "code",
   "execution_count": 166,
   "id": "0e612d3d",
   "metadata": {},
   "outputs": [
    {
     "data": {
      "text/plain": [
       "'new york'"
      ]
     },
     "execution_count": 166,
     "metadata": {},
     "output_type": "execute_result"
    }
   ],
   "source": [
    "city_dict_unique['new york']"
   ]
  },
  {
   "cell_type": "code",
   "execution_count": 167,
   "id": "d4684e54",
   "metadata": {},
   "outputs": [
    {
     "name": "stdout",
     "output_type": "stream",
     "text": [
      "18837 17591\n"
     ]
    }
   ],
   "source": [
    "print(len(city_dict),len(city_dict_unique))"
   ]
  },
  {
   "cell_type": "markdown",
   "id": "f35ed223",
   "metadata": {},
   "source": [
    "## 3.2 Construct state-county and state-city dictionary"
   ]
  },
  {
   "cell_type": "code",
   "execution_count": 168,
   "id": "0ab60595",
   "metadata": {},
   "outputs": [],
   "source": [
    "state_county_dict = dict()\n",
    "for k,v in county_dict.items():\n",
    "    if v in state_county_dict.keys():\n",
    "        state_county_dict[v].append(k)\n",
    "    else:\n",
    "        state_county_dict[v] = []\n",
    "        state_county_dict[v].append(k)\n",
    "\n",
    "state_county_dict_unique = dict()\n",
    "for v,k in county_dict_unique.items():\n",
    "    if k in state_county_dict_unique.keys():\n",
    "        state_county_dict_unique[k].append(v)\n",
    "    else:\n",
    "        state_county_dict_unique[k] = []\n",
    "        state_county_dict_unique[k].append(v)\n",
    "\n",
    "state_city_dict = dict()\n",
    "for v,k in city_dict.items():\n",
    "    if k in state_city_dict.keys():\n",
    "        state_city_dict[k].append(v)\n",
    "    else:\n",
    "        state_city_dict[k] = []\n",
    "        state_city_dict[k].append(v)\n",
    "\n",
    "state_city_dict_unique = dict()\n",
    "for v,k in city_dict_unique.items():\n",
    "    if k in state_city_dict_unique.keys():\n",
    "        state_city_dict_unique[k].append(v)\n",
    "    else:\n",
    "        state_city_dict_unique[k] = []\n",
    "        state_city_dict_unique[k].append(v)"
   ]
  },
  {
   "cell_type": "code",
   "execution_count": 173,
   "id": "dbd5e173",
   "metadata": {},
   "outputs": [],
   "source": [
    "state_county_dict['hawaii'] = state_county_dict['hawaiʻi']"
   ]
  },
  {
   "cell_type": "markdown",
   "id": "da9f05e7",
   "metadata": {},
   "source": [
    "## 3.3 Identify the locations"
   ]
  },
  {
   "cell_type": "code",
   "execution_count": 18,
   "id": "a42b49fc",
   "metadata": {},
   "outputs": [],
   "source": [
    "tweets_sample = tweets_df.sample(n=10)"
   ]
  },
  {
   "cell_type": "code",
   "execution_count": 19,
   "id": "24beea0d",
   "metadata": {},
   "outputs": [
    {
     "data": {
      "text/plain": [
       "1055523                         NaN\n",
       "259560                           19\n",
       "1510644         The City by The Bay\n",
       "976931                          NaN\n",
       "1130982                  Queens, NY\n",
       "255923     British Columbia, Canada\n",
       "421422                          NaN\n",
       "1166488           São Paulo, Brasil\n",
       "226093                          NaN\n",
       "1309122                        Hell\n",
       "Name: User_location, dtype: object"
      ]
     },
     "execution_count": 19,
     "metadata": {},
     "output_type": "execute_result"
    }
   ],
   "source": [
    "tweets_sample['User_location']"
   ]
  },
  {
   "cell_type": "code",
   "execution_count": 174,
   "id": "b02eae41",
   "metadata": {},
   "outputs": [],
   "source": [
    "cities = []\n",
    "counties = []\n",
    "states = []\n",
    "\n",
    "for location in tweets_df['User_location']:\n",
    "    is_valid = False\n",
    "    if pd.isna(location) is False:\n",
    "        loc = location.lower().strip()\n",
    "        if '/' in loc:\n",
    "            loc = loc.rpartition('/')[0].strip()\n",
    "        if len(loc) != 0:\n",
    "            if ',' in loc:\n",
    "                state = loc.rpartition(',')[2].strip()\n",
    "                if (state in state_name_list_lower) or (state in state_abb_list_lower):\n",
    "                    if state in state_name_list_lower:\n",
    "                        states.append(state)\n",
    "                    else:\n",
    "                        states.append(state_dict[state])\n",
    "                        state = state_dict[state]\n",
    "                    city_county = loc.rpartition(',')[0].strip()\n",
    "                    if \"county\" in city_county:\n",
    "                        city_county = city_county.rpartition('county')[0].strip()\n",
    "                    if \"city\" in city_county:\n",
    "                        city_county = city_county.rpartition('city')[0].strip()\n",
    "                    if city_county in state_county_dict[state]:\n",
    "                        counties.append(city_county)\n",
    "                        cities.append(None)\n",
    "                    elif city_county in state_city_dict[state]:\n",
    "                        cities.append(city_county)\n",
    "                        counties.append(None)\n",
    "                    else:\n",
    "                        cities.append(None)\n",
    "                        counties.append(None)\n",
    "                    is_valid = True\n",
    "                else:\n",
    "                    state = loc.rpartition(',')[0].strip()\n",
    "                    if (state in state_name_list_lower) or (state in state_abb_list_lower):\n",
    "                        if state in state_name_list_lower:\n",
    "                            states.append(state)\n",
    "                        else:\n",
    "                            states.append(state_dict[state])\n",
    "                        counties.append(None)\n",
    "                        cities.append(None)\n",
    "                        is_valid = True\n",
    "                    \n",
    "            elif loc in state_abb_list_lower:\n",
    "                states.append(state_dict[loc])\n",
    "                cities.append(None)\n",
    "                counties.append(None)\n",
    "                is_valid = True\n",
    "            elif loc in state_name_list_lower:\n",
    "                states.append(loc)\n",
    "                cities.append(None)\n",
    "                counties.append(None)\n",
    "                is_valid = True\n",
    "            elif loc in list(county_dict_unique.keys()):\n",
    "                states.append(county_dict_unique[loc])\n",
    "                counties.append(loc)\n",
    "                cities.append(None)\n",
    "                is_valid = True\n",
    "            elif loc in list(city_dict_unique.keys()):\n",
    "                states.append(city_dict_unique[loc])\n",
    "                cities.append(loc)\n",
    "                counties.append(None)\n",
    "                is_valid = True\n",
    "    if is_valid == False:\n",
    "        states.append(None)\n",
    "        cities.append(None)\n",
    "        counties.append(None)"
   ]
  },
  {
   "cell_type": "code",
   "execution_count": 291,
   "id": "36a877b4",
   "metadata": {},
   "outputs": [],
   "source": [
    "'''\n",
    "cities = []\n",
    "counties = []\n",
    "states = []\n",
    "\n",
    "for location in tweets_df['User_location']:\n",
    "    is_valid = False\n",
    "    if pd.isna(location) is False:\n",
    "        loc = location.lower().strip()\n",
    "        if '/' in loc:\n",
    "            loc = loc.rpartition('/')[0].strip()\n",
    "        if len(loc) != 0:\n",
    "            if ',' in loc:\n",
    "                state = loc.rpartition(',')[2].strip()\n",
    "                if (state in state_name_list_lower) or (state in state_abb_list_lower):\n",
    "                    if state in state_name_list_lower:\n",
    "                        states.append(state)\n",
    "                    else:\n",
    "                        states.append(state_dict[state])\n",
    "                    city_county = loc.rpartition(',')[0].strip()\n",
    "                    if \"county\" in city_county:\n",
    "                        city_county = city_county.rpartition('county')[0].strip()\n",
    "                    if \"city\" in city_county:\n",
    "                        city_county = city_county.rpartition('city')[0].strip()\n",
    "                    if city_county in list(county_dict.keys()):\n",
    "                        counties.append(city_county)\n",
    "                        cities.append(None)\n",
    "                    elif city_county in list(city_dict.keys()):\n",
    "                        cities.append(city_county)\n",
    "                        counties.append(None)\n",
    "                    else:\n",
    "                        cities.append(None)\n",
    "                        counties.append(None)\n",
    "                    is_valid = True\n",
    "                else:\n",
    "                    state = loc.rpartition(',')[0].strip()\n",
    "                    if (state in state_name_list_lower) or (state in state_abb_list_lower):\n",
    "                        if state in state_name_list_lower:\n",
    "                            states.append(state)\n",
    "                        else:\n",
    "                            states.append(state_dict[state])\n",
    "                        counties.append(None)\n",
    "                        cities.append(None)\n",
    "                        is_valid = True\n",
    "                    \n",
    "            elif loc in state_abb_list_lower:\n",
    "                states.append(state_dict[loc])\n",
    "                cities.append(None)\n",
    "                counties.append(None)\n",
    "                is_valid = True\n",
    "            elif loc in state_name_list_lower:\n",
    "                states.append(loc)\n",
    "                cities.append(None)\n",
    "                counties.append(None)\n",
    "                is_valid = True\n",
    "            elif loc in list(county_dict.keys()):\n",
    "                states.append(county_dict[loc])\n",
    "                counties.append(loc)\n",
    "                cities.append(None)\n",
    "                is_valid = True\n",
    "            elif loc in list(city_dict.keys()):\n",
    "                states.append(city_dict[loc])\n",
    "                cities.append(loc)\n",
    "                counties.append(None)\n",
    "                is_valid = True\n",
    "    if is_valid == False:\n",
    "        states.append(None)\n",
    "        cities.append(None)\n",
    "        counties.append(None)\n",
    "'''"
   ]
  },
  {
   "cell_type": "code",
   "execution_count": 148,
   "id": "a9dac031",
   "metadata": {},
   "outputs": [
    {
     "data": {
      "text/plain": [
       "272894                 pt, eng \n",
       "1217081       San Francisco, CA\n",
       "726824          \"New\" so \"York\"\n",
       "352082                  Glasgow\n",
       "194506          she/her | 15 | \n",
       "798955         Turnersville, NJ\n",
       "310807                      HTX\n",
       "446055       𝐞𝐱𝐨 ֊ 𝐧𝐜𝐭 ֊ 𝐤𝐜𝐜 ◞ \n",
       "1457623            Turtleshell \n",
       "522035              Brooklyn,NY\n",
       "Name: User_location, dtype: object"
      ]
     },
     "execution_count": 148,
     "metadata": {},
     "output_type": "execute_result"
    }
   ],
   "source": [
    "tweets_sample['User_location']"
   ]
  },
  {
   "cell_type": "code",
   "execution_count": 149,
   "id": "7135a47e",
   "metadata": {},
   "outputs": [
    {
     "name": "stdout",
     "output_type": "stream",
     "text": [
      "[None, 'california', None, 'pennsylvania', None, 'new jersey', None, None, None, 'new york']\n",
      "[None, 'san francisco', None, None, None, None, None, None, None, None]\n",
      "[None, None, None, 'glasgow', None, 'turnersville', None, None, None, None]\n"
     ]
    }
   ],
   "source": [
    "print(states)\n",
    "print(counties)\n",
    "print(cities)"
   ]
  },
  {
   "cell_type": "code",
   "execution_count": 150,
   "id": "35cbd227",
   "metadata": {},
   "outputs": [
    {
     "name": "stdout",
     "output_type": "stream",
     "text": [
      "10 10 10\n"
     ]
    }
   ],
   "source": [
    "print(len(states),len(counties),len(cities))"
   ]
  },
  {
   "cell_type": "code",
   "execution_count": 175,
   "id": "c3f8b7cd",
   "metadata": {},
   "outputs": [],
   "source": [
    "has_state = []\n",
    "has_county = []\n",
    "has_city = []\n",
    "for s,county,city in zip(states,counties,cities):\n",
    "    if s is None:\n",
    "        has_state.append(False)\n",
    "    else:\n",
    "        has_state.append(True)\n",
    "    if county is None:\n",
    "        has_county.append(False)\n",
    "    else:\n",
    "        has_county.append(True)\n",
    "    if city is None:\n",
    "        has_city.append(False)\n",
    "    else:\n",
    "        has_city.append(True)"
   ]
  },
  {
   "cell_type": "code",
   "execution_count": 176,
   "id": "9a0efcfb",
   "metadata": {},
   "outputs": [],
   "source": [
    "tweets_df['state'] = states\n",
    "tweets_df['city'] = cities\n",
    "tweets_df['county'] = counties\n",
    "tweets_df['has_state'] = has_state\n",
    "tweets_df['has_county'] = has_county\n",
    "tweets_df['has_city'] = has_city"
   ]
  },
  {
   "cell_type": "code",
   "execution_count": 294,
   "id": "3a6bec0d",
   "metadata": {},
   "outputs": [
    {
     "name": "stdout",
     "output_type": "stream",
     "text": [
      "315151 90598 131504\n"
     ]
    }
   ],
   "source": [
    "print(sum(tweets_df['has_state']),sum(tweets_df['has_county']),sum(tweets_df['has_city']))"
   ]
  },
  {
   "cell_type": "markdown",
   "id": "f7f82e63",
   "metadata": {},
   "source": [
    "# 4 Population data"
   ]
  },
  {
   "cell_type": "markdown",
   "id": "c841eb6f",
   "metadata": {},
   "source": [
    "## 4.1 State population data"
   ]
  },
  {
   "cell_type": "code",
   "execution_count": 295,
   "id": "1740c6c9",
   "metadata": {},
   "outputs": [],
   "source": [
    "state_population_raw = pd.read_excel('../../Paper data/state population.xlsx', index_col=0)  \n",
    "states_lower = list(state_population_raw['State'].apply(lambda x: x.strip().lower()))\n",
    "states_population = list(state_population_raw['2020 Census'])\n",
    "state_population_dict = dict(zip(states_lower,states_population))\n",
    "state_population_series = pd.DataFrame.from_dict(state_population_dict, orient='index')\n",
    "state_population_series.rename(columns={0: \"population\"},inplace=True)"
   ]
  },
  {
   "cell_type": "code",
   "execution_count": 60,
   "id": "f03f529e",
   "metadata": {},
   "outputs": [
    {
     "data": {
      "text/html": [
       "<div>\n",
       "<style scoped>\n",
       "    .dataframe tbody tr th:only-of-type {\n",
       "        vertical-align: middle;\n",
       "    }\n",
       "\n",
       "    .dataframe tbody tr th {\n",
       "        vertical-align: top;\n",
       "    }\n",
       "\n",
       "    .dataframe thead th {\n",
       "        text-align: right;\n",
       "    }\n",
       "</style>\n",
       "<table border=\"1\" class=\"dataframe\">\n",
       "  <thead>\n",
       "    <tr style=\"text-align: right;\">\n",
       "      <th></th>\n",
       "      <th>population</th>\n",
       "    </tr>\n",
       "  </thead>\n",
       "  <tbody>\n",
       "    <tr>\n",
       "      <th>california</th>\n",
       "      <td>39538223</td>\n",
       "    </tr>\n",
       "    <tr>\n",
       "      <th>texas</th>\n",
       "      <td>29145505</td>\n",
       "    </tr>\n",
       "    <tr>\n",
       "      <th>florida</th>\n",
       "      <td>21538187</td>\n",
       "    </tr>\n",
       "    <tr>\n",
       "      <th>new york</th>\n",
       "      <td>20201249</td>\n",
       "    </tr>\n",
       "    <tr>\n",
       "      <th>pennsylvania</th>\n",
       "      <td>13002700</td>\n",
       "    </tr>\n",
       "    <tr>\n",
       "      <th>illinois</th>\n",
       "      <td>12801989</td>\n",
       "    </tr>\n",
       "    <tr>\n",
       "      <th>ohio</th>\n",
       "      <td>11799448</td>\n",
       "    </tr>\n",
       "    <tr>\n",
       "      <th>georgia</th>\n",
       "      <td>10711908</td>\n",
       "    </tr>\n",
       "    <tr>\n",
       "      <th>north carolina</th>\n",
       "      <td>10439388</td>\n",
       "    </tr>\n",
       "    <tr>\n",
       "      <th>michigan</th>\n",
       "      <td>10077331</td>\n",
       "    </tr>\n",
       "  </tbody>\n",
       "</table>\n",
       "</div>"
      ],
      "text/plain": [
       "                population\n",
       "california        39538223\n",
       "texas             29145505\n",
       "florida           21538187\n",
       "new york          20201249\n",
       "pennsylvania      13002700\n",
       "illinois          12801989\n",
       "ohio              11799448\n",
       "georgia           10711908\n",
       "north carolina    10439388\n",
       "michigan          10077331"
      ]
     },
     "execution_count": 60,
     "metadata": {},
     "output_type": "execute_result"
    }
   ],
   "source": [
    "state_population_series[:10]"
   ]
  },
  {
   "cell_type": "markdown",
   "id": "86557a5a",
   "metadata": {},
   "source": [
    "## 4.2 County population data"
   ]
  },
  {
   "cell_type": "markdown",
   "id": "8f2b3017",
   "metadata": {},
   "source": [
    "from U.S. Census Bureau https://www.census.gov/data/datasets/time-series/demo/popest/2010s-counties-total.html#par_textimage_739801612"
   ]
  },
  {
   "cell_type": "code",
   "execution_count": 66,
   "id": "fceab492",
   "metadata": {},
   "outputs": [],
   "source": [
    "county_population = pd.read_excel('../../Paper data/county population.xlsx')  "
   ]
  },
  {
   "cell_type": "code",
   "execution_count": 314,
   "id": "5fb46a50",
   "metadata": {},
   "outputs": [],
   "source": [
    "counties = []\n",
    "for county in county_population['CTYNAME']:\n",
    "    c = county.lower()\n",
    "    c = c.rpartition('county')[0].strip()\n",
    "    counties.append(c)\n",
    "county_population['county'] = counties"
   ]
  },
  {
   "cell_type": "code",
   "execution_count": 315,
   "id": "168e7386",
   "metadata": {},
   "outputs": [
    {
     "data": {
      "text/html": [
       "<div>\n",
       "<style scoped>\n",
       "    .dataframe tbody tr th:only-of-type {\n",
       "        vertical-align: middle;\n",
       "    }\n",
       "\n",
       "    .dataframe tbody tr th {\n",
       "        vertical-align: top;\n",
       "    }\n",
       "\n",
       "    .dataframe thead th {\n",
       "        text-align: right;\n",
       "    }\n",
       "</style>\n",
       "<table border=\"1\" class=\"dataframe\">\n",
       "  <thead>\n",
       "    <tr style=\"text-align: right;\">\n",
       "      <th></th>\n",
       "      <th>STNAME</th>\n",
       "      <th>CTYNAME</th>\n",
       "      <th>CENSUS2010POP</th>\n",
       "      <th>POPESTIMATE2019</th>\n",
       "      <th>county</th>\n",
       "    </tr>\n",
       "  </thead>\n",
       "  <tbody>\n",
       "    <tr>\n",
       "      <th>0</th>\n",
       "      <td>Alabama</td>\n",
       "      <td>Alabama</td>\n",
       "      <td>4779736</td>\n",
       "      <td>4903185</td>\n",
       "      <td></td>\n",
       "    </tr>\n",
       "    <tr>\n",
       "      <th>1</th>\n",
       "      <td>Alabama</td>\n",
       "      <td>Autauga County</td>\n",
       "      <td>54571</td>\n",
       "      <td>55869</td>\n",
       "      <td>autauga</td>\n",
       "    </tr>\n",
       "    <tr>\n",
       "      <th>2</th>\n",
       "      <td>Alabama</td>\n",
       "      <td>Baldwin County</td>\n",
       "      <td>182265</td>\n",
       "      <td>223234</td>\n",
       "      <td>baldwin</td>\n",
       "    </tr>\n",
       "    <tr>\n",
       "      <th>3</th>\n",
       "      <td>Alabama</td>\n",
       "      <td>Barbour County</td>\n",
       "      <td>27457</td>\n",
       "      <td>24686</td>\n",
       "      <td>barbour</td>\n",
       "    </tr>\n",
       "    <tr>\n",
       "      <th>4</th>\n",
       "      <td>Alabama</td>\n",
       "      <td>Bibb County</td>\n",
       "      <td>22915</td>\n",
       "      <td>22394</td>\n",
       "      <td>bibb</td>\n",
       "    </tr>\n",
       "    <tr>\n",
       "      <th>...</th>\n",
       "      <td>...</td>\n",
       "      <td>...</td>\n",
       "      <td>...</td>\n",
       "      <td>...</td>\n",
       "      <td>...</td>\n",
       "    </tr>\n",
       "    <tr>\n",
       "      <th>3188</th>\n",
       "      <td>Wyoming</td>\n",
       "      <td>Sweetwater County</td>\n",
       "      <td>43806</td>\n",
       "      <td>42343</td>\n",
       "      <td>sweetwater</td>\n",
       "    </tr>\n",
       "    <tr>\n",
       "      <th>3189</th>\n",
       "      <td>Wyoming</td>\n",
       "      <td>Teton County</td>\n",
       "      <td>21294</td>\n",
       "      <td>23464</td>\n",
       "      <td>teton</td>\n",
       "    </tr>\n",
       "    <tr>\n",
       "      <th>3190</th>\n",
       "      <td>Wyoming</td>\n",
       "      <td>Uinta County</td>\n",
       "      <td>21118</td>\n",
       "      <td>20226</td>\n",
       "      <td>uinta</td>\n",
       "    </tr>\n",
       "    <tr>\n",
       "      <th>3191</th>\n",
       "      <td>Wyoming</td>\n",
       "      <td>Washakie County</td>\n",
       "      <td>8533</td>\n",
       "      <td>7805</td>\n",
       "      <td>washakie</td>\n",
       "    </tr>\n",
       "    <tr>\n",
       "      <th>3192</th>\n",
       "      <td>Wyoming</td>\n",
       "      <td>Weston County</td>\n",
       "      <td>7208</td>\n",
       "      <td>6927</td>\n",
       "      <td>weston</td>\n",
       "    </tr>\n",
       "  </tbody>\n",
       "</table>\n",
       "<p>3193 rows × 5 columns</p>\n",
       "</div>"
      ],
      "text/plain": [
       "       STNAME            CTYNAME  CENSUS2010POP  POPESTIMATE2019      county\n",
       "0     Alabama            Alabama        4779736          4903185            \n",
       "1     Alabama     Autauga County          54571            55869     autauga\n",
       "2     Alabama     Baldwin County         182265           223234     baldwin\n",
       "3     Alabama     Barbour County          27457            24686     barbour\n",
       "4     Alabama        Bibb County          22915            22394        bibb\n",
       "...       ...                ...            ...              ...         ...\n",
       "3188  Wyoming  Sweetwater County          43806            42343  sweetwater\n",
       "3189  Wyoming       Teton County          21294            23464       teton\n",
       "3190  Wyoming       Uinta County          21118            20226       uinta\n",
       "3191  Wyoming    Washakie County           8533             7805    washakie\n",
       "3192  Wyoming      Weston County           7208             6927      weston\n",
       "\n",
       "[3193 rows x 5 columns]"
      ]
     },
     "execution_count": 315,
     "metadata": {},
     "output_type": "execute_result"
    }
   ],
   "source": [
    "county_population"
   ]
  },
  {
   "cell_type": "markdown",
   "id": "e78b5c46",
   "metadata": {},
   "source": [
    "## 4.3 City population data"
   ]
  },
  {
   "cell_type": "markdown",
   "id": "d3247c17",
   "metadata": {},
   "source": [
    "Annual Estimates of the Resident Population for Incorporated Places of 50,000 or More, Ranked by July 1, 2019 Population: April 1, 2010 to July 1, 2019, from U.S. Census Bureau. https://www.census.gov/data/tables/time-series/demo/popest/2010s-total-cities-and-towns.html "
   ]
  },
  {
   "cell_type": "code",
   "execution_count": 356,
   "id": "af75a321",
   "metadata": {},
   "outputs": [],
   "source": [
    "city_population = pd.read_excel('../../Paper data/city population.xlsx')"
   ]
  },
  {
   "cell_type": "code",
   "execution_count": 357,
   "id": "95fe6f27",
   "metadata": {},
   "outputs": [],
   "source": [
    "city_list_lower = []\n",
    "city_list_lower_state = []\n",
    "for c in city_population['Geographic Area']:\n",
    "    state = c.rpartition('city,')[2].strip()\n",
    "    city = c.rpartition('city,')[0].strip()\n",
    "    city_list_lower.append(city.lower())\n",
    "    city_list_lower_state.append(state.lower())\n",
    "\n",
    "city_population['city'] = city_list_lower\n",
    "city_population['state'] = city_list_lower_state"
   ]
  },
  {
   "cell_type": "code",
   "execution_count": 358,
   "id": "92e8a5fa",
   "metadata": {},
   "outputs": [
    {
     "data": {
      "text/html": [
       "<div>\n",
       "<style scoped>\n",
       "    .dataframe tbody tr th:only-of-type {\n",
       "        vertical-align: middle;\n",
       "    }\n",
       "\n",
       "    .dataframe tbody tr th {\n",
       "        vertical-align: top;\n",
       "    }\n",
       "\n",
       "    .dataframe thead th {\n",
       "        text-align: right;\n",
       "    }\n",
       "</style>\n",
       "<table border=\"1\" class=\"dataframe\">\n",
       "  <thead>\n",
       "    <tr style=\"text-align: right;\">\n",
       "      <th></th>\n",
       "      <th>Rank</th>\n",
       "      <th>Geographic Area</th>\n",
       "      <th>2010 Census</th>\n",
       "      <th>2019 Estimate</th>\n",
       "      <th>city</th>\n",
       "      <th>state</th>\n",
       "    </tr>\n",
       "  </thead>\n",
       "  <tbody>\n",
       "    <tr>\n",
       "      <th>0</th>\n",
       "      <td>1</td>\n",
       "      <td>New York city, New York</td>\n",
       "      <td>8175133.0</td>\n",
       "      <td>8336817</td>\n",
       "      <td>new york</td>\n",
       "      <td>new york</td>\n",
       "    </tr>\n",
       "    <tr>\n",
       "      <th>1</th>\n",
       "      <td>2</td>\n",
       "      <td>Los Angeles city, California</td>\n",
       "      <td>3792621.0</td>\n",
       "      <td>3979576</td>\n",
       "      <td>los angeles</td>\n",
       "      <td>california</td>\n",
       "    </tr>\n",
       "    <tr>\n",
       "      <th>2</th>\n",
       "      <td>3</td>\n",
       "      <td>Chicago city, Illinois</td>\n",
       "      <td>2695598.0</td>\n",
       "      <td>2693976</td>\n",
       "      <td>chicago</td>\n",
       "      <td>illinois</td>\n",
       "    </tr>\n",
       "    <tr>\n",
       "      <th>3</th>\n",
       "      <td>4</td>\n",
       "      <td>Houston city, Texas</td>\n",
       "      <td>2099451.0</td>\n",
       "      <td>2320268</td>\n",
       "      <td>houston</td>\n",
       "      <td>texas</td>\n",
       "    </tr>\n",
       "    <tr>\n",
       "      <th>4</th>\n",
       "      <td>5</td>\n",
       "      <td>Phoenix city, Arizona</td>\n",
       "      <td>1445632.0</td>\n",
       "      <td>1680992</td>\n",
       "      <td>phoenix</td>\n",
       "      <td>arizona</td>\n",
       "    </tr>\n",
       "    <tr>\n",
       "      <th>...</th>\n",
       "      <td>...</td>\n",
       "      <td>...</td>\n",
       "      <td>...</td>\n",
       "      <td>...</td>\n",
       "      <td>...</td>\n",
       "      <td>...</td>\n",
       "    </tr>\n",
       "    <tr>\n",
       "      <th>783</th>\n",
       "      <td>784</td>\n",
       "      <td>Lakewood city, Ohio</td>\n",
       "      <td>52131.0</td>\n",
       "      <td>49678</td>\n",
       "      <td>lakewood</td>\n",
       "      <td>ohio</td>\n",
       "    </tr>\n",
       "    <tr>\n",
       "      <th>784</th>\n",
       "      <td>785</td>\n",
       "      <td>Troy city, New York</td>\n",
       "      <td>50129.0</td>\n",
       "      <td>49154</td>\n",
       "      <td>troy</td>\n",
       "      <td>new york</td>\n",
       "    </tr>\n",
       "    <tr>\n",
       "      <th>785</th>\n",
       "      <td>786</td>\n",
       "      <td>Saginaw city, Michigan</td>\n",
       "      <td>51508.0</td>\n",
       "      <td>48115</td>\n",
       "      <td>saginaw</td>\n",
       "      <td>michigan</td>\n",
       "    </tr>\n",
       "    <tr>\n",
       "      <th>786</th>\n",
       "      <td>787</td>\n",
       "      <td>Niagara Falls city, New York</td>\n",
       "      <td>50193.0</td>\n",
       "      <td>47720</td>\n",
       "      <td>niagara falls</td>\n",
       "      <td>new york</td>\n",
       "    </tr>\n",
       "    <tr>\n",
       "      <th>787</th>\n",
       "      <td>788</td>\n",
       "      <td>Charleston city, West Virginia</td>\n",
       "      <td>51400.0</td>\n",
       "      <td>46536</td>\n",
       "      <td>charleston</td>\n",
       "      <td>west virginia</td>\n",
       "    </tr>\n",
       "  </tbody>\n",
       "</table>\n",
       "<p>788 rows × 6 columns</p>\n",
       "</div>"
      ],
      "text/plain": [
       "     Rank                 Geographic Area  2010 Census  2019 Estimate  \\\n",
       "0       1         New York city, New York    8175133.0        8336817   \n",
       "1       2    Los Angeles city, California    3792621.0        3979576   \n",
       "2       3          Chicago city, Illinois    2695598.0        2693976   \n",
       "3       4             Houston city, Texas    2099451.0        2320268   \n",
       "4       5           Phoenix city, Arizona    1445632.0        1680992   \n",
       "..    ...                             ...          ...            ...   \n",
       "783   784             Lakewood city, Ohio      52131.0          49678   \n",
       "784   785             Troy city, New York      50129.0          49154   \n",
       "785   786          Saginaw city, Michigan      51508.0          48115   \n",
       "786   787    Niagara Falls city, New York      50193.0          47720   \n",
       "787   788  Charleston city, West Virginia      51400.0          46536   \n",
       "\n",
       "              city          state  \n",
       "0         new york       new york  \n",
       "1      los angeles     california  \n",
       "2          chicago       illinois  \n",
       "3          houston          texas  \n",
       "4          phoenix        arizona  \n",
       "..             ...            ...  \n",
       "783       lakewood           ohio  \n",
       "784           troy       new york  \n",
       "785        saginaw       michigan  \n",
       "786  niagara falls       new york  \n",
       "787     charleston  west virginia  \n",
       "\n",
       "[788 rows x 6 columns]"
      ]
     },
     "execution_count": 358,
     "metadata": {},
     "output_type": "execute_result"
    }
   ],
   "source": [
    "city_population"
   ]
  },
  {
   "cell_type": "markdown",
   "id": "a6432aa9",
   "metadata": {},
   "source": [
    "# 5 Get the \"population\" from the \"the twitter\" dataset"
   ]
  },
  {
   "cell_type": "code",
   "execution_count": 177,
   "id": "a0dfcf44",
   "metadata": {},
   "outputs": [],
   "source": [
    "the_tweets = pd.read_csv('../tweets scrapping/tweets_df_the.csv')"
   ]
  },
  {
   "cell_type": "markdown",
   "id": "2da9c883",
   "metadata": {},
   "source": [
    "## 5.1 Retrive the location!"
   ]
  },
  {
   "cell_type": "code",
   "execution_count": 178,
   "id": "728a8a84",
   "metadata": {},
   "outputs": [],
   "source": [
    "cities = []\n",
    "counties = []\n",
    "states = []\n",
    "\n",
    "for location in the_tweets['User_location']:\n",
    "    is_valid = False\n",
    "    if pd.isna(location) is False:\n",
    "        loc = location.lower().strip()\n",
    "        if '/' in loc:\n",
    "            loc = loc.rpartition('/')[0].strip()\n",
    "        if len(loc) != 0:\n",
    "            if ',' in loc:\n",
    "                state = loc.rpartition(',')[2].strip()\n",
    "                if (state in state_name_list_lower) or (state in state_abb_list_lower):\n",
    "                    if state in state_name_list_lower:\n",
    "                        states.append(state)\n",
    "                    else:\n",
    "                        states.append(state_dict[state])\n",
    "                        state = state_dict[state]\n",
    "                    city_county = loc.rpartition(',')[0].strip()\n",
    "                    if \"county\" in city_county:\n",
    "                        city_county = city_county.rpartition('county')[0].strip()\n",
    "                    if \"city\" in city_county:\n",
    "                        city_county = city_county.rpartition('city')[0].strip()\n",
    "                    if city_county in state_county_dict[state]:\n",
    "                        counties.append(city_county)\n",
    "                        cities.append(None)\n",
    "                    elif city_county in state_city_dict[state]:\n",
    "                        cities.append(city_county)\n",
    "                        counties.append(None)\n",
    "                    else:\n",
    "                        cities.append(None)\n",
    "                        counties.append(None)\n",
    "                    is_valid = True\n",
    "                else:\n",
    "                    state = loc.rpartition(',')[0].strip()\n",
    "                    if (state in state_name_list_lower) or (state in state_abb_list_lower):\n",
    "                        if state in state_name_list_lower:\n",
    "                            states.append(state)\n",
    "                        else:\n",
    "                            states.append(state_dict[state])\n",
    "                        counties.append(None)\n",
    "                        cities.append(None)\n",
    "                        is_valid = True\n",
    "                    \n",
    "            elif loc in state_abb_list_lower:\n",
    "                states.append(state_dict[loc])\n",
    "                cities.append(None)\n",
    "                counties.append(None)\n",
    "                is_valid = True\n",
    "            elif loc in state_name_list_lower:\n",
    "                states.append(loc)\n",
    "                cities.append(None)\n",
    "                counties.append(None)\n",
    "                is_valid = True\n",
    "            elif loc in list(county_dict_unique.keys()):\n",
    "                states.append(county_dict_unique[loc])\n",
    "                counties.append(loc)\n",
    "                cities.append(None)\n",
    "                is_valid = True\n",
    "            elif loc in list(city_dict_unique.keys()):\n",
    "                states.append(city_dict_unique[loc])\n",
    "                cities.append(loc)\n",
    "                counties.append(None)\n",
    "                is_valid = True\n",
    "    if is_valid == False:\n",
    "        states.append(None)\n",
    "        cities.append(None)\n",
    "        counties.append(None)"
   ]
  },
  {
   "cell_type": "code",
   "execution_count": 179,
   "id": "45598371",
   "metadata": {},
   "outputs": [],
   "source": [
    "has_state = []\n",
    "has_county = []\n",
    "has_city = []\n",
    "for s,county,city in zip(states,counties,cities):\n",
    "    if s is None:\n",
    "        has_state.append(False)\n",
    "    else:\n",
    "        has_state.append(True)\n",
    "    if county is None:\n",
    "        has_county.append(False)\n",
    "    else:\n",
    "        has_county.append(True)\n",
    "    if city is None:\n",
    "        has_city.append(False)\n",
    "    else:\n",
    "        has_city.append(True)"
   ]
  },
  {
   "cell_type": "code",
   "execution_count": 180,
   "id": "a317ac20",
   "metadata": {},
   "outputs": [],
   "source": [
    "the_tweets['state'] = states\n",
    "the_tweets['city'] = cities\n",
    "the_tweets['county'] = counties\n",
    "the_tweets['has_state'] = has_state\n",
    "the_tweets['has_county'] = has_county\n",
    "the_tweets['has_city'] = has_city"
   ]
  },
  {
   "cell_type": "code",
   "execution_count": 181,
   "id": "b4483bde",
   "metadata": {},
   "outputs": [],
   "source": [
    "tweets_df.to_csv('tweets_df_with_location_marked.csv')"
   ]
  },
  {
   "cell_type": "code",
   "execution_count": 182,
   "id": "9298cbac",
   "metadata": {},
   "outputs": [],
   "source": [
    "the_tweets.to_csv('the_tweets_with_location_marked.csv')"
   ]
  },
  {
   "cell_type": "markdown",
   "id": "1edc58b7",
   "metadata": {},
   "source": [
    "# 6 Match the weights"
   ]
  },
  {
   "cell_type": "markdown",
   "id": "284f0d69",
   "metadata": {},
   "source": [
    "## 6.0 (Optional) Import `tweets_df` and `the_tweets`"
   ]
  },
  {
   "cell_type": "code",
   "execution_count": 3,
   "id": "ada5666f",
   "metadata": {},
   "outputs": [
    {
     "name": "stderr",
     "output_type": "stream",
     "text": [
      "C:\\Users\\86188\\AppData\\Local\\Temp\\ipykernel_73416\\4241596199.py:1: DtypeWarning: Columns (8) have mixed types. Specify dtype option on import or set low_memory=False.\n",
      "  tweets_df = pd.read_csv('tweets_df_with_location_marked.csv')\n"
     ]
    }
   ],
   "source": [
    "tweets_df = pd.read_csv('tweets_df_with_location_marked.csv')\n",
    "the_tweets = pd.read_csv('the_tweets_with_location_marked.csv')"
   ]
  },
  {
   "cell_type": "code",
   "execution_count": 8,
   "id": "ee447b23",
   "metadata": {},
   "outputs": [],
   "source": [
    "weights = pd.read_csv('../lexicon weighting/final_weights.csv')"
   ]
  },
  {
   "cell_type": "code",
   "execution_count": 9,
   "id": "bd7d8f1a",
   "metadata": {},
   "outputs": [],
   "source": [
    "tweets_df = tweets_df.merge(weights, how='left', left_on='Keyword', right_on = 'Unnamed: 0')"
   ]
  },
  {
   "cell_type": "markdown",
   "id": "1e7c98ca",
   "metadata": {},
   "source": [
    "# 7 Matches and Indexes with \"the_tweets\""
   ]
  },
  {
   "cell_type": "code",
   "execution_count": 4,
   "id": "64837500",
   "metadata": {},
   "outputs": [],
   "source": [
    "tweets_have_state = tweets_df['Keyword'][tweets_df['has_state']]\n",
    "pd.Series(collections.Counter(tweets_have_state)).to_csv('distribution_has_state.csv')"
   ]
  },
  {
   "cell_type": "code",
   "execution_count": 5,
   "id": "d8f89cca",
   "metadata": {},
   "outputs": [],
   "source": [
    "tweets_have_county = tweets_df['Keyword'][tweets_df['has_county']]\n",
    "pd.Series(collections.Counter(tweets_have_county)).to_csv('distribution_has_county.csv')"
   ]
  },
  {
   "cell_type": "code",
   "execution_count": 6,
   "id": "135a5ab7",
   "metadata": {},
   "outputs": [],
   "source": [
    "tweets_have_city = tweets_df['Keyword'][tweets_df['has_city']]\n",
    "pd.Series(collections.Counter(tweets_have_city)).to_csv('distribution_has_city.csv')"
   ]
  },
  {
   "cell_type": "markdown",
   "id": "a793312f",
   "metadata": {},
   "source": [
    "## 7.1 State level"
   ]
  },
  {
   "cell_type": "code",
   "execution_count": 15,
   "id": "e2cb9ffc",
   "metadata": {},
   "outputs": [],
   "source": [
    "tweets_state = tweets_df[tweets_df['has_state']]"
   ]
  },
  {
   "cell_type": "code",
   "execution_count": 11,
   "id": "0c6b203e",
   "metadata": {},
   "outputs": [
    {
     "data": {
      "text/plain": [
       "309083"
      ]
     },
     "execution_count": 11,
     "metadata": {},
     "output_type": "execute_result"
    }
   ],
   "source": [
    "len(tweets_state)"
   ]
  },
  {
   "cell_type": "code",
   "execution_count": 16,
   "id": "3f7e1978",
   "metadata": {},
   "outputs": [],
   "source": [
    "the_state = the_tweets[['state','Text']].groupby('state').count()\n",
    "the_state = the_state.rename(columns={'Text':'n_the_tweets'})"
   ]
  },
  {
   "cell_type": "code",
   "execution_count": 17,
   "id": "4bd7495a",
   "metadata": {},
   "outputs": [
    {
     "data": {
      "text/plain": [
       "Index(['Unnamed: 0_x', 'Datetime', 'Tweet Id', 'Text', 'User', 'User_location',\n",
       "       'Place', 'Coordinates', 'Category', 'Keyword', 'keep_list', 'state',\n",
       "       'city', 'county', 'has_state', 'has_county', 'has_city', 'Unnamed: 0_y',\n",
       "       'weight'],\n",
       "      dtype='object')"
      ]
     },
     "execution_count": 17,
     "metadata": {},
     "output_type": "execute_result"
    }
   ],
   "source": [
    "tweets_state.columns"
   ]
  },
  {
   "cell_type": "code",
   "execution_count": 18,
   "id": "500c110f",
   "metadata": {},
   "outputs": [],
   "source": [
    "the_state_count_by_keyword = tweets_state.groupby(['state','Keyword']).size()"
   ]
  },
  {
   "cell_type": "code",
   "execution_count": 23,
   "id": "4e542331",
   "metadata": {},
   "outputs": [],
   "source": [
    "the_state_count_by_keyword.to_csv('the_state_count_by_keyword.csv')"
   ]
  },
  {
   "cell_type": "code",
   "execution_count": 188,
   "id": "2b29d44b",
   "metadata": {},
   "outputs": [],
   "source": [
    "the_state_weight = tweets_state[['state','weight']].groupby('state').sum()\n",
    "the_state_count = tweets_state[['state','weight']].groupby('state').count()\n",
    "the_state_count = the_state_count.rename(columns={'weight':'count'})"
   ]
  },
  {
   "cell_type": "code",
   "execution_count": 189,
   "id": "c8e026b4",
   "metadata": {},
   "outputs": [],
   "source": [
    "the_state_mis = the_state_weight.merge(the_state_count, left_index=True, right_index=True)\n",
    "the_state_mis = the_state_mis.merge(the_state, how='left', left_index=True, right_index=True)\n",
    "the_state_mis['mis_index_weight'] = the_state_mis['weight']/the_state_mis['n_the_tweets']\n",
    "the_state_mis['mis_index_count'] = the_state_mis['count']/the_state_mis['n_the_tweets']"
   ]
  },
  {
   "cell_type": "code",
   "execution_count": 191,
   "id": "6c92b86e",
   "metadata": {},
   "outputs": [],
   "source": [
    "the_state_mis.to_csv('the_state_mis.csv')"
   ]
  },
  {
   "cell_type": "markdown",
   "id": "49523d50",
   "metadata": {},
   "source": [
    "## 7.2 County level"
   ]
  },
  {
   "cell_type": "code",
   "execution_count": 20,
   "id": "aeb5d9c7",
   "metadata": {},
   "outputs": [
    {
     "data": {
      "text/plain": [
       "59121"
      ]
     },
     "execution_count": 20,
     "metadata": {},
     "output_type": "execute_result"
    }
   ],
   "source": [
    "tweets_county = tweets_df[tweets_df['has_county']]\n",
    "len(tweets_county)"
   ]
  },
  {
   "cell_type": "code",
   "execution_count": 21,
   "id": "e115b770",
   "metadata": {},
   "outputs": [
    {
     "data": {
      "text/plain": [
       "state    county    Keyword  \n",
       "alabama  chilton   bitch        1\n",
       "         crenshaw  bitch        6\n",
       "                   whore        1\n",
       "         cullman   bitch        3\n",
       "                   fucker       3\n",
       "                               ..\n",
       "wyoming  laramie   dumb fuck    1\n",
       "                   pussy        2\n",
       "         park      bitch        1\n",
       "         sheridan  bitch        2\n",
       "                   dumb fuck    1\n",
       "Length: 2075, dtype: int64"
      ]
     },
     "execution_count": 21,
     "metadata": {},
     "output_type": "execute_result"
    }
   ],
   "source": [
    "the_county_count_by_keyword = tweets_state.groupby(['state','county','Keyword']).size()\n",
    "the_county_count_by_keyword"
   ]
  },
  {
   "cell_type": "code",
   "execution_count": 22,
   "id": "62786772",
   "metadata": {},
   "outputs": [],
   "source": [
    "the_county_count_by_keyword.to_csv('the_county_by_keyword.csv')"
   ]
  },
  {
   "cell_type": "code",
   "execution_count": 193,
   "id": "65233b1d",
   "metadata": {},
   "outputs": [],
   "source": [
    "the_county_weight = tweets_county[['state','county','weight']].groupby(['state','county']).sum()\n",
    "the_county_count = tweets_county[['state','county','weight']].groupby(['state','county']).count()\n",
    "the_county_count = the_county_count.rename(columns={'weight':'count'})"
   ]
  },
  {
   "cell_type": "code",
   "execution_count": 194,
   "id": "65943465",
   "metadata": {},
   "outputs": [
    {
     "data": {
      "text/plain": [
       "849"
      ]
     },
     "execution_count": 194,
     "metadata": {},
     "output_type": "execute_result"
    }
   ],
   "source": [
    "len(county_mis)"
   ]
  },
  {
   "cell_type": "code",
   "execution_count": 195,
   "id": "4a118845",
   "metadata": {},
   "outputs": [],
   "source": [
    "the_county = the_tweets[['state','county','Text']].groupby('county').count()\n",
    "the_county = the_county.rename(columns={'Text':'n_the_tweets'})"
   ]
  },
  {
   "cell_type": "code",
   "execution_count": 196,
   "id": "bd0c311f",
   "metadata": {},
   "outputs": [],
   "source": [
    "the_county_mis = the_county_weight.merge(the_county_count, left_index=True, right_index=True)\n",
    "the_county_mis = the_county_mis.merge(the_county, how='left', left_index=True, right_index=True)\n",
    "the_county_mis['mis_index_weight'] = the_county_mis['weight']/the_county_mis['n_the_tweets']\n",
    "the_county_mis['mis_index_count'] = the_county_mis['count']/the_county_mis['n_the_tweets']"
   ]
  },
  {
   "cell_type": "code",
   "execution_count": 197,
   "id": "dcd51412",
   "metadata": {},
   "outputs": [],
   "source": [
    "the_county_mis.to_csv('the_county_mis.csv')"
   ]
  },
  {
   "cell_type": "markdown",
   "id": "f8ee63a1",
   "metadata": {},
   "source": [
    "## 7.3 City level"
   ]
  },
  {
   "cell_type": "code",
   "execution_count": 198,
   "id": "aeb5d9c7",
   "metadata": {},
   "outputs": [
    {
     "data": {
      "text/plain": [
       "70734"
      ]
     },
     "execution_count": 198,
     "metadata": {},
     "output_type": "execute_result"
    }
   ],
   "source": [
    "tweets_city = tweets_df[['Keyword','city','weight']][tweets_df['has_city']]\n",
    "len(tweets_city)"
   ]
  },
  {
   "cell_type": "code",
   "execution_count": 199,
   "id": "65233b1d",
   "metadata": {},
   "outputs": [],
   "source": [
    "city_mis = tweets_city[['city','weight']].groupby('city').sum()"
   ]
  },
  {
   "cell_type": "code",
   "execution_count": 200,
   "id": "7d3e1ed0",
   "metadata": {},
   "outputs": [
    {
     "data": {
      "text/plain": [
       "3824"
      ]
     },
     "execution_count": 200,
     "metadata": {},
     "output_type": "execute_result"
    }
   ],
   "source": [
    "len(city_mis)"
   ]
  },
  {
   "cell_type": "code",
   "execution_count": 201,
   "id": "d5918527",
   "metadata": {},
   "outputs": [],
   "source": [
    "the_city = the_tweets[['city','Text']].groupby('city').count()"
   ]
  },
  {
   "cell_type": "code",
   "execution_count": 202,
   "id": "bd0c311f",
   "metadata": {},
   "outputs": [],
   "source": [
    "the_city_mis = city_mis.merge(the_city, how='left',left_index=True, right_index=True)"
   ]
  },
  {
   "cell_type": "code",
   "execution_count": 203,
   "id": "98e175ee",
   "metadata": {},
   "outputs": [
    {
     "data": {
      "text/plain": [
       "Counter({'both': 2778, 'left_only': 1046})"
      ]
     },
     "execution_count": 203,
     "metadata": {},
     "output_type": "execute_result"
    }
   ],
   "source": [
    "collections.Counter(the_city_mis['_merge'])"
   ]
  },
  {
   "cell_type": "code",
   "execution_count": 412,
   "id": "7aa96d7c",
   "metadata": {},
   "outputs": [],
   "source": [
    "the_city_mis['mis_index'] = the_city_mis['weight']/the_city_mis['Text']"
   ]
  },
  {
   "cell_type": "code",
   "execution_count": 413,
   "id": "cb15177a",
   "metadata": {},
   "outputs": [],
   "source": [
    "the_city_mis.to_csv('the_city_mis.csv')"
   ]
  },
  {
   "cell_type": "markdown",
   "id": "684474d1",
   "metadata": {},
   "source": [
    "-----"
   ]
  },
  {
   "cell_type": "markdown",
   "id": "1e7c98ca",
   "metadata": {},
   "source": [
    "# A Matches and Indexes with adm population data"
   ]
  },
  {
   "cell_type": "markdown",
   "id": "17d84b41",
   "metadata": {},
   "source": [
    "## A (1) Some more processing before matching"
   ]
  },
  {
   "cell_type": "code",
   "execution_count": 270,
   "id": "e235e207",
   "metadata": {},
   "outputs": [],
   "source": [
    "tweets_df.replace('hawaiʻi','hawaii',inplace=True)"
   ]
  },
  {
   "cell_type": "markdown",
   "id": "1b963275",
   "metadata": {},
   "source": [
    "## 8.2 Weights"
   ]
  },
  {
   "cell_type": "code",
   "execution_count": 106,
   "id": "ee447b23",
   "metadata": {},
   "outputs": [],
   "source": [
    "weights = pd.read_csv('../lexicon weighting/final_weights.csv')"
   ]
  },
  {
   "cell_type": "code",
   "execution_count": 108,
   "id": "bd7d8f1a",
   "metadata": {},
   "outputs": [],
   "source": [
    "tweets_df = tweets_df.merge(weights, how='left', left_on='Keyword', right_on = 'Unnamed: 0')"
   ]
  },
  {
   "cell_type": "markdown",
   "id": "a793312f",
   "metadata": {},
   "source": [
    "## 8.3 State level"
   ]
  },
  {
   "cell_type": "code",
   "execution_count": 271,
   "id": "e2cb9ffc",
   "metadata": {},
   "outputs": [],
   "source": [
    "tweets_state = tweets_df[['Keyword','state','weight']][tweets_df['has_state']]"
   ]
  },
  {
   "cell_type": "code",
   "execution_count": 272,
   "id": "0c6b203e",
   "metadata": {},
   "outputs": [
    {
     "data": {
      "text/plain": [
       "315151"
      ]
     },
     "execution_count": 272,
     "metadata": {},
     "output_type": "execute_result"
    }
   ],
   "source": [
    "len(tweets_state)"
   ]
  },
  {
   "cell_type": "code",
   "execution_count": 414,
   "id": "2b29d44b",
   "metadata": {},
   "outputs": [],
   "source": [
    "state_mis = tweets_state[['state','weight']].groupby('state').sum()\n",
    "state_mis_pop = state_mis.merge(state_population_series, how='left', left_index=True, right_index=True)\n",
    "state_mis_pop['mis_index'] = state_mis_pop['weight']/state_mis_pop['population']"
   ]
  },
  {
   "cell_type": "code",
   "execution_count": 415,
   "id": "e688f575",
   "metadata": {},
   "outputs": [],
   "source": [
    "state_mis_pop.to_csv('state_mis_pop.csv')"
   ]
  },
  {
   "cell_type": "markdown",
   "id": "49523d50",
   "metadata": {},
   "source": [
    "## 5.4 County level"
   ]
  },
  {
   "cell_type": "code",
   "execution_count": 336,
   "id": "aeb5d9c7",
   "metadata": {},
   "outputs": [
    {
     "data": {
      "text/plain": [
       "90598"
      ]
     },
     "execution_count": 336,
     "metadata": {},
     "output_type": "execute_result"
    }
   ],
   "source": [
    "tweets_county = tweets_df[['Keyword','county','weight']][tweets_df['has_county']]\n",
    "len(tweets_county)"
   ]
  },
  {
   "cell_type": "code",
   "execution_count": 330,
   "id": "65233b1d",
   "metadata": {},
   "outputs": [],
   "source": [
    "county_mis = tweets_county[['county','weight']].groupby('county').sum()"
   ]
  },
  {
   "cell_type": "code",
   "execution_count": 344,
   "id": "65943465",
   "metadata": {},
   "outputs": [
    {
     "data": {
      "text/plain": [
       "849"
      ]
     },
     "execution_count": 344,
     "metadata": {},
     "output_type": "execute_result"
    }
   ],
   "source": [
    "len(county_mis)"
   ]
  },
  {
   "cell_type": "code",
   "execution_count": 345,
   "id": "bd0c311f",
   "metadata": {},
   "outputs": [],
   "source": [
    "county_mis_merged = county_mis.merge(county_population, how='left',left_index=True, right_on='county',indicator=True)"
   ]
  },
  {
   "cell_type": "code",
   "execution_count": 346,
   "metadata": {},
   "outputs": [
    {
     "data": {
      "text/plain": [
       "Counter({'both': 1796, 'left_only': 33})"
      ]
     },
     "execution_count": 346,
     "metadata": {},
     "output_type": "execute_result"
    }
   ],
   "source": [
    "collections.Counter(county_mis_merged['_merge'])"
   ]
  },
  {
   "cell_type": "code",
   "execution_count": 349,
   "id": "7aa96d7c",
   "metadata": {},
   "outputs": [],
   "source": [
    "county_mis_merged['mis_index_1'] = county_mis_merged['weight']/county_mis_merged['CENSUS2010POP']\n",
    "county_mis_merged['mis_index_2'] = county_mis_merged['weight']/county_mis_merged['POPESTIMATE2019']"
   ]
  },
  {
   "cell_type": "code",
   "execution_count": 416,
   "id": "dcd51412",
   "metadata": {},
   "outputs": [],
   "source": [
    "county_mis_merged.to_csv('county_mis_pop.csv')"
   ]
  },
  {
   "cell_type": "markdown",
   "id": "f8ee63a1",
   "metadata": {},
   "source": [
    "## 5.5 City level"
   ]
  },
  {
   "cell_type": "code",
   "execution_count": 359,
   "id": "aeb5d9c7",
   "metadata": {},
   "outputs": [
    {
     "data": {
      "text/plain": [
       "131504"
      ]
     },
     "execution_count": 359,
     "metadata": {},
     "output_type": "execute_result"
    }
   ],
   "source": [
    "tweets_city = tweets_df[['Keyword','city','weight']][tweets_df['has_city']]\n",
    "len(tweets_city)"
   ]
  },
  {
   "cell_type": "code",
   "execution_count": 351,
   "id": "65233b1d",
   "metadata": {},
   "outputs": [],
   "source": [
    "city_mis = tweets_city[['city','weight']].groupby('city').sum()"
   ]
  },
  {
   "cell_type": "code",
   "execution_count": 354,
   "id": "7d3e1ed0",
   "metadata": {},
   "outputs": [
    {
     "data": {
      "text/plain": [
       "4761"
      ]
     },
     "execution_count": 354,
     "metadata": {},
     "output_type": "execute_result"
    }
   ],
   "source": [
    "len(city_mis)"
   ]
  },
  {
   "cell_type": "code",
   "execution_count": 366,
   "id": "bd0c311f",
   "metadata": {},
   "outputs": [],
   "source": [
    "city_mis_merged = city_mis.merge(city_population, how='outer',left_index=True, right_on='city',indicator=True)"
   ]
  },
  {
   "cell_type": "code",
   "execution_count": 367,
   "id": "98e175ee",
   "metadata": {},
   "outputs": [
    {
     "data": {
      "text/plain": [
       "Counter({'left_only': 4254, 'both': 534, 'right_only': 254})"
      ]
     },
     "execution_count": 367,
     "metadata": {},
     "output_type": "execute_result"
    }
   ],
   "source": [
    "collections.Counter(city_mis_merged['_merge'])"
   ]
  },
  {
   "cell_type": "code",
   "execution_count": 362,
   "id": "7aa96d7c",
   "metadata": {},
   "outputs": [],
   "source": [
    "city_mis_merged['mis_index_1'] = city_mis_merged['weight']/city_mis_merged['2010 Census']\n",
    "city_mis_merged['mis_index_2'] = city_mis_merged['weight']/city_mis_merged['2019 Estimate']"
   ]
  }
 ],
 "metadata": {
  "kernelspec": {
   "display_name": "Python 3 (ipykernel)",
   "language": "python",
   "name": "python3"
  },
  "language_info": {
   "codemirror_mode": {
    "name": "ipython",
    "version": 3
   },
   "file_extension": ".py",
   "mimetype": "text/x-python",
   "name": "python",
   "nbconvert_exporter": "python",
   "pygments_lexer": "ipython3",
   "version": "3.10.2"
  }
 },
 "nbformat": 4,
 "nbformat_minor": 5
}
