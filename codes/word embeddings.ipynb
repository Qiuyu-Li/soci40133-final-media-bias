{
  "cells": [
    {
      "cell_type": "code",
      "execution_count": 3,
      "id": "d65eec58-20f6-487f-97e5-1c00a7b925da",
      "metadata": {
        "id": "d65eec58-20f6-487f-97e5-1c00a7b925da"
      },
      "outputs": [],
      "source": [
        "#All these packages need to be installed from pip\n",
        "import gensim #For word2vec, etc\n",
        "import requests #For downloading our datasets\n",
        "#import lucem_illud #pip install -U git+git://github.com/UChicago-Computational-Content-Analysis/lucem_illud.git\n",
        "\n",
        "import numpy as np #For arrays\n",
        "import pandas as pd#Gives us DataFrames\n",
        "import matplotlib.pyplot as plt #For graphics\n",
        "import seaborn #Makes the graphics look nicer\n",
        "import sklearn.metrics.pairwise #For cosine similarity\n",
        "import sklearn.manifold #For T-SNE\n",
        "import sklearn.decomposition #For PCA\n",
        "\n",
        "#This 'magic' command makes the plots work better\n",
        "#in the notebook, don't use it outside of a notebook.\n",
        "#Also you can ignore the warning\n",
        "%matplotlib inline\n",
        "\n",
        "import os #For looking through files\n",
        "import os.path #For managing file paths\n",
        "\n",
        "import re"
      ]
    },
    {
      "cell_type": "markdown",
      "id": "ba19a15f-bff3-4c34-8628-92381f12153a",
      "metadata": {
        "id": "ba19a15f-bff3-4c34-8628-92381f12153a"
      },
      "source": [
        "# 1 Get the corpora"
      ]
    },
    {
      "cell_type": "code",
      "execution_count": 2,
      "id": "a228625d-2361-44ec-a5d3-7535bfc60c5c",
      "metadata": {
        "id": "a228625d-2361-44ec-a5d3-7535bfc60c5c",
        "tags": []
      },
      "outputs": [
        {
          "data": {
            "text/html": [
              "<div>\n",
              "<style scoped>\n",
              "    .dataframe tbody tr th:only-of-type {\n",
              "        vertical-align: middle;\n",
              "    }\n",
              "\n",
              "    .dataframe tbody tr th {\n",
              "        vertical-align: top;\n",
              "    }\n",
              "\n",
              "    .dataframe thead th {\n",
              "        text-align: right;\n",
              "    }\n",
              "</style>\n",
              "<table border=\"1\" class=\"dataframe\">\n",
              "  <thead>\n",
              "    <tr style=\"text-align: right;\">\n",
              "      <th></th>\n",
              "      <th>Datetime</th>\n",
              "      <th>Tweet Id</th>\n",
              "      <th>Text</th>\n",
              "      <th>User</th>\n",
              "      <th>User_location</th>\n",
              "      <th>Place</th>\n",
              "      <th>Coordinates</th>\n",
              "      <th>Keyword</th>\n",
              "    </tr>\n",
              "  </thead>\n",
              "  <tbody>\n",
              "    <tr>\n",
              "      <th>0</th>\n",
              "      <td>2021-06-15 17:05:20+00:00</td>\n",
              "      <td>1404847502331990018</td>\n",
              "      <td>“bitch what r u doing out there without me” ht...</td>\n",
              "      <td>_lindssss</td>\n",
              "      <td>NJ</td>\n",
              "      <td>NaN</td>\n",
              "      <td>NaN</td>\n",
              "      <td>bitch</td>\n",
              "    </tr>\n",
              "    <tr>\n",
              "      <th>1</th>\n",
              "      <td>2021-06-15 09:48:15+00:00</td>\n",
              "      <td>1404737509549121536</td>\n",
              "      <td>What's worse, that grin of his yawns about as ...</td>\n",
              "      <td>catullusbot</td>\n",
              "      <td>Ancient Rome</td>\n",
              "      <td>NaN</td>\n",
              "      <td>NaN</td>\n",
              "      <td>cunt</td>\n",
              "    </tr>\n",
              "    <tr>\n",
              "      <th>2</th>\n",
              "      <td>2021-01-20 12:53:06+00:00</td>\n",
              "      <td>1351875400692101123</td>\n",
              "      <td>Omg yo my future wife prolly giving a nigga th...</td>\n",
              "      <td>Coopavelli_</td>\n",
              "      <td>443</td>\n",
              "      <td>NaN</td>\n",
              "      <td>NaN</td>\n",
              "      <td>pussy</td>\n",
              "    </tr>\n",
              "    <tr>\n",
              "      <th>3</th>\n",
              "      <td>2021-01-20 05:29:38+00:00</td>\n",
              "      <td>1351763797065740289</td>\n",
              "      <td>Any bitch I bring out gonna have the time of h...</td>\n",
              "      <td>FalonRonae</td>\n",
              "      <td>Why? We never linking.</td>\n",
              "      <td>NaN</td>\n",
              "      <td>NaN</td>\n",
              "      <td>bitch</td>\n",
              "    </tr>\n",
              "    <tr>\n",
              "      <th>4</th>\n",
              "      <td>2021-06-15 03:46:15+00:00</td>\n",
              "      <td>1404646407231852545</td>\n",
              "      <td>Chrissy Teigen has always been that unfunny re...</td>\n",
              "      <td>authenticduke</td>\n",
              "      <td>All Over Los Angeles</td>\n",
              "      <td>NaN</td>\n",
              "      <td>NaN</td>\n",
              "      <td>bitch ass</td>\n",
              "    </tr>\n",
              "  </tbody>\n",
              "</table>\n",
              "</div>"
            ],
            "text/plain": [
              "                    Datetime             Tweet Id  \\\n",
              "0  2021-06-15 17:05:20+00:00  1404847502331990018   \n",
              "1  2021-06-15 09:48:15+00:00  1404737509549121536   \n",
              "2  2021-01-20 12:53:06+00:00  1351875400692101123   \n",
              "3  2021-01-20 05:29:38+00:00  1351763797065740289   \n",
              "4  2021-06-15 03:46:15+00:00  1404646407231852545   \n",
              "\n",
              "                                                Text           User  \\\n",
              "0  “bitch what r u doing out there without me” ht...      _lindssss   \n",
              "1  What's worse, that grin of his yawns about as ...    catullusbot   \n",
              "2  Omg yo my future wife prolly giving a nigga th...    Coopavelli_   \n",
              "3  Any bitch I bring out gonna have the time of h...     FalonRonae   \n",
              "4  Chrissy Teigen has always been that unfunny re...  authenticduke   \n",
              "\n",
              "            User_location Place Coordinates    Keyword  \n",
              "0                      NJ   NaN         NaN      bitch  \n",
              "1            Ancient Rome   NaN         NaN       cunt  \n",
              "2                     443   NaN         NaN      pussy  \n",
              "3  Why? We never linking.   NaN         NaN      bitch  \n",
              "4    All Over Los Angeles   NaN         NaN  bitch ass  "
            ]
          },
          "execution_count": 2,
          "metadata": {},
          "output_type": "execute_result"
        }
      ],
      "source": [
        "mis_df = pd.read_csv(\"tweets_small.csv\")\n",
        "mis_df_small = mis_df.drop(['Unnamed: 0','Unnamed: 0.1'],axis=1)\n",
        "mis_df_small.head()"
      ]
    },
    {
      "cell_type": "markdown",
      "id": "84f542b4",
      "metadata": {},
      "source": [
        "# 2 Tokenization"
      ]
    },
    {
      "cell_type": "code",
      "execution_count": 5,
      "id": "a35fea20",
      "metadata": {},
      "outputs": [],
      "source": [
        "import spacy\n",
        "nlp = spacy.load(\"en_core_web_sm\")\n",
        "\n",
        "def word_tokenize(word_list, model=nlp, MAX_LEN=1500000):\n",
        "    \n",
        "    tokenized = []\n",
        "    if type(word_list) == list and len(word_list) == 1:\n",
        "        word_list = word_list[0]\n",
        "\n",
        "    if type(word_list) == list:\n",
        "        word_list = ' '.join([str(elem) for elem in word_list]) \n",
        "    # since we're only tokenizing, I remove RAM intensive operations and increase max text size\n",
        "\n",
        "    model.max_length = MAX_LEN\n",
        "    doc = model(word_list, disable=[\"parser\", \"tagger\", \"ner\", \"lemmatizer\"])\n",
        "    \n",
        "    for token in doc:\n",
        "        if not token.is_punct and len(token.text.strip()) > 0:\n",
        "            tokenized.append(token.text)\n",
        "    return tokenized\n",
        "    \n",
        "def normalizeTokens(word_list, extra_stop=[], model=nlp, lemma=True, MAX_LEN=1500000):\n",
        "    #We can use a generator here as we just need to iterate over it\n",
        "    normalized = []\n",
        "    if type(word_list) == list and len(word_list) == 1:\n",
        "        word_list = word_list[0]\n",
        "\n",
        "    if type(word_list) == list:\n",
        "        list_tmp = []\n",
        "        for elem in word_list:\n",
        "            list_tmp.append(elem)\n",
        "        word_list = ' '.join(list_tmp) \n",
        "\n",
        "    # since we're only normalizing, I remove RAM intensive operations and increase max text size\n",
        "\n",
        "    model.max_length = MAX_LEN\n",
        "    doc = model(word_list.lower(), disable=[\"parser\", \"tagger\", \"ner\"])\n",
        "\n",
        "    if len(extra_stop) > 0:\n",
        "        for stopword in extra_stop:\n",
        "            lexeme = nlp.vocab[stopword]\n",
        "            lexeme.is_stop = True\n",
        "\n",
        "    # we check if we want lemmas or not earlier to avoid checking every time we loop\n",
        "    if lemma:\n",
        "        for w in doc:\n",
        "            # if it's not a stop word or punctuation mark, add it to our article\n",
        "            if w.text != '\\n' and not w.is_stop and not w.is_punct and not w.like_num and len(w.text.strip()) > 0:\n",
        "            # we add the lematized version of the word\n",
        "                normalized.append(w.lemma_)\n",
        "    else:\n",
        "        for w in doc:\n",
        "            # if it's not a stop word or punctuation mark, add it to our article\n",
        "            if w.text != '\\n' and not w.is_stop and not w.is_punct and not w.like_num and len(w.text.strip()) > 0:\n",
        "            # we add the lematized version of the word\n",
        "                normalized.append(w.text.strip())\n",
        "\n",
        "    return normalized\n"
      ]
    },
    {
      "cell_type": "code",
      "execution_count": 6,
      "id": "d5aa45e3",
      "metadata": {},
      "outputs": [],
      "source": [
        "def sent_tokenize(word_list, model=nlp):\n",
        "    doc = model(word_list)\n",
        "    sentences = [sent.text.strip() for sent in doc.sents]\n",
        "    return sentences"
      ]
    },
    {
      "cell_type": "code",
      "execution_count": 7,
      "id": "2a9adcc5",
      "metadata": {},
      "outputs": [
        {
          "name": "stderr",
          "output_type": "stream",
          "text": [
            "C:\\Users\\liqiu\\AppData\\Local\\Programs\\Python\\Python310\\lib\\site-packages\\spacy\\pipeline\\lemmatizer.py:211: UserWarning: [W108] The rule-based lemmatizer did not find POS annotation for one or more tokens. Check that your pipeline includes components that assign token.pos, typically 'tagger'+'attribute_ruler' or 'morphologizer'.\n",
            "  warnings.warn(Warnings.W108)\n"
          ]
        }
      ],
      "source": [
        "mis_df_small['tokenized_sents'] = mis_df_small['cleaned_text'].apply(lambda x: [word_tokenize(s) for s in sent_tokenize(x)])\n",
        "mis_df_small['normalized_sents'] = mis_df_small['tokenized_sents'].apply(lambda x: [normalizeTokens(s) for s in x])"
      ]
    },
    {
      "cell_type": "code",
      "execution_count": 8,
      "id": "7e63946f",
      "metadata": {},
      "outputs": [],
      "source": [
        "misW2V = gensim.models.word2vec.Word2Vec(mis_df_small['normalized_sents'].sum(), sg=0)"
      ]
    },
    {
      "cell_type": "code",
      "execution_count": 11,
      "id": "532f94e6",
      "metadata": {},
      "outputs": [
        {
          "data": {
            "text/plain": [
              "[('ucking', 0.998742938041687),\n",
              " ('ick', 0.9986869692802429),\n",
              " ('pussies', 0.9985202550888062),\n",
              " ('takes', 0.998462438583374),\n",
              " ('ave', 0.9984195828437805),\n",
              " ('enjoy', 0.9983705878257751),\n",
              " ('girls', 0.9983689785003662),\n",
              " ('feels', 0.9983376264572144),\n",
              " ('shame', 0.9982975721359253),\n",
              " ('balls', 0.9982428550720215)]"
            ]
          },
          "execution_count": 11,
          "metadata": {},
          "output_type": "execute_result"
        }
      ],
      "source": [
        "misW2V.wv.most_similar('woman')"
      ]
    },
    {
      "cell_type": "code",
      "execution_count": 12,
      "id": "f6ea015b",
      "metadata": {},
      "outputs": [
        {
          "data": {
            "text/plain": [
              "[('fine', 0.997022807598114),\n",
              " ('place', 0.9969719052314758),\n",
              " ('cool', 0.9969708919525146),\n",
              " ('somebody', 0.9968761205673218),\n",
              " ('turn', 0.9967746138572693),\n",
              " ('find', 0.9967357516288757),\n",
              " ('ike', 0.99672532081604),\n",
              " ('ok', 0.9965589642524719),\n",
              " ('friend', 0.9965091347694397),\n",
              " ('screen', 0.9964550137519836)]"
            ]
          },
          "execution_count": 12,
          "metadata": {},
          "output_type": "execute_result"
        }
      ],
      "source": [
        "misW2V.wv.most_similar('man')"
      ]
    },
    {
      "cell_type": "code",
      "execution_count": 18,
      "id": "30a5e549",
      "metadata": {},
      "outputs": [
        {
          "data": {
            "text/plain": [
              "' ominating betas is what   was born to do   ont miss out on a genuine domme cause you re a pussy     indom paypig  indomme brutal whalesub human    relapse cbt  beta betas cuck fincuck cuckold '"
            ]
          },
          "execution_count": 18,
          "metadata": {},
          "output_type": "execute_result"
        }
      ],
      "source": [
        "import random\n",
        "n = random.randint(0,30000)\n",
        "mis_df_small['cleaned_text'][n]"
      ]
    },
    {
      "cell_type": "code",
      "execution_count": 27,
      "id": "053e6c4c",
      "metadata": {},
      "outputs": [],
      "source": [
        "numWords = 50\n",
        "\n",
        "mistargetWords = misW2V.wv.index_to_key[:numWords]\n",
        "miswordsSubMatrix = []\n",
        "for word in mistargetWords:\n",
        "    miswordsSubMatrix.append(misW2V.wv[word])\n",
        "miswordsSubMatrix = np.array(miswordsSubMatrix)"
      ]
    },
    {
      "cell_type": "code",
      "execution_count": 23,
      "id": "3cacaa83",
      "metadata": {},
      "outputs": [],
      "source": [
        "mispcaWords = sklearn.decomposition.PCA(n_components = 50).fit_transform(miswordsSubMatrix)"
      ]
    },
    {
      "cell_type": "code",
      "execution_count": 28,
      "id": "603c5d73",
      "metadata": {},
      "outputs": [
        {
          "data": {
            "image/png": "[encoded data removed]",
            "text/plain": [
              "<Figure size 720x432 with 1 Axes>"
            ]
          },
          "metadata": {},
          "output_type": "display_data"
        }
      ],
      "source": [
        "fig = plt.figure(figsize = (10,6))\n",
        "ax = fig.add_subplot(111)\n",
        "ax.set_frame_on(False)\n",
        "plt.scatter(mispcaWords[:, 0], mispcaWords[:, 1], alpha = 0)#Making the points invisible \n",
        "for i, word in enumerate(mistargetWords):\n",
        "    ax.annotate(word, (mispcaWords[:, 0][i],mispcaWords[:, 1][i]), size =  20 * (numWords - i) / numWords)\n",
        "plt.xticks(())\n",
        "plt.yticks(())\n",
        "plt.show()"
      ]
    },
    {
      "cell_type": "code",
      "execution_count": 29,
      "id": "265dd64b",
      "metadata": {},
      "outputs": [
        {
          "name": "stderr",
          "output_type": "stream",
          "text": [
            "C:\\Users\\liqiu\\AppData\\Local\\Programs\\Python\\Python310\\lib\\site-packages\\sklearn\\manifold\\_t_sne.py:780: FutureWarning: The default initialization in TSNE will change from 'random' to 'pca' in 1.2.\n",
            "  warnings.warn(\n",
            "C:\\Users\\liqiu\\AppData\\Local\\Programs\\Python\\Python310\\lib\\site-packages\\sklearn\\manifold\\_t_sne.py:790: FutureWarning: The default learning rate in TSNE will change from 200.0 to 'auto' in 1.2.\n",
            "  warnings.warn(\n"
          ]
        },
        {
          "data": {
            "image/png": "[encoded data removed]",
            "text/plain": [
              "<Figure size 720x432 with 1 Axes>"
            ]
          },
          "metadata": {},
          "output_type": "display_data"
        }
      ],
      "source": [
        "mistsneWords = sklearn.manifold.TSNE(n_components = 2).fit_transform(mispcaWords)\n",
        "fig = plt.figure(figsize = (10,6))\n",
        "ax = fig.add_subplot(111)\n",
        "ax.set_frame_on(False)\n",
        "plt.scatter(mistsneWords[:, 0], mistsneWords[:, 1], alpha = 0)#Making the points invisible \n",
        "for i, word in enumerate(mistargetWords):\n",
        "    ax.annotate(word, (mistsneWords[:, 0][i],mistsneWords[:, 1][i]), size =  20 * (numWords - i) / numWords)\n",
        "plt.xticks(())\n",
        "plt.yticks(())\n",
        "plt.show()"
      ]
    }
  ],
  "metadata": {
    "colab": {
      "name": "topic_modeling.ipynb",
      "provenance": []
    },
    "kernelspec": {
      "display_name": "Python 3 (ipykernel)",
      "language": "python",
      "name": "python3"
    },
    "language_info": {
      "codemirror_mode": {
        "name": "ipython",
        "version": 3
      },
      "file_extension": ".py",
      "mimetype": "text/x-python",
      "name": "python",
      "nbconvert_exporter": "python",
      "pygments_lexer": "ipython3",
      "version": "3.10.3"
    }
  },
  "nbformat": 4,
  "nbformat_minor": 5
}
