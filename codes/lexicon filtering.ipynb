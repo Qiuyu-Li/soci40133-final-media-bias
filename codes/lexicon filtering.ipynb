{
 "cells": [
  {
   "cell_type": "markdown",
   "id": "dfe05d16-be8f-407b-a9dd-4be8f557f904",
   "metadata": {},
   "source": [
    "# Lexicon refining"
   ]
  },
  {
   "cell_type": "code",
   "execution_count": 1,
   "id": "53f12d74-751d-4d11-8a92-dd2c76c948e7",
   "metadata": {},
   "outputs": [],
   "source": [
    "import json, math\n",
    "import pandas as pd\n",
    "from nltk.stem.porter import *"
   ]
  },
  {
   "cell_type": "markdown",
   "id": "b5b05abf-a169-4839-b7ae-9ba6637e05e0",
   "metadata": {
    "tags": []
   },
   "source": [
    "## 1 Read in the lexicon"
   ]
  },
  {
   "cell_type": "code",
   "execution_count": 3,
   "id": "eac48feb-5999-4b54-b6d0-7e5177776d50",
   "metadata": {},
   "outputs": [],
   "source": [
    "lexicon_path = '../../from Github/WebSci2019/lexicon.json'"
   ]
  },
  {
   "cell_type": "code",
   "execution_count": 4,
   "id": "3cf232d5-d545-488d-9375-ae9eff4562a0",
   "metadata": {},
   "outputs": [],
   "source": [
    "# Read the Farrell's keyword file\n",
    "with open(lexicon_path) as f:\n",
    "    lexicon = json.load(f)"
   ]
  },
  {
   "cell_type": "markdown",
   "id": "dc4a53c9-7577-41f5-989e-db9d279c5036",
   "metadata": {
    "tags": []
   },
   "source": [
    "## 2 Define two functions"
   ]
  },
  {
   "cell_type": "code",
   "execution_count": 5,
   "id": "6d7fade2-81c0-4489-971a-09f2151323e0",
   "metadata": {},
   "outputs": [],
   "source": [
    "def lexicon_size(lexicon):\n",
    "    size = 0\n",
    "    for key in lexicon:\n",
    "        size = size + len(lexicon[key])\n",
    "    return size\n",
    "\n",
    "def delete_elements(lexicon,to_be_deleted):\n",
    "    for key in lexicon:\n",
    "        for ele in lexicon[key]:\n",
    "            if ele in to_be_deleted:\n",
    "                lexicon[key].remove(ele)\n",
    "    return lexicon"
   ]
  },
  {
   "cell_type": "code",
   "execution_count": 6,
   "id": "f1bf9c9c-96df-47c1-bd8a-3d5384558404",
   "metadata": {},
   "outputs": [
    {
     "data": {
      "text/plain": [
       "1300"
      ]
     },
     "execution_count": 6,
     "metadata": {},
     "output_type": "execute_result"
    }
   ],
   "source": [
    "lexicon_size(lexicon)"
   ]
  },
  {
   "cell_type": "markdown",
   "id": "af9403b9-381b-43ba-8a25-73c3703ae48c",
   "metadata": {},
   "source": [
    "## 3 Delete the 'Racism' category"
   ]
  },
  {
   "cell_type": "code",
   "execution_count": 7,
   "id": "e6d2fe81-2073-4e11-8751-1fd82031aef2",
   "metadata": {},
   "outputs": [],
   "source": [
    "del lexicon['Racism']"
   ]
  },
  {
   "cell_type": "code",
   "execution_count": 8,
   "id": "ddf447e2-6537-4ab9-900f-8c9838bba7c0",
   "metadata": {},
   "outputs": [
    {
     "data": {
      "text/plain": [
       "630"
      ]
     },
     "execution_count": 8,
     "metadata": {},
     "output_type": "execute_result"
    }
   ],
   "source": [
    "lexicon_size(lexicon)"
   ]
  },
  {
   "cell_type": "markdown",
   "id": "51242ebe-e1f0-4e17-ade9-895a671496c3",
   "metadata": {},
   "source": [
    "## 4 Stemming"
   ]
  },
  {
   "cell_type": "code",
   "execution_count": 9,
   "id": "bde50231-e834-410a-acb5-799c135ce0ea",
   "metadata": {},
   "outputs": [],
   "source": [
    "ps = PorterStemmer()\n",
    "\n",
    "lexicon_stemmed = dict()\n",
    "for key in lexicon:\n",
    "    ele_list = []\n",
    "    for ele in lexicon[key]:\n",
    "        ele_list.append(ps.stem(ele))\n",
    "    ele_set = set(ele_list)\n",
    "    lexicon_stemmed[key] = list(ele_set)"
   ]
  },
  {
   "cell_type": "code",
   "execution_count": 10,
   "id": "0d461875-f99c-4a85-917d-3bc0b67dd244",
   "metadata": {},
   "outputs": [
    {
     "data": {
      "text/plain": [
       "549"
      ]
     },
     "execution_count": 10,
     "metadata": {},
     "output_type": "execute_result"
    }
   ],
   "source": [
    "lexicon_size(lexicon_stemmed)"
   ]
  },
  {
   "cell_type": "markdown",
   "id": "99388f40",
   "metadata": {},
   "source": [
    "## 5 The first round of weights: Based on tweets on Feb 26, 2021"
   ]
  },
  {
   "cell_type": "code",
   "execution_count": 2,
   "id": "b1e1eb0a",
   "metadata": {},
   "outputs": [],
   "source": [
    "weights_1 = pd.read_csv('weights_1.csv')\n",
    "weights_2 = pd.read_csv('weights_2.csv')\n",
    "weights = pd.concat([weights_1,weights_2], ignore_index=True)"
   ]
  },
  {
   "cell_type": "code",
   "execution_count": 3,
   "id": "0e807115",
   "metadata": {},
   "outputs": [
    {
     "data": {
      "text/html": [
       "<div>\n",
       "<style scoped>\n",
       "    .dataframe tbody tr th:only-of-type {\n",
       "        vertical-align: middle;\n",
       "    }\n",
       "\n",
       "    .dataframe tbody tr th {\n",
       "        vertical-align: top;\n",
       "    }\n",
       "\n",
       "    .dataframe thead th {\n",
       "        text-align: right;\n",
       "    }\n",
       "</style>\n",
       "<table border=\"1\" class=\"dataframe\">\n",
       "  <thead>\n",
       "    <tr style=\"text-align: right;\">\n",
       "      <th></th>\n",
       "      <th>Unnamed: 0</th>\n",
       "      <th>n</th>\n",
       "      <th>mis_n</th>\n",
       "    </tr>\n",
       "  </thead>\n",
       "  <tbody>\n",
       "    <tr>\n",
       "      <th>0</th>\n",
       "      <td>assault</td>\n",
       "      <td>1141</td>\n",
       "      <td>NaN</td>\n",
       "    </tr>\n",
       "    <tr>\n",
       "      <th>1</th>\n",
       "      <td>asshole</td>\n",
       "      <td>2243</td>\n",
       "      <td>14.0</td>\n",
       "    </tr>\n",
       "    <tr>\n",
       "      <th>2</th>\n",
       "      <td>attack</td>\n",
       "      <td>5804</td>\n",
       "      <td>4.0</td>\n",
       "    </tr>\n",
       "    <tr>\n",
       "      <th>3</th>\n",
       "      <td>balls</td>\n",
       "      <td>7707</td>\n",
       "      <td>7.0</td>\n",
       "    </tr>\n",
       "    <tr>\n",
       "      <th>4</th>\n",
       "      <td>bang</td>\n",
       "      <td>2386</td>\n",
       "      <td>2.0</td>\n",
       "    </tr>\n",
       "    <tr>\n",
       "      <th>...</th>\n",
       "      <td>...</td>\n",
       "      <td>...</td>\n",
       "      <td>...</td>\n",
       "    </tr>\n",
       "    <tr>\n",
       "      <th>113</th>\n",
       "      <td>shake</td>\n",
       "      <td>1673</td>\n",
       "      <td>12.0</td>\n",
       "    </tr>\n",
       "    <tr>\n",
       "      <th>114</th>\n",
       "      <td>shoot</td>\n",
       "      <td>3212</td>\n",
       "      <td>25.0</td>\n",
       "    </tr>\n",
       "    <tr>\n",
       "      <th>115</th>\n",
       "      <td>slap</td>\n",
       "      <td>2157</td>\n",
       "      <td>13.0</td>\n",
       "    </tr>\n",
       "    <tr>\n",
       "      <th>116</th>\n",
       "      <td>smash</td>\n",
       "      <td>1675</td>\n",
       "      <td>10.0</td>\n",
       "    </tr>\n",
       "    <tr>\n",
       "      <th>117</th>\n",
       "      <td>strike</td>\n",
       "      <td>4320</td>\n",
       "      <td>32.0</td>\n",
       "    </tr>\n",
       "  </tbody>\n",
       "</table>\n",
       "<p>118 rows × 3 columns</p>\n",
       "</div>"
      ],
      "text/plain": [
       "    Unnamed: 0     n  mis_n\n",
       "0      assault  1141    NaN\n",
       "1      asshole  2243   14.0\n",
       "2       attack  5804    4.0\n",
       "3        balls  7707    7.0\n",
       "4         bang  2386    2.0\n",
       "..         ...   ...    ...\n",
       "113      shake  1673   12.0\n",
       "114     shoot   3212   25.0\n",
       "115       slap  2157   13.0\n",
       "116      smash  1675   10.0\n",
       "117     strike  4320   32.0\n",
       "\n",
       "[118 rows x 3 columns]"
      ]
     },
     "execution_count": 3,
     "metadata": {},
     "output_type": "execute_result"
    }
   ],
   "source": [
    "weights"
   ]
  },
  {
   "cell_type": "code",
   "execution_count": 4,
   "id": "bd0f66c9",
   "metadata": {},
   "outputs": [
    {
     "name": "stderr",
     "output_type": "stream",
     "text": [
      "C:\\Users\\86188\\AppData\\Local\\Temp\\ipykernel_47704\\3652374743.py:11: SettingWithCopyWarning: \n",
      "A value is trying to be set on a copy of a slice from a DataFrame.\n",
      "Try using .loc[row_indexer,col_indexer] = value instead\n",
      "\n",
      "See the caveats in the documentation: https://pandas.pydata.org/pandas-docs/stable/user_guide/indexing.html#returning-a-view-versus-a-copy\n",
      "  weights_kept['weight'] = weights_kept['mis_n'] / weights_kept['n']\n"
     ]
    },
    {
     "data": {
      "text/html": [
       "<div>\n",
       "<style scoped>\n",
       "    .dataframe tbody tr th:only-of-type {\n",
       "        vertical-align: middle;\n",
       "    }\n",
       "\n",
       "    .dataframe tbody tr th {\n",
       "        vertical-align: top;\n",
       "    }\n",
       "\n",
       "    .dataframe thead th {\n",
       "        text-align: right;\n",
       "    }\n",
       "</style>\n",
       "<table border=\"1\" class=\"dataframe\">\n",
       "  <thead>\n",
       "    <tr style=\"text-align: right;\">\n",
       "      <th></th>\n",
       "      <th>Unnamed: 0</th>\n",
       "      <th>n</th>\n",
       "      <th>mis_n</th>\n",
       "      <th>is_na</th>\n",
       "      <th>weight</th>\n",
       "    </tr>\n",
       "  </thead>\n",
       "  <tbody>\n",
       "    <tr>\n",
       "      <th>9</th>\n",
       "      <td>bitch</td>\n",
       "      <td>16028</td>\n",
       "      <td>446.0</td>\n",
       "      <td>0</td>\n",
       "      <td>0.027826</td>\n",
       "    </tr>\n",
       "    <tr>\n",
       "      <th>10</th>\n",
       "      <td>bitches</td>\n",
       "      <td>15393</td>\n",
       "      <td>414.0</td>\n",
       "      <td>0</td>\n",
       "      <td>0.026895</td>\n",
       "    </tr>\n",
       "    <tr>\n",
       "      <th>47</th>\n",
       "      <td>pussies</td>\n",
       "      <td>2892</td>\n",
       "      <td>54.0</td>\n",
       "      <td>0</td>\n",
       "      <td>0.018672</td>\n",
       "    </tr>\n",
       "    <tr>\n",
       "      <th>48</th>\n",
       "      <td>pussy</td>\n",
       "      <td>3061</td>\n",
       "      <td>53.0</td>\n",
       "      <td>0</td>\n",
       "      <td>0.017315</td>\n",
       "    </tr>\n",
       "    <tr>\n",
       "      <th>49</th>\n",
       "      <td>pussys</td>\n",
       "      <td>2791</td>\n",
       "      <td>46.0</td>\n",
       "      <td>0</td>\n",
       "      <td>0.016482</td>\n",
       "    </tr>\n",
       "    <tr>\n",
       "      <th>86</th>\n",
       "      <td>fucker</td>\n",
       "      <td>1016</td>\n",
       "      <td>14.0</td>\n",
       "      <td>0</td>\n",
       "      <td>0.013780</td>\n",
       "    </tr>\n",
       "    <tr>\n",
       "      <th>34</th>\n",
       "      <td>hoe</td>\n",
       "      <td>2602</td>\n",
       "      <td>33.0</td>\n",
       "      <td>0</td>\n",
       "      <td>0.012683</td>\n",
       "    </tr>\n",
       "    <tr>\n",
       "      <th>35</th>\n",
       "      <td>hoes</td>\n",
       "      <td>2655</td>\n",
       "      <td>29.0</td>\n",
       "      <td>0</td>\n",
       "      <td>0.010923</td>\n",
       "    </tr>\n",
       "    <tr>\n",
       "      <th>73</th>\n",
       "      <td>boob</td>\n",
       "      <td>1308</td>\n",
       "      <td>14.0</td>\n",
       "      <td>0</td>\n",
       "      <td>0.010703</td>\n",
       "    </tr>\n",
       "    <tr>\n",
       "      <th>63</th>\n",
       "      <td>bang</td>\n",
       "      <td>2386</td>\n",
       "      <td>25.0</td>\n",
       "      <td>0</td>\n",
       "      <td>0.010478</td>\n",
       "    </tr>\n",
       "    <tr>\n",
       "      <th>111</th>\n",
       "      <td>ram</td>\n",
       "      <td>1060</td>\n",
       "      <td>11.0</td>\n",
       "      <td>0</td>\n",
       "      <td>0.010377</td>\n",
       "    </tr>\n",
       "    <tr>\n",
       "      <th>71</th>\n",
       "      <td>blast</td>\n",
       "      <td>1260</td>\n",
       "      <td>13.0</td>\n",
       "      <td>0</td>\n",
       "      <td>0.010317</td>\n",
       "    </tr>\n",
       "    <tr>\n",
       "      <th>89</th>\n",
       "      <td>harm</td>\n",
       "      <td>1577</td>\n",
       "      <td>16.0</td>\n",
       "      <td>0</td>\n",
       "      <td>0.010146</td>\n",
       "    </tr>\n",
       "    <tr>\n",
       "      <th>110</th>\n",
       "      <td>queers</td>\n",
       "      <td>1008</td>\n",
       "      <td>10.0</td>\n",
       "      <td>0</td>\n",
       "      <td>0.009921</td>\n",
       "    </tr>\n",
       "    <tr>\n",
       "      <th>105</th>\n",
       "      <td>punch</td>\n",
       "      <td>1642</td>\n",
       "      <td>15.0</td>\n",
       "      <td>0</td>\n",
       "      <td>0.009135</td>\n",
       "    </tr>\n",
       "  </tbody>\n",
       "</table>\n",
       "</div>"
      ],
      "text/plain": [
       "    Unnamed: 0      n  mis_n  is_na    weight\n",
       "9        bitch  16028  446.0      0  0.027826\n",
       "10     bitches  15393  414.0      0  0.026895\n",
       "47     pussies   2892   54.0      0  0.018672\n",
       "48       pussy   3061   53.0      0  0.017315\n",
       "49      pussys   2791   46.0      0  0.016482\n",
       "86      fucker   1016   14.0      0  0.013780\n",
       "34         hoe   2602   33.0      0  0.012683\n",
       "35        hoes   2655   29.0      0  0.010923\n",
       "73        boob   1308   14.0      0  0.010703\n",
       "63        bang   2386   25.0      0  0.010478\n",
       "111        ram   1060   11.0      0  0.010377\n",
       "71       blast   1260   13.0      0  0.010317\n",
       "89        harm   1577   16.0      0  0.010146\n",
       "110     queers   1008   10.0      0  0.009921\n",
       "105      punch   1642   15.0      0  0.009135"
      ]
     },
     "execution_count": 4,
     "metadata": {},
     "output_type": "execute_result"
    }
   ],
   "source": [
    "is_na_list = []\n",
    "for i in weights['mis_n']:\n",
    "    if math.isnan(i):\n",
    "        is_na_list.append(1)\n",
    "    else:\n",
    "        is_na_list.append(0)\n",
    "weights['is_na'] = is_na_list\n",
    "dropped_words_r1 = weights['Unnamed: 0'][weights['is_na'] == 1]\n",
    "\n",
    "weights_kept = weights[weights['is_na'] == 0]\n",
    "weights_kept['weight'] = weights_kept['mis_n'] / weights_kept['n']\n",
    "weights_kept.sort_values(by='weight',ascending=False)[:15]"
   ]
  },
  {
   "cell_type": "code",
   "execution_count": 5,
   "id": "aa3491b0",
   "metadata": {},
   "outputs": [
    {
     "data": {
      "text/plain": [
       "105"
      ]
     },
     "execution_count": 5,
     "metadata": {},
     "output_type": "execute_result"
    }
   ],
   "source": [
    "len(weights_kept)"
   ]
  },
  {
   "cell_type": "markdown",
   "id": "7a5c26e7",
   "metadata": {},
   "source": [
    "### 5.1 Also delete words with a weight of less than 0.02"
   ]
  },
  {
   "cell_type": "code",
   "execution_count": 17,
   "id": "8298da0c",
   "metadata": {},
   "outputs": [
    {
     "data": {
      "text/plain": [
       "201"
      ]
     },
     "execution_count": 17,
     "metadata": {},
     "output_type": "execute_result"
    }
   ],
   "source": [
    "a = weights_kept['Unnamed: 0'][weights_kept['weight'] < 0.02]\n",
    "dropped_words_r1 = list(dropped_words_r1) + list(a)\n",
    "len(dropped_words_r1)"
   ]
  },
  {
   "cell_type": "code",
   "execution_count": 18,
   "id": "06961463",
   "metadata": {},
   "outputs": [
    {
     "data": {
      "text/plain": [
       "505"
      ]
     },
     "execution_count": 18,
     "metadata": {},
     "output_type": "execute_result"
    }
   ],
   "source": [
    "lexicon_1 = delete_elements(lexicon_stemmed,dropped_words_r1)\n",
    "lexicon_size(lexicon_1)"
   ]
  },
  {
   "cell_type": "code",
   "execution_count": 19,
   "id": "6ab1c8cf",
   "metadata": {},
   "outputs": [],
   "source": [
    "included_words_r1 = ['bitch','pussy','fucker','hoe','boob','bang','ram']"
   ]
  },
  {
   "cell_type": "code",
   "execution_count": 20,
   "id": "e6ddcf3e",
   "metadata": {},
   "outputs": [],
   "source": [
    "lexicon_1_for_scrapping = delete_elements(lexicon_1,included_words_r1)"
   ]
  },
  {
   "cell_type": "code",
   "execution_count": 21,
   "id": "f8752abf",
   "metadata": {},
   "outputs": [],
   "source": [
    "with open('lexicon_1.json', 'w') as outfile:\n",
    "    json.dump(lexicon_1, outfile)\n",
    "with open('lexicon_1_for_scrapping.json', 'w') as outfile:\n",
    "    json.dump(lexicon_1_for_scrapping, outfile)"
   ]
  },
  {
   "cell_type": "markdown",
   "id": "e8bd989a",
   "metadata": {},
   "source": [
    "## 6. weights_3 and Final lexicon and weights!"
   ]
  },
  {
   "cell_type": "code",
   "execution_count": 4,
   "id": "1f0602e7",
   "metadata": {},
   "outputs": [],
   "source": [
    "weights_1 = pd.read_csv('weights_1.csv')\n",
    "weights_2 = pd.read_csv('weights_2.csv')\n",
    "weights_12 = pd.concat([weights_1,weights_2], ignore_index=True)"
   ]
  },
  {
   "cell_type": "code",
   "execution_count": 5,
   "metadata": {},
   "outputs": [
    {
     "name": "stderr",
     "output_type": "stream",
     "text": [
      "C:\\Users\\86188\\AppData\\Local\\Temp\\ipykernel_10416\\308500961.py:10: SettingWithCopyWarning: \n",
      "A value is trying to be set on a copy of a slice from a DataFrame.\n",
      "Try using .loc[row_indexer,col_indexer] = value instead\n",
      "\n",
      "See the caveats in the documentation: https://pandas.pydata.org/pandas-docs/stable/user_guide/indexing.html#returning-a-view-versus-a-copy\n",
      "  weights_kept_12['weight'] = weights_kept_12['mis_n'] / weights_kept_12['n']\n"
     ]
    },
    {
     "data": {
      "text/html": [
       "<div>\n",
       "<style scoped>\n",
       "    .dataframe tbody tr th:only-of-type {\n",
       "        vertical-align: middle;\n",
       "    }\n",
       "\n",
       "    .dataframe tbody tr th {\n",
       "        vertical-align: top;\n",
       "    }\n",
       "\n",
       "    .dataframe thead th {\n",
       "        text-align: right;\n",
       "    }\n",
       "</style>\n",
       "<table border=\"1\" class=\"dataframe\">\n",
       "  <thead>\n",
       "    <tr style=\"text-align: right;\">\n",
       "      <th></th>\n",
       "      <th>Unnamed: 0</th>\n",
       "      <th>n</th>\n",
       "      <th>mis_n</th>\n",
       "      <th>is_na</th>\n",
       "      <th>weight</th>\n",
       "    </tr>\n",
       "  </thead>\n",
       "  <tbody>\n",
       "    <tr>\n",
       "      <th>9</th>\n",
       "      <td>bitch</td>\n",
       "      <td>16028</td>\n",
       "      <td>446.0</td>\n",
       "      <td>0</td>\n",
       "      <td>0.027826</td>\n",
       "    </tr>\n",
       "    <tr>\n",
       "      <th>10</th>\n",
       "      <td>bitches</td>\n",
       "      <td>15393</td>\n",
       "      <td>414.0</td>\n",
       "      <td>0</td>\n",
       "      <td>0.026895</td>\n",
       "    </tr>\n",
       "    <tr>\n",
       "      <th>47</th>\n",
       "      <td>pussies</td>\n",
       "      <td>2892</td>\n",
       "      <td>54.0</td>\n",
       "      <td>0</td>\n",
       "      <td>0.018672</td>\n",
       "    </tr>\n",
       "    <tr>\n",
       "      <th>48</th>\n",
       "      <td>pussy</td>\n",
       "      <td>3061</td>\n",
       "      <td>53.0</td>\n",
       "      <td>0</td>\n",
       "      <td>0.017315</td>\n",
       "    </tr>\n",
       "    <tr>\n",
       "      <th>49</th>\n",
       "      <td>pussys</td>\n",
       "      <td>2791</td>\n",
       "      <td>46.0</td>\n",
       "      <td>0</td>\n",
       "      <td>0.016482</td>\n",
       "    </tr>\n",
       "    <tr>\n",
       "      <th>...</th>\n",
       "      <td>...</td>\n",
       "      <td>...</td>\n",
       "      <td>...</td>\n",
       "      <td>...</td>\n",
       "      <td>...</td>\n",
       "    </tr>\n",
       "    <tr>\n",
       "      <th>26</th>\n",
       "      <td>force</td>\n",
       "      <td>4940</td>\n",
       "      <td>2.0</td>\n",
       "      <td>0</td>\n",
       "      <td>0.000405</td>\n",
       "    </tr>\n",
       "    <tr>\n",
       "      <th>18</th>\n",
       "      <td>crush</td>\n",
       "      <td>2672</td>\n",
       "      <td>1.0</td>\n",
       "      <td>0</td>\n",
       "      <td>0.000374</td>\n",
       "    </tr>\n",
       "    <tr>\n",
       "      <th>32</th>\n",
       "      <td>hit</td>\n",
       "      <td>18822</td>\n",
       "      <td>7.0</td>\n",
       "      <td>0</td>\n",
       "      <td>0.000372</td>\n",
       "    </tr>\n",
       "    <tr>\n",
       "      <th>44</th>\n",
       "      <td>murder</td>\n",
       "      <td>3051</td>\n",
       "      <td>1.0</td>\n",
       "      <td>0</td>\n",
       "      <td>0.000328</td>\n",
       "    </tr>\n",
       "    <tr>\n",
       "      <th>7</th>\n",
       "      <td>bird</td>\n",
       "      <td>3814</td>\n",
       "      <td>1.0</td>\n",
       "      <td>0</td>\n",
       "      <td>0.000262</td>\n",
       "    </tr>\n",
       "  </tbody>\n",
       "</table>\n",
       "<p>105 rows × 5 columns</p>\n",
       "</div>"
      ],
      "text/plain": [
       "   Unnamed: 0      n  mis_n  is_na    weight\n",
       "9       bitch  16028  446.0      0  0.027826\n",
       "10    bitches  15393  414.0      0  0.026895\n",
       "47    pussies   2892   54.0      0  0.018672\n",
       "48      pussy   3061   53.0      0  0.017315\n",
       "49     pussys   2791   46.0      0  0.016482\n",
       "..        ...    ...    ...    ...       ...\n",
       "26      force   4940    2.0      0  0.000405\n",
       "18      crush   2672    1.0      0  0.000374\n",
       "32        hit  18822    7.0      0  0.000372\n",
       "44     murder   3051    1.0      0  0.000328\n",
       "7        bird   3814    1.0      0  0.000262\n",
       "\n",
       "[105 rows x 5 columns]"
      ]
     },
     "execution_count": 5,
     "metadata": {},
     "output_type": "execute_result"
    }
   ],
   "source": [
    "is_na_list = []\n",
    "for i in weights_12['mis_n']:\n",
    "    if math.isnan(i):\n",
    "        is_na_list.append(1)\n",
    "    else:\n",
    "        is_na_list.append(0)\n",
    "weights_12['is_na'] = is_na_list\n",
    "\n",
    "weights_kept_12 = weights_12[weights_12['is_na'] == 0]\n",
    "weights_kept_12['weight'] = weights_kept_12['mis_n'] / weights_kept_12['n']\n",
    "weights_kept_12.sort_values(by='weight',ascending=False)"
   ]
  },
  {
   "cell_type": "code",
   "execution_count": 25,
   "id": "13376be4",
   "metadata": {},
   "outputs": [],
   "source": [
    "weights_kept_12_1 = weights_kept_12.sort_values(by='weight',ascending=False)[:10]"
   ]
  },
  {
   "cell_type": "code",
   "execution_count": 26,
   "id": "ebeb99b9",
   "metadata": {},
   "outputs": [],
   "source": [
    "weights_kept_12_1 = weights_kept_12_1.drop([10,47,49,35])"
   ]
  },
  {
   "cell_type": "code",
   "execution_count": 27,
   "id": "c5765045",
   "metadata": {},
   "outputs": [],
   "source": [
    "weights_kept_12_1 = weights_kept_12_1.set_index('Unnamed: 0')"
   ]
  },
  {
   "cell_type": "code",
   "execution_count": 28,
   "id": "3fd54382",
   "metadata": {},
   "outputs": [],
   "source": [
    "weights_kept_12_2 = weights_kept_12_1['weight']"
   ]
  },
  {
   "cell_type": "code",
   "execution_count": 29,
   "id": "1dbfb812",
   "metadata": {},
   "outputs": [],
   "source": [
    "normalized_weights_12=(weights_kept_12_2-weights_kept_12_2.min())/(weights_kept_12_2.max()-weights_kept_12_2.min())"
   ]
  },
  {
   "cell_type": "code",
   "execution_count": 30,
   "id": "948dd5ac",
   "metadata": {},
   "outputs": [
    {
     "data": {
      "text/plain": [
       "Unnamed: 0\n",
       "bitch     1.000000\n",
       "pussy     0.394086\n",
       "fucker    0.190318\n",
       "hoe       0.127087\n",
       "boob      0.013003\n",
       "bang      0.000000\n",
       "Name: weight, dtype: float64"
      ]
     },
     "execution_count": 30,
     "metadata": {},
     "output_type": "execute_result"
    }
   ],
   "source": [
    "normalized_weights_12"
   ]
  },
  {
   "cell_type": "code",
   "execution_count": 33,
   "id": "87cb509c",
   "metadata": {},
   "outputs": [],
   "source": [
    "weights_3 = pd.read_csv('weights_3.csv')"
   ]
  },
  {
   "cell_type": "code",
   "execution_count": 34,
   "id": "fb685c38",
   "metadata": {},
   "outputs": [
    {
     "name": "stderr",
     "output_type": "stream",
     "text": [
      "C:\\Users\\86188\\AppData\\Local\\Temp\\ipykernel_10416\\2237533474.py:10: SettingWithCopyWarning: \n",
      "A value is trying to be set on a copy of a slice from a DataFrame.\n",
      "Try using .loc[row_indexer,col_indexer] = value instead\n",
      "\n",
      "See the caveats in the documentation: https://pandas.pydata.org/pandas-docs/stable/user_guide/indexing.html#returning-a-view-versus-a-copy\n",
      "  weights_kept_3['weight'] = weights_kept_3['mis_n'] / weights_kept_3['n']\n"
     ]
    },
    {
     "data": {
      "text/html": [
       "<div>\n",
       "<style scoped>\n",
       "    .dataframe tbody tr th:only-of-type {\n",
       "        vertical-align: middle;\n",
       "    }\n",
       "\n",
       "    .dataframe tbody tr th {\n",
       "        vertical-align: top;\n",
       "    }\n",
       "\n",
       "    .dataframe thead th {\n",
       "        text-align: right;\n",
       "    }\n",
       "</style>\n",
       "<table border=\"1\" class=\"dataframe\">\n",
       "  <thead>\n",
       "    <tr style=\"text-align: right;\">\n",
       "      <th></th>\n",
       "      <th>Unnamed: 0</th>\n",
       "      <th>n</th>\n",
       "      <th>mis_n</th>\n",
       "      <th>is_na</th>\n",
       "      <th>weight</th>\n",
       "    </tr>\n",
       "  </thead>\n",
       "  <tbody>\n",
       "    <tr>\n",
       "      <th>258</th>\n",
       "      <td>skank fuck</td>\n",
       "      <td>4</td>\n",
       "      <td>1.0</td>\n",
       "      <td>0</td>\n",
       "      <td>0.250000</td>\n",
       "    </tr>\n",
       "    <tr>\n",
       "      <th>91</th>\n",
       "      <td>cunt rag</td>\n",
       "      <td>5</td>\n",
       "      <td>1.0</td>\n",
       "      <td>0</td>\n",
       "      <td>0.200000</td>\n",
       "    </tr>\n",
       "    <tr>\n",
       "      <th>36</th>\n",
       "      <td>bitch ass</td>\n",
       "      <td>5677</td>\n",
       "      <td>160.0</td>\n",
       "      <td>0</td>\n",
       "      <td>0.028184</td>\n",
       "    </tr>\n",
       "    <tr>\n",
       "      <th>89</th>\n",
       "      <td>cumslut</td>\n",
       "      <td>308</td>\n",
       "      <td>3.0</td>\n",
       "      <td>0</td>\n",
       "      <td>0.009740</td>\n",
       "    </tr>\n",
       "    <tr>\n",
       "      <th>210</th>\n",
       "      <td>mothafucka</td>\n",
       "      <td>144</td>\n",
       "      <td>1.0</td>\n",
       "      <td>0</td>\n",
       "      <td>0.006944</td>\n",
       "    </tr>\n",
       "    <tr>\n",
       "      <th>10</th>\n",
       "      <td>assfuck</td>\n",
       "      <td>293</td>\n",
       "      <td>2.0</td>\n",
       "      <td>0</td>\n",
       "      <td>0.006826</td>\n",
       "    </tr>\n",
       "    <tr>\n",
       "      <th>266</th>\n",
       "      <td>slut</td>\n",
       "      <td>5381</td>\n",
       "      <td>32.0</td>\n",
       "      <td>0</td>\n",
       "      <td>0.005947</td>\n",
       "    </tr>\n",
       "    <tr>\n",
       "      <th>317</th>\n",
       "      <td>whore</td>\n",
       "      <td>8075</td>\n",
       "      <td>32.0</td>\n",
       "      <td>0</td>\n",
       "      <td>0.003963</td>\n",
       "    </tr>\n",
       "    <tr>\n",
       "      <th>115</th>\n",
       "      <td>dumb fuck</td>\n",
       "      <td>1617</td>\n",
       "      <td>5.0</td>\n",
       "      <td>0</td>\n",
       "      <td>0.003092</td>\n",
       "    </tr>\n",
       "    <tr>\n",
       "      <th>90</th>\n",
       "      <td>cunt</td>\n",
       "      <td>8140</td>\n",
       "      <td>20.0</td>\n",
       "      <td>0</td>\n",
       "      <td>0.002457</td>\n",
       "    </tr>\n",
       "    <tr>\n",
       "      <th>72</th>\n",
       "      <td>cock suck</td>\n",
       "      <td>501</td>\n",
       "      <td>1.0</td>\n",
       "      <td>0</td>\n",
       "      <td>0.001996</td>\n",
       "    </tr>\n",
       "    <tr>\n",
       "      <th>314</th>\n",
       "      <td>whitey</td>\n",
       "      <td>581</td>\n",
       "      <td>1.0</td>\n",
       "      <td>0</td>\n",
       "      <td>0.001721</td>\n",
       "    </tr>\n",
       "    <tr>\n",
       "      <th>126</th>\n",
       "      <td>faggot</td>\n",
       "      <td>581</td>\n",
       "      <td>1.0</td>\n",
       "      <td>0</td>\n",
       "      <td>0.001721</td>\n",
       "    </tr>\n",
       "    <tr>\n",
       "      <th>199</th>\n",
       "      <td>lolita</td>\n",
       "      <td>599</td>\n",
       "      <td>1.0</td>\n",
       "      <td>0</td>\n",
       "      <td>0.001669</td>\n",
       "    </tr>\n",
       "    <tr>\n",
       "      <th>112</th>\n",
       "      <td>douchebag</td>\n",
       "      <td>610</td>\n",
       "      <td>1.0</td>\n",
       "      <td>0</td>\n",
       "      <td>0.001639</td>\n",
       "    </tr>\n",
       "    <tr>\n",
       "      <th>21</th>\n",
       "      <td>bad fuck</td>\n",
       "      <td>3470</td>\n",
       "      <td>5.0</td>\n",
       "      <td>0</td>\n",
       "      <td>0.001441</td>\n",
       "    </tr>\n",
       "    <tr>\n",
       "      <th>33</th>\n",
       "      <td>big ass</td>\n",
       "      <td>3811</td>\n",
       "      <td>5.0</td>\n",
       "      <td>0</td>\n",
       "      <td>0.001312</td>\n",
       "    </tr>\n",
       "    <tr>\n",
       "      <th>181</th>\n",
       "      <td>incest</td>\n",
       "      <td>1659</td>\n",
       "      <td>2.0</td>\n",
       "      <td>0</td>\n",
       "      <td>0.001206</td>\n",
       "    </tr>\n",
       "    <tr>\n",
       "      <th>24</th>\n",
       "      <td>bastard</td>\n",
       "      <td>8434</td>\n",
       "      <td>10.0</td>\n",
       "      <td>0</td>\n",
       "      <td>0.001186</td>\n",
       "    </tr>\n",
       "    <tr>\n",
       "      <th>242</th>\n",
       "      <td>redneck</td>\n",
       "      <td>1094</td>\n",
       "      <td>1.0</td>\n",
       "      <td>0</td>\n",
       "      <td>0.000914</td>\n",
       "    </tr>\n",
       "    <tr>\n",
       "      <th>86</th>\n",
       "      <td>cuck</td>\n",
       "      <td>2253</td>\n",
       "      <td>2.0</td>\n",
       "      <td>0</td>\n",
       "      <td>0.000888</td>\n",
       "    </tr>\n",
       "    <tr>\n",
       "      <th>278</th>\n",
       "      <td>stab</td>\n",
       "      <td>2332</td>\n",
       "      <td>2.0</td>\n",
       "      <td>0</td>\n",
       "      <td>0.000858</td>\n",
       "    </tr>\n",
       "    <tr>\n",
       "      <th>286</th>\n",
       "      <td>threaten</td>\n",
       "      <td>3780</td>\n",
       "      <td>3.0</td>\n",
       "      <td>0</td>\n",
       "      <td>0.000794</td>\n",
       "    </tr>\n",
       "    <tr>\n",
       "      <th>238</th>\n",
       "      <td>puss</td>\n",
       "      <td>1324</td>\n",
       "      <td>1.0</td>\n",
       "      <td>0</td>\n",
       "      <td>0.000755</td>\n",
       "    </tr>\n",
       "    <tr>\n",
       "      <th>274</th>\n",
       "      <td>snatch</td>\n",
       "      <td>1503</td>\n",
       "      <td>1.0</td>\n",
       "      <td>0</td>\n",
       "      <td>0.000665</td>\n",
       "    </tr>\n",
       "    <tr>\n",
       "      <th>64</th>\n",
       "      <td>choke</td>\n",
       "      <td>4723</td>\n",
       "      <td>3.0</td>\n",
       "      <td>0</td>\n",
       "      <td>0.000635</td>\n",
       "    </tr>\n",
       "    <tr>\n",
       "      <th>52</th>\n",
       "      <td>butcher</td>\n",
       "      <td>1628</td>\n",
       "      <td>1.0</td>\n",
       "      <td>0</td>\n",
       "      <td>0.000614</td>\n",
       "    </tr>\n",
       "    <tr>\n",
       "      <th>270</th>\n",
       "      <td>smack</td>\n",
       "      <td>3310</td>\n",
       "      <td>2.0</td>\n",
       "      <td>0</td>\n",
       "      <td>0.000604</td>\n",
       "    </tr>\n",
       "    <tr>\n",
       "      <th>48</th>\n",
       "      <td>bring down</td>\n",
       "      <td>3749</td>\n",
       "      <td>2.0</td>\n",
       "      <td>0</td>\n",
       "      <td>0.000533</td>\n",
       "    </tr>\n",
       "    <tr>\n",
       "      <th>263</th>\n",
       "      <td>slaughter</td>\n",
       "      <td>2103</td>\n",
       "      <td>1.0</td>\n",
       "      <td>0</td>\n",
       "      <td>0.000476</td>\n",
       "    </tr>\n",
       "    <tr>\n",
       "      <th>82</th>\n",
       "      <td>conquer</td>\n",
       "      <td>2132</td>\n",
       "      <td>1.0</td>\n",
       "      <td>0</td>\n",
       "      <td>0.000469</td>\n",
       "    </tr>\n",
       "    <tr>\n",
       "      <th>173</th>\n",
       "      <td>homo</td>\n",
       "      <td>2243</td>\n",
       "      <td>1.0</td>\n",
       "      <td>0</td>\n",
       "      <td>0.000446</td>\n",
       "    </tr>\n",
       "    <tr>\n",
       "      <th>185</th>\n",
       "      <td>jackass</td>\n",
       "      <td>2477</td>\n",
       "      <td>1.0</td>\n",
       "      <td>0</td>\n",
       "      <td>0.000404</td>\n",
       "    </tr>\n",
       "    <tr>\n",
       "      <th>245</th>\n",
       "      <td>rope</td>\n",
       "      <td>2772</td>\n",
       "      <td>1.0</td>\n",
       "      <td>0</td>\n",
       "      <td>0.000361</td>\n",
       "    </tr>\n",
       "    <tr>\n",
       "      <th>254</th>\n",
       "      <td>shove</td>\n",
       "      <td>3087</td>\n",
       "      <td>1.0</td>\n",
       "      <td>0</td>\n",
       "      <td>0.000324</td>\n",
       "    </tr>\n",
       "    <tr>\n",
       "      <th>221</th>\n",
       "      <td>overthrow</td>\n",
       "      <td>3277</td>\n",
       "      <td>1.0</td>\n",
       "      <td>0</td>\n",
       "      <td>0.000305</td>\n",
       "    </tr>\n",
       "    <tr>\n",
       "      <th>235</th>\n",
       "      <td>punish</td>\n",
       "      <td>4433</td>\n",
       "      <td>1.0</td>\n",
       "      <td>0</td>\n",
       "      <td>0.000226</td>\n",
       "    </tr>\n",
       "    <tr>\n",
       "      <th>29</th>\n",
       "      <td>beta</td>\n",
       "      <td>9146</td>\n",
       "      <td>2.0</td>\n",
       "      <td>0</td>\n",
       "      <td>0.000219</td>\n",
       "    </tr>\n",
       "    <tr>\n",
       "      <th>51</th>\n",
       "      <td>bust</td>\n",
       "      <td>5290</td>\n",
       "      <td>1.0</td>\n",
       "      <td>0</td>\n",
       "      <td>0.000189</td>\n",
       "    </tr>\n",
       "    <tr>\n",
       "      <th>61</th>\n",
       "      <td>chad</td>\n",
       "      <td>5804</td>\n",
       "      <td>1.0</td>\n",
       "      <td>0</td>\n",
       "      <td>0.000172</td>\n",
       "    </tr>\n",
       "  </tbody>\n",
       "</table>\n",
       "</div>"
      ],
      "text/plain": [
       "     Unnamed: 0     n  mis_n  is_na    weight\n",
       "258  skank fuck     4    1.0      0  0.250000\n",
       "91     cunt rag     5    1.0      0  0.200000\n",
       "36    bitch ass  5677  160.0      0  0.028184\n",
       "89      cumslut   308    3.0      0  0.009740\n",
       "210  mothafucka   144    1.0      0  0.006944\n",
       "10      assfuck   293    2.0      0  0.006826\n",
       "266        slut  5381   32.0      0  0.005947\n",
       "317       whore  8075   32.0      0  0.003963\n",
       "115   dumb fuck  1617    5.0      0  0.003092\n",
       "90         cunt  8140   20.0      0  0.002457\n",
       "72    cock suck   501    1.0      0  0.001996\n",
       "314      whitey   581    1.0      0  0.001721\n",
       "126      faggot   581    1.0      0  0.001721\n",
       "199      lolita   599    1.0      0  0.001669\n",
       "112   douchebag   610    1.0      0  0.001639\n",
       "21     bad fuck  3470    5.0      0  0.001441\n",
       "33      big ass  3811    5.0      0  0.001312\n",
       "181      incest  1659    2.0      0  0.001206\n",
       "24      bastard  8434   10.0      0  0.001186\n",
       "242     redneck  1094    1.0      0  0.000914\n",
       "86         cuck  2253    2.0      0  0.000888\n",
       "278        stab  2332    2.0      0  0.000858\n",
       "286    threaten  3780    3.0      0  0.000794\n",
       "238        puss  1324    1.0      0  0.000755\n",
       "274      snatch  1503    1.0      0  0.000665\n",
       "64        choke  4723    3.0      0  0.000635\n",
       "52      butcher  1628    1.0      0  0.000614\n",
       "270       smack  3310    2.0      0  0.000604\n",
       "48   bring down  3749    2.0      0  0.000533\n",
       "263   slaughter  2103    1.0      0  0.000476\n",
       "82      conquer  2132    1.0      0  0.000469\n",
       "173        homo  2243    1.0      0  0.000446\n",
       "185     jackass  2477    1.0      0  0.000404\n",
       "245        rope  2772    1.0      0  0.000361\n",
       "254       shove  3087    1.0      0  0.000324\n",
       "221   overthrow  3277    1.0      0  0.000305\n",
       "235      punish  4433    1.0      0  0.000226\n",
       "29         beta  9146    2.0      0  0.000219\n",
       "51         bust  5290    1.0      0  0.000189\n",
       "61         chad  5804    1.0      0  0.000172"
      ]
     },
     "execution_count": 34,
     "metadata": {},
     "output_type": "execute_result"
    }
   ],
   "source": [
    "is_na_list = []\n",
    "for i in weights_3['mis_n']:\n",
    "    if math.isnan(i):\n",
    "        is_na_list.append(1)\n",
    "    else:\n",
    "        is_na_list.append(0)\n",
    "weights_3['is_na'] = is_na_list\n",
    "\n",
    "weights_kept_3 = weights_3[weights_3['is_na'] == 0]\n",
    "weights_kept_3['weight'] = weights_kept_3['mis_n'] / weights_kept_3['n']\n",
    "weights_kept_3.sort_values(by='weight',ascending=False)"
   ]
  },
  {
   "cell_type": "code",
   "execution_count": 39,
   "id": "c8a4a72e",
   "metadata": {},
   "outputs": [],
   "source": [
    "weights_kept_3_1 = weights_kept_3.sort_values(by='weight',ascending=False)[:12]\n",
    "weights_kept_3_1 = weights_kept_3_1.set_index('Unnamed: 0')\n",
    "weights_kept_3_2 = weights_kept_3_1['weight']\n",
    "\n",
    "# Change the weights of the highest two to be 0.03\n",
    "weights_kept_3_2 = weights_kept_3_2.replace({0.25: 0.03, 0.2: 0.03})\n"
   ]
  },
  {
   "cell_type": "code",
   "execution_count": 40,
   "id": "c960e2af",
   "metadata": {},
   "outputs": [
    {
     "data": {
      "text/plain": [
       "Unnamed: 0\n",
       "skank fuck    1.000000\n",
       "cunt rag      1.000000\n",
       "bitch ass     0.935779\n",
       "cumslut       0.283572\n",
       "mothafucka    0.184706\n",
       "assfuck       0.180516\n",
       "slut          0.149429\n",
       "whore         0.079271\n",
       "dumb fuck     0.048481\n",
       "cunt          0.026021\n",
       "cock suck     0.009719\n",
       "whitey        0.000000\n",
       "Name: weight, dtype: float64"
      ]
     },
     "execution_count": 40,
     "metadata": {},
     "output_type": "execute_result"
    }
   ],
   "source": [
    "normalized_weights_3=(weights_kept_3_2-weights_kept_3_2.min())/(weights_kept_3_2.max()-weights_kept_3_2.min())\n",
    "normalized_weights_3"
   ]
  },
  {
   "cell_type": "code",
   "execution_count": 7,
   "id": "7ccbff66",
   "metadata": {},
   "outputs": [],
   "source": [
    "final_lexicon = ['bitch','pussy','fucker','hoe','boob','skank fuck','cunt rag','bitch ass','cumslut','mothafucka','assfuck','slut','whore','dumb fuck','cunt','cock suck']"
   ]
  },
  {
   "cell_type": "code",
   "execution_count": 43,
   "id": "19f8f330",
   "metadata": {},
   "outputs": [],
   "source": [
    "final_weights = pd.concat([normalized_weights_12,normalized_weights_3])\n",
    "final_weights.to_csv('final_weights.csv')"
   ]
  },
  {
   "cell_type": "markdown",
   "id": "eb3e4a77",
   "metadata": {},
   "source": [
    "## 7 Standardize seperately and construct the final weights"
   ]
  },
  {
   "cell_type": "code",
   "execution_count": 8,
   "id": "27cdce44",
   "metadata": {},
   "outputs": [],
   "source": [
    "weights_kept_12 = weights_kept_12.set_index('Unnamed: 0')"
   ]
  },
  {
   "cell_type": "code",
   "execution_count": 1,
   "id": "181829ef",
   "metadata": {},
   "outputs": [
    {
     "ename": "NameError",
     "evalue": "name 'weights_kept_12' is not defined",
     "output_type": "error",
     "traceback": [
      "\u001b[1;31m---------------------------------------------------------------------------\u001b[0m",
      "\u001b[1;31mNameError\u001b[0m                                 Traceback (most recent call last)",
      "\u001b[1;32mc:\\Users\\86188\\Desktop\\Thesis Twitter Misogyny\\Paper codes\\lexicon weighting\\lexicon filtering.ipynb Cell 34'\u001b[0m in \u001b[0;36m<module>\u001b[1;34m\u001b[0m\n\u001b[1;32m----> <a href='vscode-notebook-cell:/c%3A/Users/86188/Desktop/Thesis%20Twitter%20Misogyny/Paper%20codes/lexicon%20weighting/lexicon%20filtering.ipynb#ch0000033?line=0'>1</a>\u001b[0m weights_kept_12_1 \u001b[39m=\u001b[39m weights_kept_12[\u001b[39m'\u001b[39m\u001b[39mweight\u001b[39m\u001b[39m'\u001b[39m]\n\u001b[0;32m      <a href='vscode-notebook-cell:/c%3A/Users/86188/Desktop/Thesis%20Twitter%20Misogyny/Paper%20codes/lexicon%20weighting/lexicon%20filtering.ipynb#ch0000033?line=1'>2</a>\u001b[0m weights_kept_12_1\n",
      "\u001b[1;31mNameError\u001b[0m: name 'weights_kept_12' is not defined"
     ]
    }
   ],
   "source": [
    "weights_kept_12_1 = weights_kept_12['weight']\n",
    "weights_kept_12_1"
   ]
  },
  {
   "cell_type": "code",
   "execution_count": 18,
   "id": "7273a8fa",
   "metadata": {},
   "outputs": [
    {
     "ename": "RuntimeError",
     "evalue": "dictionary changed size during iteration",
     "output_type": "error",
     "traceback": [
      "\u001b[1;31m---------------------------------------------------------------------------\u001b[0m",
      "\u001b[1;31mRuntimeError\u001b[0m                              Traceback (most recent call last)",
      "\u001b[1;32mc:\\Users\\86188\\Desktop\\Thesis Twitter Misogyny\\Paper codes\\lexicon weighting\\lexicon filtering.ipynb Cell 35'\u001b[0m in \u001b[0;36m<module>\u001b[1;34m\u001b[0m\n\u001b[1;32m----> <a href='vscode-notebook-cell:/c%3A/Users/86188/Desktop/Thesis%20Twitter%20Misogyny/Paper%20codes/lexicon%20weighting/lexicon%20filtering.ipynb#ch0000036?line=0'>1</a>\u001b[0m \u001b[39mfor\u001b[39;00m k,v \u001b[39min\u001b[39;00m weights_kept_12_1\u001b[39m.\u001b[39mitems():\n\u001b[0;32m      <a href='vscode-notebook-cell:/c%3A/Users/86188/Desktop/Thesis%20Twitter%20Misogyny/Paper%20codes/lexicon%20weighting/lexicon%20filtering.ipynb#ch0000036?line=1'>2</a>\u001b[0m     \u001b[39mif\u001b[39;00m k \u001b[39mnot\u001b[39;00m \u001b[39min\u001b[39;00m final_lexicon:\n\u001b[0;32m      <a href='vscode-notebook-cell:/c%3A/Users/86188/Desktop/Thesis%20Twitter%20Misogyny/Paper%20codes/lexicon%20weighting/lexicon%20filtering.ipynb#ch0000036?line=2'>3</a>\u001b[0m         \u001b[39mdel\u001b[39;00m weights_kept_12_1[k]\n",
      "\u001b[1;31mRuntimeError\u001b[0m: dictionary changed size during iteration"
     ]
    }
   ],
   "source": [
    "for k,v in weights_kept_12_1.items():\n",
    "    if k not in final_lexicon:\n",
    "        del weights_kept_12_1[k]\n",
    "weights_kept_12_1"
   ]
  },
  {
   "cell_type": "code",
   "execution_count": 13,
   "id": "61729962",
   "metadata": {},
   "outputs": [
    {
     "data": {
      "text/plain": [
       "Unnamed: 0\n",
       "asshole    0.044353\n",
       "attack    -1.068058\n",
       "balls     -1.024166\n",
       "bang      -1.038198\n",
       "beat      -0.981109\n",
       "             ...   \n",
       "shake      0.230896\n",
       "shoot      0.353220\n",
       "slap       0.001329\n",
       "smash     -0.010039\n",
       "strike     0.277909\n",
       "Name: weight, Length: 105, dtype: float64"
      ]
     },
     "execution_count": 13,
     "metadata": {},
     "output_type": "execute_result"
    }
   ],
   "source": [
    "normalized_weights_12=(weights_kept_12_1-weights_kept_12_1.mean())/weights_kept_12_1.std()\n",
    "normalized_weights_12"
   ]
  }
 ],
 "metadata": {
  "kernelspec": {
   "display_name": "Python 3 (ipykernel)",
   "language": "python",
   "name": "python3"
  },
  "language_info": {
   "codemirror_mode": {
    "name": "ipython",
    "version": 3
   },
   "file_extension": ".py",
   "mimetype": "text/x-python",
   "name": "python",
   "nbconvert_exporter": "python",
   "pygments_lexer": "ipython3",
   "version": "3.10.2"
  }
 },
 "nbformat": 4,
 "nbformat_minor": 5
}
