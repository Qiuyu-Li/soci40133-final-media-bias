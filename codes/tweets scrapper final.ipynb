{
 "cells": [
  {
   "cell_type": "code",
   "execution_count": 4,
   "id": "c2ddef8c",
   "metadata": {},
   "outputs": [],
   "source": [
    "import pandas as pd\n",
    "import snscrape.modules.twitter as sntwitter"
   ]
  },
  {
   "cell_type": "markdown",
   "id": "c6fc7169",
   "metadata": {},
   "source": [
    "# Collect tweets based on the final lexicon"
   ]
  },
  {
   "cell_type": "code",
   "execution_count": 5,
   "id": "db9597db",
   "metadata": {},
   "outputs": [],
   "source": [
    "lexicon = ['bitch','pussy','fucker','hoe','boob','skank fuck','cunt rag','bitch ass','cumslut','mothafucka','assfuck','slut','whore','dumb fuck','cunt','cock suck']"
   ]
  },
  {
   "cell_type": "code",
   "execution_count": 8,
   "id": "3ee3523d",
   "metadata": {},
   "outputs": [
    {
     "name": "stdout",
     "output_type": "stream",
     "text": [
      "bitch\n",
      "pussy\n",
      "fucker\n",
      "hoe\n",
      "boob\n",
      "skank fuck\n",
      "cunt rag\n",
      "bitch ass\n",
      "cumslut\n",
      "mothafucka\n",
      "assfuck\n",
      "slut\n",
      "whore\n",
      "dumb fuck\n",
      "cunt\n",
      "cock suck\n"
     ]
    }
   ],
   "source": [
    "tweets_list = []\n",
    "for keyword in lexicon:\n",
    "    print(keyword)\n",
    "    for tweet in sntwitter.TwitterSearchScraper('{} since:2021-04-03 until:2021-04-04 lang:en'.format(keyword)).get_items():\n",
    "        tweets_list.append([tweet.date, tweet.id, tweet.content, tweet.user.username, tweet.user.location, tweet.place, tweet.coordinates, keyword]) #declare the attributes to be returned"
   ]
  },
  {
   "cell_type": "code",
   "execution_count": 9,
   "id": "00bad483",
   "metadata": {},
   "outputs": [
    {
     "name": "stdout",
     "output_type": "stream",
     "text": [
      "bitch\n",
      "pussy\n",
      "fucker\n",
      "hoe\n",
      "boob\n",
      "skank fuck\n",
      "cunt rag\n",
      "bitch ass\n",
      "cumslut\n",
      "mothafucka\n",
      "assfuck\n",
      "slut\n",
      "whore\n",
      "dumb fuck\n",
      "cunt\n",
      "cock suck\n"
     ]
    }
   ],
   "source": [
    "for keyword in lexicon:\n",
    "    print(keyword)\n",
    "    for tweet in sntwitter.TwitterSearchScraper('{} since:2021-06-15 until:2021-06-16 lang:en'.format(keyword)).get_items():\n",
    "        tweets_list.append([tweet.date, tweet.id, tweet.content, tweet.user.username, tweet.user.location, tweet.place, tweet.coordinates, keyword]) #declare the attributes to be returned"
   ]
  },
  {
   "cell_type": "code",
   "execution_count": 10,
   "id": "52ea412f",
   "metadata": {},
   "outputs": [
    {
     "name": "stdout",
     "output_type": "stream",
     "text": [
      "bitch\n",
      "pussy\n",
      "fucker\n",
      "hoe\n",
      "boob\n",
      "skank fuck\n",
      "cunt rag\n",
      "bitch ass\n",
      "cumslut\n",
      "mothafucka\n",
      "assfuck\n",
      "slut\n",
      "whore\n",
      "dumb fuck\n",
      "cunt\n",
      "cock suck\n"
     ]
    }
   ],
   "source": [
    "for keyword in lexicon:\n",
    "    print(keyword)\n",
    "    for tweet in sntwitter.TwitterSearchScraper('{} since:2021-08-27 until:2021-08-28 lang:en'.format(keyword)).get_items():\n",
    "        tweets_list.append([tweet.date, tweet.id, tweet.content, tweet.user.username, tweet.user.location, tweet.place, tweet.coordinates, keyword]) #declare the attributes to be returned"
   ]
  },
  {
   "cell_type": "code",
   "execution_count": 11,
   "id": "ca0b16b7",
   "metadata": {},
   "outputs": [
    {
     "name": "stdout",
     "output_type": "stream",
     "text": [
      "bitch\n",
      "pussy\n",
      "fucker\n",
      "hoe\n",
      "boob\n",
      "skank fuck\n",
      "cunt rag\n",
      "bitch ass\n",
      "cumslut\n",
      "mothafucka\n",
      "assfuck\n",
      "slut\n",
      "whore\n",
      "dumb fuck\n",
      "cunt\n",
      "cock suck\n"
     ]
    }
   ],
   "source": [
    "for keyword in lexicon:\n",
    "    print(keyword)\n",
    "    for tweet in sntwitter.TwitterSearchScraper('{} since:2021-11-08 until:2021-11-09 lang:en'.format(keyword)).get_items():\n",
    "        tweets_list.append([tweet.date, tweet.id, tweet.content, tweet.user.username, tweet.user.location, tweet.place, tweet.coordinates, keyword]) #declare the attributes to be returned"
   ]
  },
  {
   "cell_type": "code",
   "execution_count": 12,
   "id": "25d87d25",
   "metadata": {},
   "outputs": [
    {
     "name": "stdout",
     "output_type": "stream",
     "text": [
      "bitch\n",
      "pussy\n",
      "fucker\n",
      "hoe\n",
      "boob\n",
      "skank fuck\n",
      "cunt rag\n",
      "bitch ass\n",
      "cumslut\n",
      "mothafucka\n",
      "assfuck\n",
      "slut\n",
      "whore\n",
      "dumb fuck\n",
      "cunt\n",
      "cock suck\n"
     ]
    }
   ],
   "source": [
    "for keyword in lexicon:\n",
    "    print(keyword)\n",
    "    for tweet in sntwitter.TwitterSearchScraper('{} since:2021-01-20 until:2021-01-21 lang:en'.format(keyword)).get_items():\n",
    "        tweets_list.append([tweet.date, tweet.id, tweet.content, tweet.user.username, tweet.user.location, tweet.place, tweet.coordinates, keyword]) #declare the attributes to be returned"
   ]
  },
  {
   "cell_type": "code",
   "execution_count": 13,
   "id": "a724fde3",
   "metadata": {},
   "outputs": [],
   "source": [
    "tweets_df_1 = pd.DataFrame(tweets_list, columns=['Datetime', 'Tweet Id', 'Text', 'User', 'User_location', \"Place\", 'Coordinates', 'Keyword'])"
   ]
  },
  {
   "cell_type": "code",
   "execution_count": 14,
   "id": "527bc50a",
   "metadata": {},
   "outputs": [
    {
     "data": {
      "text/plain": [
       "(1160367, 8)"
      ]
     },
     "execution_count": 14,
     "metadata": {},
     "output_type": "execute_result"
    }
   ],
   "source": [
    "tweets_df_1.shape"
   ]
  },
  {
   "cell_type": "code",
   "execution_count": 15,
   "id": "dafc0caa",
   "metadata": {},
   "outputs": [],
   "source": [
    "tweets_df_1.to_csv('tweets_df_final_1.csv')"
   ]
  },
  {
   "cell_type": "markdown",
   "id": "b65f90a2",
   "metadata": {},
   "source": [
    "--------"
   ]
  },
  {
   "cell_type": "code",
   "execution_count": 6,
   "id": "3ee3523d",
   "metadata": {},
   "outputs": [
    {
     "name": "stdout",
     "output_type": "stream",
     "text": [
      "bitch\n"
     ]
    },
    {
     "ename": "KeyboardInterrupt",
     "evalue": "",
     "output_type": "error",
     "traceback": [
      "\u001b[1;31m---------------------------------------------------------------------------\u001b[0m",
      "\u001b[1;31mKeyboardInterrupt\u001b[0m                         Traceback (most recent call last)",
      "\u001b[1;32mc:\\Users\\86188\\Desktop\\Thesis Twitter Misogyny\\Paper codes\\tweets scrapping\\tweets scrapper final.ipynb Cell 13'\u001b[0m in \u001b[0;36m<module>\u001b[1;34m\u001b[0m\n\u001b[0;32m      <a href='vscode-notebook-cell:/c%3A/Users/86188/Desktop/Thesis%20Twitter%20Misogyny/Paper%20codes/tweets%20scrapping/tweets%20scrapper%20final.ipynb#ch0000012?line=1'>2</a>\u001b[0m \u001b[39mfor\u001b[39;00m keyword \u001b[39min\u001b[39;00m lexicon:\n\u001b[0;32m      <a href='vscode-notebook-cell:/c%3A/Users/86188/Desktop/Thesis%20Twitter%20Misogyny/Paper%20codes/tweets%20scrapping/tweets%20scrapper%20final.ipynb#ch0000012?line=2'>3</a>\u001b[0m     \u001b[39mprint\u001b[39m(keyword)\n\u001b[1;32m----> <a href='vscode-notebook-cell:/c%3A/Users/86188/Desktop/Thesis%20Twitter%20Misogyny/Paper%20codes/tweets%20scrapping/tweets%20scrapper%20final.ipynb#ch0000012?line=3'>4</a>\u001b[0m     \u001b[39mfor\u001b[39;00m tweet \u001b[39min\u001b[39;00m sntwitter\u001b[39m.\u001b[39mTwitterSearchScraper(\u001b[39m'\u001b[39m\u001b[39m{}\u001b[39;00m\u001b[39m since:2021-01-02 until:2021-01-03 lang:en\u001b[39m\u001b[39m'\u001b[39m\u001b[39m.\u001b[39mformat(keyword))\u001b[39m.\u001b[39mget_items():\n\u001b[0;32m      <a href='vscode-notebook-cell:/c%3A/Users/86188/Desktop/Thesis%20Twitter%20Misogyny/Paper%20codes/tweets%20scrapping/tweets%20scrapper%20final.ipynb#ch0000012?line=4'>5</a>\u001b[0m         tweets_list\u001b[39m.\u001b[39mappend([tweet\u001b[39m.\u001b[39mdate, tweet\u001b[39m.\u001b[39mid, tweet\u001b[39m.\u001b[39mcontent, tweet\u001b[39m.\u001b[39muser\u001b[39m.\u001b[39musername, tweet\u001b[39m.\u001b[39muser\u001b[39m.\u001b[39mlocation, tweet\u001b[39m.\u001b[39mplace, tweet\u001b[39m.\u001b[39mcoordinates, keyword])\n",
      "File \u001b[1;32mD:\\MySoftware\\python310\\lib\\site-packages\\snscrape\\modules\\twitter.py:680\u001b[0m, in \u001b[0;36mTwitterSearchScraper.get_items\u001b[1;34m(self)\u001b[0m\n\u001b[0;32m    <a href='file:///d%3A/MySoftware/python310/lib/site-packages/snscrape/modules/twitter.py?line=676'>677</a>\u001b[0m \t\u001b[39mdel\u001b[39;00m params[\u001b[39m'\u001b[39m\u001b[39mtweet_search_mode\u001b[39m\u001b[39m'\u001b[39m]\n\u001b[0;32m    <a href='file:///d%3A/MySoftware/python310/lib/site-packages/snscrape/modules/twitter.py?line=677'>678</a>\u001b[0m \t\u001b[39mdel\u001b[39;00m paginationParams[\u001b[39m'\u001b[39m\u001b[39mtweet_search_mode\u001b[39m\u001b[39m'\u001b[39m]\n\u001b[1;32m--> <a href='file:///d%3A/MySoftware/python310/lib/site-packages/snscrape/modules/twitter.py?line=679'>680</a>\u001b[0m \u001b[39mfor\u001b[39;00m obj \u001b[39min\u001b[39;00m \u001b[39mself\u001b[39m\u001b[39m.\u001b[39m_iter_api_data(\u001b[39m'\u001b[39m\u001b[39mhttps://api.twitter.com/2/search/adaptive.json\u001b[39m\u001b[39m'\u001b[39m, params, paginationParams, cursor \u001b[39m=\u001b[39m \u001b[39mself\u001b[39m\u001b[39m.\u001b[39m_cursor):\n\u001b[0;32m    <a href='file:///d%3A/MySoftware/python310/lib/site-packages/snscrape/modules/twitter.py?line=680'>681</a>\u001b[0m \t\u001b[39myield from\u001b[39;00m \u001b[39mself\u001b[39m\u001b[39m.\u001b[39m_instructions_to_tweets(obj)\n",
      "File \u001b[1;32mD:\\MySoftware\\python310\\lib\\site-packages\\snscrape\\modules\\twitter.py:369\u001b[0m, in \u001b[0;36m_TwitterAPIScraper._iter_api_data\u001b[1;34m(self, endpoint, params, paginationParams, cursor, direction)\u001b[0m\n\u001b[0;32m    <a href='file:///d%3A/MySoftware/python310/lib/site-packages/snscrape/modules/twitter.py?line=366'>367</a>\u001b[0m \u001b[39mwhile\u001b[39;00m \u001b[39mTrue\u001b[39;00m:\n\u001b[0;32m    <a href='file:///d%3A/MySoftware/python310/lib/site-packages/snscrape/modules/twitter.py?line=367'>368</a>\u001b[0m \t_logger\u001b[39m.\u001b[39minfo(\u001b[39mf\u001b[39m\u001b[39m'\u001b[39m\u001b[39mRetrieving scroll page \u001b[39m\u001b[39m{\u001b[39;00mcursor\u001b[39m}\u001b[39;00m\u001b[39m'\u001b[39m)\n\u001b[1;32m--> <a href='file:///d%3A/MySoftware/python310/lib/site-packages/snscrape/modules/twitter.py?line=368'>369</a>\u001b[0m \tobj \u001b[39m=\u001b[39m \u001b[39mself\u001b[39;49m\u001b[39m.\u001b[39;49m_get_api_data(endpoint, reqParams)\n\u001b[0;32m    <a href='file:///d%3A/MySoftware/python310/lib/site-packages/snscrape/modules/twitter.py?line=369'>370</a>\u001b[0m \t\u001b[39myield\u001b[39;00m obj\n\u001b[0;32m    <a href='file:///d%3A/MySoftware/python310/lib/site-packages/snscrape/modules/twitter.py?line=371'>372</a>\u001b[0m \t\u001b[39m# No data format test, just a hard and loud crash if anything's wrong :-)\u001b[39;00m\n",
      "File \u001b[1;32mD:\\MySoftware\\python310\\lib\\site-packages\\snscrape\\modules\\twitter.py:339\u001b[0m, in \u001b[0;36m_TwitterAPIScraper._get_api_data\u001b[1;34m(self, endpoint, params)\u001b[0m\n\u001b[0;32m    <a href='file:///d%3A/MySoftware/python310/lib/site-packages/snscrape/modules/twitter.py?line=336'>337</a>\u001b[0m \u001b[39mdef\u001b[39;00m \u001b[39m_get_api_data\u001b[39m(\u001b[39mself\u001b[39m, endpoint, params):\n\u001b[0;32m    <a href='file:///d%3A/MySoftware/python310/lib/site-packages/snscrape/modules/twitter.py?line=337'>338</a>\u001b[0m \t\u001b[39mself\u001b[39m\u001b[39m.\u001b[39m_ensure_guest_token()\n\u001b[1;32m--> <a href='file:///d%3A/MySoftware/python310/lib/site-packages/snscrape/modules/twitter.py?line=338'>339</a>\u001b[0m \tr \u001b[39m=\u001b[39m \u001b[39mself\u001b[39;49m\u001b[39m.\u001b[39;49m_get(endpoint, params \u001b[39m=\u001b[39;49m params, headers \u001b[39m=\u001b[39;49m \u001b[39mself\u001b[39;49m\u001b[39m.\u001b[39;49m_apiHeaders, responseOkCallback \u001b[39m=\u001b[39;49m \u001b[39mself\u001b[39;49m\u001b[39m.\u001b[39;49m_check_api_response)\n\u001b[0;32m    <a href='file:///d%3A/MySoftware/python310/lib/site-packages/snscrape/modules/twitter.py?line=339'>340</a>\u001b[0m \t\u001b[39mtry\u001b[39;00m:\n\u001b[0;32m    <a href='file:///d%3A/MySoftware/python310/lib/site-packages/snscrape/modules/twitter.py?line=340'>341</a>\u001b[0m \t\tobj \u001b[39m=\u001b[39m r\u001b[39m.\u001b[39mjson()\n",
      "File \u001b[1;32mD:\\MySoftware\\python310\\lib\\site-packages\\snscrape\\base.py:218\u001b[0m, in \u001b[0;36mScraper._get\u001b[1;34m(self, *args, **kwargs)\u001b[0m\n\u001b[0;32m    <a href='file:///d%3A/MySoftware/python310/lib/site-packages/snscrape/base.py?line=216'>217</a>\u001b[0m \u001b[39mdef\u001b[39;00m \u001b[39m_get\u001b[39m(\u001b[39mself\u001b[39m, \u001b[39m*\u001b[39margs, \u001b[39m*\u001b[39m\u001b[39m*\u001b[39mkwargs):\n\u001b[1;32m--> <a href='file:///d%3A/MySoftware/python310/lib/site-packages/snscrape/base.py?line=217'>218</a>\u001b[0m \t\u001b[39mreturn\u001b[39;00m \u001b[39mself\u001b[39m\u001b[39m.\u001b[39m_request(\u001b[39m'\u001b[39m\u001b[39mGET\u001b[39m\u001b[39m'\u001b[39m, \u001b[39m*\u001b[39margs, \u001b[39m*\u001b[39m\u001b[39m*\u001b[39mkwargs)\n",
      "File \u001b[1;32mD:\\MySoftware\\python310\\lib\\site-packages\\snscrape\\base.py:175\u001b[0m, in \u001b[0;36mScraper._request\u001b[1;34m(self, method, url, params, data, headers, timeout, responseOkCallback, allowRedirects, proxies)\u001b[0m\n\u001b[0;32m    <a href='file:///d%3A/MySoftware/python310/lib/site-packages/snscrape/base.py?line=172'>173</a>\u001b[0m \tlogger\u001b[39m.\u001b[39mdebug(\u001b[39mf\u001b[39m\u001b[39m'\u001b[39m\u001b[39m... with data: \u001b[39m\u001b[39m{\u001b[39;00mdata\u001b[39m!r}\u001b[39;00m\u001b[39m'\u001b[39m)\n\u001b[0;32m    <a href='file:///d%3A/MySoftware/python310/lib/site-packages/snscrape/base.py?line=173'>174</a>\u001b[0m \u001b[39mtry\u001b[39;00m:\n\u001b[1;32m--> <a href='file:///d%3A/MySoftware/python310/lib/site-packages/snscrape/base.py?line=174'>175</a>\u001b[0m \tr \u001b[39m=\u001b[39m \u001b[39mself\u001b[39;49m\u001b[39m.\u001b[39;49m_session\u001b[39m.\u001b[39;49msend(req, allow_redirects \u001b[39m=\u001b[39;49m allowRedirects, timeout \u001b[39m=\u001b[39;49m timeout, proxies \u001b[39m=\u001b[39;49m proxies)\n\u001b[0;32m    <a href='file:///d%3A/MySoftware/python310/lib/site-packages/snscrape/base.py?line=175'>176</a>\u001b[0m \u001b[39mexcept\u001b[39;00m requests\u001b[39m.\u001b[39mexceptions\u001b[39m.\u001b[39mRequestException \u001b[39mas\u001b[39;00m exc:\n\u001b[0;32m    <a href='file:///d%3A/MySoftware/python310/lib/site-packages/snscrape/base.py?line=176'>177</a>\u001b[0m \t\u001b[39mif\u001b[39;00m attempt \u001b[39m<\u001b[39m \u001b[39mself\u001b[39m\u001b[39m.\u001b[39m_retries:\n",
      "File \u001b[1;32mD:\\MySoftware\\python310\\lib\\site-packages\\requests\\sessions.py:646\u001b[0m, in \u001b[0;36mSession.send\u001b[1;34m(self, request, **kwargs)\u001b[0m\n\u001b[0;32m    <a href='file:///d%3A/MySoftware/python310/lib/site-packages/requests/sessions.py?line=642'>643</a>\u001b[0m start \u001b[39m=\u001b[39m preferred_clock()\n\u001b[0;32m    <a href='file:///d%3A/MySoftware/python310/lib/site-packages/requests/sessions.py?line=644'>645</a>\u001b[0m \u001b[39m# Send the request\u001b[39;00m\n\u001b[1;32m--> <a href='file:///d%3A/MySoftware/python310/lib/site-packages/requests/sessions.py?line=645'>646</a>\u001b[0m r \u001b[39m=\u001b[39m adapter\u001b[39m.\u001b[39msend(request, \u001b[39m*\u001b[39m\u001b[39m*\u001b[39mkwargs)\n\u001b[0;32m    <a href='file:///d%3A/MySoftware/python310/lib/site-packages/requests/sessions.py?line=647'>648</a>\u001b[0m \u001b[39m# Total elapsed time of the request (approximately)\u001b[39;00m\n\u001b[0;32m    <a href='file:///d%3A/MySoftware/python310/lib/site-packages/requests/sessions.py?line=648'>649</a>\u001b[0m elapsed \u001b[39m=\u001b[39m preferred_clock() \u001b[39m-\u001b[39m start\n",
      "File \u001b[1;32mD:\\MySoftware\\python310\\lib\\site-packages\\requests\\adapters.py:439\u001b[0m, in \u001b[0;36mHTTPAdapter.send\u001b[1;34m(self, request, stream, timeout, verify, cert, proxies)\u001b[0m\n\u001b[0;32m    <a href='file:///d%3A/MySoftware/python310/lib/site-packages/requests/adapters.py?line=436'>437</a>\u001b[0m \u001b[39mtry\u001b[39;00m:\n\u001b[0;32m    <a href='file:///d%3A/MySoftware/python310/lib/site-packages/requests/adapters.py?line=437'>438</a>\u001b[0m     \u001b[39mif\u001b[39;00m \u001b[39mnot\u001b[39;00m chunked:\n\u001b[1;32m--> <a href='file:///d%3A/MySoftware/python310/lib/site-packages/requests/adapters.py?line=438'>439</a>\u001b[0m         resp \u001b[39m=\u001b[39m conn\u001b[39m.\u001b[39;49murlopen(\n\u001b[0;32m    <a href='file:///d%3A/MySoftware/python310/lib/site-packages/requests/adapters.py?line=439'>440</a>\u001b[0m             method\u001b[39m=\u001b[39;49mrequest\u001b[39m.\u001b[39;49mmethod,\n\u001b[0;32m    <a href='file:///d%3A/MySoftware/python310/lib/site-packages/requests/adapters.py?line=440'>441</a>\u001b[0m             url\u001b[39m=\u001b[39;49murl,\n\u001b[0;32m    <a href='file:///d%3A/MySoftware/python310/lib/site-packages/requests/adapters.py?line=441'>442</a>\u001b[0m             body\u001b[39m=\u001b[39;49mrequest\u001b[39m.\u001b[39;49mbody,\n\u001b[0;32m    <a href='file:///d%3A/MySoftware/python310/lib/site-packages/requests/adapters.py?line=442'>443</a>\u001b[0m             headers\u001b[39m=\u001b[39;49mrequest\u001b[39m.\u001b[39;49mheaders,\n\u001b[0;32m    <a href='file:///d%3A/MySoftware/python310/lib/site-packages/requests/adapters.py?line=443'>444</a>\u001b[0m             redirect\u001b[39m=\u001b[39;49m\u001b[39mFalse\u001b[39;49;00m,\n\u001b[0;32m    <a href='file:///d%3A/MySoftware/python310/lib/site-packages/requests/adapters.py?line=444'>445</a>\u001b[0m             assert_same_host\u001b[39m=\u001b[39;49m\u001b[39mFalse\u001b[39;49;00m,\n\u001b[0;32m    <a href='file:///d%3A/MySoftware/python310/lib/site-packages/requests/adapters.py?line=445'>446</a>\u001b[0m             preload_content\u001b[39m=\u001b[39;49m\u001b[39mFalse\u001b[39;49;00m,\n\u001b[0;32m    <a href='file:///d%3A/MySoftware/python310/lib/site-packages/requests/adapters.py?line=446'>447</a>\u001b[0m             decode_content\u001b[39m=\u001b[39;49m\u001b[39mFalse\u001b[39;49;00m,\n\u001b[0;32m    <a href='file:///d%3A/MySoftware/python310/lib/site-packages/requests/adapters.py?line=447'>448</a>\u001b[0m             retries\u001b[39m=\u001b[39;49m\u001b[39mself\u001b[39;49m\u001b[39m.\u001b[39;49mmax_retries,\n\u001b[0;32m    <a href='file:///d%3A/MySoftware/python310/lib/site-packages/requests/adapters.py?line=448'>449</a>\u001b[0m             timeout\u001b[39m=\u001b[39;49mtimeout\n\u001b[0;32m    <a href='file:///d%3A/MySoftware/python310/lib/site-packages/requests/adapters.py?line=449'>450</a>\u001b[0m         )\n\u001b[0;32m    <a href='file:///d%3A/MySoftware/python310/lib/site-packages/requests/adapters.py?line=451'>452</a>\u001b[0m     \u001b[39m# Send the request.\u001b[39;00m\n\u001b[0;32m    <a href='file:///d%3A/MySoftware/python310/lib/site-packages/requests/adapters.py?line=452'>453</a>\u001b[0m     \u001b[39melse\u001b[39;00m:\n\u001b[0;32m    <a href='file:///d%3A/MySoftware/python310/lib/site-packages/requests/adapters.py?line=453'>454</a>\u001b[0m         \u001b[39mif\u001b[39;00m \u001b[39mhasattr\u001b[39m(conn, \u001b[39m'\u001b[39m\u001b[39mproxy_pool\u001b[39m\u001b[39m'\u001b[39m):\n",
      "File \u001b[1;32mD:\\MySoftware\\python310\\lib\\site-packages\\urllib3\\connectionpool.py:670\u001b[0m, in \u001b[0;36mHTTPConnectionPool.urlopen\u001b[1;34m(self, method, url, body, headers, retries, redirect, assert_same_host, timeout, pool_timeout, release_conn, chunked, body_pos, **response_kw)\u001b[0m\n\u001b[0;32m    <a href='file:///d%3A/MySoftware/python310/lib/site-packages/urllib3/connectionpool.py?line=666'>667</a>\u001b[0m     \u001b[39mself\u001b[39m\u001b[39m.\u001b[39m_prepare_proxy(conn)\n\u001b[0;32m    <a href='file:///d%3A/MySoftware/python310/lib/site-packages/urllib3/connectionpool.py?line=668'>669</a>\u001b[0m \u001b[39m# Make the request on the httplib connection object.\u001b[39;00m\n\u001b[1;32m--> <a href='file:///d%3A/MySoftware/python310/lib/site-packages/urllib3/connectionpool.py?line=669'>670</a>\u001b[0m httplib_response \u001b[39m=\u001b[39m \u001b[39mself\u001b[39;49m\u001b[39m.\u001b[39;49m_make_request(\n\u001b[0;32m    <a href='file:///d%3A/MySoftware/python310/lib/site-packages/urllib3/connectionpool.py?line=670'>671</a>\u001b[0m     conn,\n\u001b[0;32m    <a href='file:///d%3A/MySoftware/python310/lib/site-packages/urllib3/connectionpool.py?line=671'>672</a>\u001b[0m     method,\n\u001b[0;32m    <a href='file:///d%3A/MySoftware/python310/lib/site-packages/urllib3/connectionpool.py?line=672'>673</a>\u001b[0m     url,\n\u001b[0;32m    <a href='file:///d%3A/MySoftware/python310/lib/site-packages/urllib3/connectionpool.py?line=673'>674</a>\u001b[0m     timeout\u001b[39m=\u001b[39;49mtimeout_obj,\n\u001b[0;32m    <a href='file:///d%3A/MySoftware/python310/lib/site-packages/urllib3/connectionpool.py?line=674'>675</a>\u001b[0m     body\u001b[39m=\u001b[39;49mbody,\n\u001b[0;32m    <a href='file:///d%3A/MySoftware/python310/lib/site-packages/urllib3/connectionpool.py?line=675'>676</a>\u001b[0m     headers\u001b[39m=\u001b[39;49mheaders,\n\u001b[0;32m    <a href='file:///d%3A/MySoftware/python310/lib/site-packages/urllib3/connectionpool.py?line=676'>677</a>\u001b[0m     chunked\u001b[39m=\u001b[39;49mchunked,\n\u001b[0;32m    <a href='file:///d%3A/MySoftware/python310/lib/site-packages/urllib3/connectionpool.py?line=677'>678</a>\u001b[0m )\n\u001b[0;32m    <a href='file:///d%3A/MySoftware/python310/lib/site-packages/urllib3/connectionpool.py?line=679'>680</a>\u001b[0m \u001b[39m# If we're going to release the connection in ``finally:``, then\u001b[39;00m\n\u001b[0;32m    <a href='file:///d%3A/MySoftware/python310/lib/site-packages/urllib3/connectionpool.py?line=680'>681</a>\u001b[0m \u001b[39m# the response doesn't need to know about the connection. Otherwise\u001b[39;00m\n\u001b[0;32m    <a href='file:///d%3A/MySoftware/python310/lib/site-packages/urllib3/connectionpool.py?line=681'>682</a>\u001b[0m \u001b[39m# it will also try to release it and we'll have a double-release\u001b[39;00m\n\u001b[0;32m    <a href='file:///d%3A/MySoftware/python310/lib/site-packages/urllib3/connectionpool.py?line=682'>683</a>\u001b[0m \u001b[39m# mess.\u001b[39;00m\n\u001b[0;32m    <a href='file:///d%3A/MySoftware/python310/lib/site-packages/urllib3/connectionpool.py?line=683'>684</a>\u001b[0m response_conn \u001b[39m=\u001b[39m conn \u001b[39mif\u001b[39;00m \u001b[39mnot\u001b[39;00m release_conn \u001b[39melse\u001b[39;00m \u001b[39mNone\u001b[39;00m\n",
      "File \u001b[1;32mD:\\MySoftware\\python310\\lib\\site-packages\\urllib3\\connectionpool.py:426\u001b[0m, in \u001b[0;36mHTTPConnectionPool._make_request\u001b[1;34m(self, conn, method, url, timeout, chunked, **httplib_request_kw)\u001b[0m\n\u001b[0;32m    <a href='file:///d%3A/MySoftware/python310/lib/site-packages/urllib3/connectionpool.py?line=420'>421</a>\u001b[0m             httplib_response \u001b[39m=\u001b[39m conn\u001b[39m.\u001b[39mgetresponse()\n\u001b[0;32m    <a href='file:///d%3A/MySoftware/python310/lib/site-packages/urllib3/connectionpool.py?line=421'>422</a>\u001b[0m         \u001b[39mexcept\u001b[39;00m \u001b[39mBaseException\u001b[39;00m \u001b[39mas\u001b[39;00m e:\n\u001b[0;32m    <a href='file:///d%3A/MySoftware/python310/lib/site-packages/urllib3/connectionpool.py?line=422'>423</a>\u001b[0m             \u001b[39m# Remove the TypeError from the exception chain in\u001b[39;00m\n\u001b[0;32m    <a href='file:///d%3A/MySoftware/python310/lib/site-packages/urllib3/connectionpool.py?line=423'>424</a>\u001b[0m             \u001b[39m# Python 3 (including for exceptions like SystemExit).\u001b[39;00m\n\u001b[0;32m    <a href='file:///d%3A/MySoftware/python310/lib/site-packages/urllib3/connectionpool.py?line=424'>425</a>\u001b[0m             \u001b[39m# Otherwise it looks like a bug in the code.\u001b[39;00m\n\u001b[1;32m--> <a href='file:///d%3A/MySoftware/python310/lib/site-packages/urllib3/connectionpool.py?line=425'>426</a>\u001b[0m             six\u001b[39m.\u001b[39;49mraise_from(e, \u001b[39mNone\u001b[39;49;00m)\n\u001b[0;32m    <a href='file:///d%3A/MySoftware/python310/lib/site-packages/urllib3/connectionpool.py?line=426'>427</a>\u001b[0m \u001b[39mexcept\u001b[39;00m (SocketTimeout, BaseSSLError, SocketError) \u001b[39mas\u001b[39;00m e:\n\u001b[0;32m    <a href='file:///d%3A/MySoftware/python310/lib/site-packages/urllib3/connectionpool.py?line=427'>428</a>\u001b[0m     \u001b[39mself\u001b[39m\u001b[39m.\u001b[39m_raise_timeout(err\u001b[39m=\u001b[39me, url\u001b[39m=\u001b[39murl, timeout_value\u001b[39m=\u001b[39mread_timeout)\n",
      "File \u001b[1;32m<string>:3\u001b[0m, in \u001b[0;36mraise_from\u001b[1;34m(value, from_value)\u001b[0m\n",
      "File \u001b[1;32mD:\\MySoftware\\python310\\lib\\site-packages\\urllib3\\connectionpool.py:421\u001b[0m, in \u001b[0;36mHTTPConnectionPool._make_request\u001b[1;34m(self, conn, method, url, timeout, chunked, **httplib_request_kw)\u001b[0m\n\u001b[0;32m    <a href='file:///d%3A/MySoftware/python310/lib/site-packages/urllib3/connectionpool.py?line=417'>418</a>\u001b[0m \u001b[39mexcept\u001b[39;00m \u001b[39mTypeError\u001b[39;00m:\n\u001b[0;32m    <a href='file:///d%3A/MySoftware/python310/lib/site-packages/urllib3/connectionpool.py?line=418'>419</a>\u001b[0m     \u001b[39m# Python 3\u001b[39;00m\n\u001b[0;32m    <a href='file:///d%3A/MySoftware/python310/lib/site-packages/urllib3/connectionpool.py?line=419'>420</a>\u001b[0m     \u001b[39mtry\u001b[39;00m:\n\u001b[1;32m--> <a href='file:///d%3A/MySoftware/python310/lib/site-packages/urllib3/connectionpool.py?line=420'>421</a>\u001b[0m         httplib_response \u001b[39m=\u001b[39m conn\u001b[39m.\u001b[39;49mgetresponse()\n\u001b[0;32m    <a href='file:///d%3A/MySoftware/python310/lib/site-packages/urllib3/connectionpool.py?line=421'>422</a>\u001b[0m     \u001b[39mexcept\u001b[39;00m \u001b[39mBaseException\u001b[39;00m \u001b[39mas\u001b[39;00m e:\n\u001b[0;32m    <a href='file:///d%3A/MySoftware/python310/lib/site-packages/urllib3/connectionpool.py?line=422'>423</a>\u001b[0m         \u001b[39m# Remove the TypeError from the exception chain in\u001b[39;00m\n\u001b[0;32m    <a href='file:///d%3A/MySoftware/python310/lib/site-packages/urllib3/connectionpool.py?line=423'>424</a>\u001b[0m         \u001b[39m# Python 3 (including for exceptions like SystemExit).\u001b[39;00m\n\u001b[0;32m    <a href='file:///d%3A/MySoftware/python310/lib/site-packages/urllib3/connectionpool.py?line=424'>425</a>\u001b[0m         \u001b[39m# Otherwise it looks like a bug in the code.\u001b[39;00m\n\u001b[0;32m    <a href='file:///d%3A/MySoftware/python310/lib/site-packages/urllib3/connectionpool.py?line=425'>426</a>\u001b[0m         six\u001b[39m.\u001b[39mraise_from(e, \u001b[39mNone\u001b[39;00m)\n",
      "File \u001b[1;32mD:\\MySoftware\\python310\\lib\\http\\client.py:1374\u001b[0m, in \u001b[0;36mHTTPConnection.getresponse\u001b[1;34m(self)\u001b[0m\n\u001b[0;32m   <a href='file:///d%3A/MySoftware/python310/lib/http/client.py?line=1371'>1372</a>\u001b[0m \u001b[39mtry\u001b[39;00m:\n\u001b[0;32m   <a href='file:///d%3A/MySoftware/python310/lib/http/client.py?line=1372'>1373</a>\u001b[0m     \u001b[39mtry\u001b[39;00m:\n\u001b[1;32m-> <a href='file:///d%3A/MySoftware/python310/lib/http/client.py?line=1373'>1374</a>\u001b[0m         response\u001b[39m.\u001b[39;49mbegin()\n\u001b[0;32m   <a href='file:///d%3A/MySoftware/python310/lib/http/client.py?line=1374'>1375</a>\u001b[0m     \u001b[39mexcept\u001b[39;00m \u001b[39mConnectionError\u001b[39;00m:\n\u001b[0;32m   <a href='file:///d%3A/MySoftware/python310/lib/http/client.py?line=1375'>1376</a>\u001b[0m         \u001b[39mself\u001b[39m\u001b[39m.\u001b[39mclose()\n",
      "File \u001b[1;32mD:\\MySoftware\\python310\\lib\\http\\client.py:318\u001b[0m, in \u001b[0;36mHTTPResponse.begin\u001b[1;34m(self)\u001b[0m\n\u001b[0;32m    <a href='file:///d%3A/MySoftware/python310/lib/http/client.py?line=315'>316</a>\u001b[0m \u001b[39m# read until we get a non-100 response\u001b[39;00m\n\u001b[0;32m    <a href='file:///d%3A/MySoftware/python310/lib/http/client.py?line=316'>317</a>\u001b[0m \u001b[39mwhile\u001b[39;00m \u001b[39mTrue\u001b[39;00m:\n\u001b[1;32m--> <a href='file:///d%3A/MySoftware/python310/lib/http/client.py?line=317'>318</a>\u001b[0m     version, status, reason \u001b[39m=\u001b[39m \u001b[39mself\u001b[39;49m\u001b[39m.\u001b[39;49m_read_status()\n\u001b[0;32m    <a href='file:///d%3A/MySoftware/python310/lib/http/client.py?line=318'>319</a>\u001b[0m     \u001b[39mif\u001b[39;00m status \u001b[39m!=\u001b[39m CONTINUE:\n\u001b[0;32m    <a href='file:///d%3A/MySoftware/python310/lib/http/client.py?line=319'>320</a>\u001b[0m         \u001b[39mbreak\u001b[39;00m\n",
      "File \u001b[1;32mD:\\MySoftware\\python310\\lib\\http\\client.py:279\u001b[0m, in \u001b[0;36mHTTPResponse._read_status\u001b[1;34m(self)\u001b[0m\n\u001b[0;32m    <a href='file:///d%3A/MySoftware/python310/lib/http/client.py?line=277'>278</a>\u001b[0m \u001b[39mdef\u001b[39;00m \u001b[39m_read_status\u001b[39m(\u001b[39mself\u001b[39m):\n\u001b[1;32m--> <a href='file:///d%3A/MySoftware/python310/lib/http/client.py?line=278'>279</a>\u001b[0m     line \u001b[39m=\u001b[39m \u001b[39mstr\u001b[39m(\u001b[39mself\u001b[39;49m\u001b[39m.\u001b[39;49mfp\u001b[39m.\u001b[39;49mreadline(_MAXLINE \u001b[39m+\u001b[39;49m \u001b[39m1\u001b[39;49m), \u001b[39m\"\u001b[39m\u001b[39miso-8859-1\u001b[39m\u001b[39m\"\u001b[39m)\n\u001b[0;32m    <a href='file:///d%3A/MySoftware/python310/lib/http/client.py?line=279'>280</a>\u001b[0m     \u001b[39mif\u001b[39;00m \u001b[39mlen\u001b[39m(line) \u001b[39m>\u001b[39m _MAXLINE:\n\u001b[0;32m    <a href='file:///d%3A/MySoftware/python310/lib/http/client.py?line=280'>281</a>\u001b[0m         \u001b[39mraise\u001b[39;00m LineTooLong(\u001b[39m\"\u001b[39m\u001b[39mstatus line\u001b[39m\u001b[39m\"\u001b[39m)\n",
      "File \u001b[1;32mD:\\MySoftware\\python310\\lib\\socket.py:705\u001b[0m, in \u001b[0;36mSocketIO.readinto\u001b[1;34m(self, b)\u001b[0m\n\u001b[0;32m    <a href='file:///d%3A/MySoftware/python310/lib/socket.py?line=702'>703</a>\u001b[0m \u001b[39mwhile\u001b[39;00m \u001b[39mTrue\u001b[39;00m:\n\u001b[0;32m    <a href='file:///d%3A/MySoftware/python310/lib/socket.py?line=703'>704</a>\u001b[0m     \u001b[39mtry\u001b[39;00m:\n\u001b[1;32m--> <a href='file:///d%3A/MySoftware/python310/lib/socket.py?line=704'>705</a>\u001b[0m         \u001b[39mreturn\u001b[39;00m \u001b[39mself\u001b[39;49m\u001b[39m.\u001b[39;49m_sock\u001b[39m.\u001b[39;49mrecv_into(b)\n\u001b[0;32m    <a href='file:///d%3A/MySoftware/python310/lib/socket.py?line=705'>706</a>\u001b[0m     \u001b[39mexcept\u001b[39;00m timeout:\n\u001b[0;32m    <a href='file:///d%3A/MySoftware/python310/lib/socket.py?line=706'>707</a>\u001b[0m         \u001b[39mself\u001b[39m\u001b[39m.\u001b[39m_timeout_occurred \u001b[39m=\u001b[39m \u001b[39mTrue\u001b[39;00m\n",
      "File \u001b[1;32mD:\\MySoftware\\python310\\lib\\site-packages\\urllib3\\contrib\\pyopenssl.py:325\u001b[0m, in \u001b[0;36mWrappedSocket.recv_into\u001b[1;34m(self, *args, **kwargs)\u001b[0m\n\u001b[0;32m    <a href='file:///d%3A/MySoftware/python310/lib/site-packages/urllib3/contrib/pyopenssl.py?line=322'>323</a>\u001b[0m         \u001b[39mraise\u001b[39;00m\n\u001b[0;32m    <a href='file:///d%3A/MySoftware/python310/lib/site-packages/urllib3/contrib/pyopenssl.py?line=323'>324</a>\u001b[0m \u001b[39mexcept\u001b[39;00m OpenSSL\u001b[39m.\u001b[39mSSL\u001b[39m.\u001b[39mWantReadError:\n\u001b[1;32m--> <a href='file:///d%3A/MySoftware/python310/lib/site-packages/urllib3/contrib/pyopenssl.py?line=324'>325</a>\u001b[0m     \u001b[39mif\u001b[39;00m \u001b[39mnot\u001b[39;00m util\u001b[39m.\u001b[39;49mwait_for_read(\u001b[39mself\u001b[39;49m\u001b[39m.\u001b[39;49msocket, \u001b[39mself\u001b[39;49m\u001b[39m.\u001b[39;49msocket\u001b[39m.\u001b[39;49mgettimeout()):\n\u001b[0;32m    <a href='file:///d%3A/MySoftware/python310/lib/site-packages/urllib3/contrib/pyopenssl.py?line=325'>326</a>\u001b[0m         \u001b[39mraise\u001b[39;00m timeout(\u001b[39m\"\u001b[39m\u001b[39mThe read operation timed out\u001b[39m\u001b[39m\"\u001b[39m)\n\u001b[0;32m    <a href='file:///d%3A/MySoftware/python310/lib/site-packages/urllib3/contrib/pyopenssl.py?line=326'>327</a>\u001b[0m     \u001b[39melse\u001b[39;00m:\n",
      "File \u001b[1;32mD:\\MySoftware\\python310\\lib\\site-packages\\urllib3\\util\\wait.py:146\u001b[0m, in \u001b[0;36mwait_for_read\u001b[1;34m(sock, timeout)\u001b[0m\n\u001b[0;32m    <a href='file:///d%3A/MySoftware/python310/lib/site-packages/urllib3/util/wait.py?line=141'>142</a>\u001b[0m \u001b[39mdef\u001b[39;00m \u001b[39mwait_for_read\u001b[39m(sock, timeout\u001b[39m=\u001b[39m\u001b[39mNone\u001b[39;00m):\n\u001b[0;32m    <a href='file:///d%3A/MySoftware/python310/lib/site-packages/urllib3/util/wait.py?line=142'>143</a>\u001b[0m     \u001b[39m\"\"\"Waits for reading to be available on a given socket.\u001b[39;00m\n\u001b[0;32m    <a href='file:///d%3A/MySoftware/python310/lib/site-packages/urllib3/util/wait.py?line=143'>144</a>\u001b[0m \u001b[39m    Returns True if the socket is readable, or False if the timeout expired.\u001b[39;00m\n\u001b[0;32m    <a href='file:///d%3A/MySoftware/python310/lib/site-packages/urllib3/util/wait.py?line=144'>145</a>\u001b[0m \u001b[39m    \"\"\"\u001b[39;00m\n\u001b[1;32m--> <a href='file:///d%3A/MySoftware/python310/lib/site-packages/urllib3/util/wait.py?line=145'>146</a>\u001b[0m     \u001b[39mreturn\u001b[39;00m wait_for_socket(sock, read\u001b[39m=\u001b[39;49m\u001b[39mTrue\u001b[39;49;00m, timeout\u001b[39m=\u001b[39;49mtimeout)\n",
      "File \u001b[1;32mD:\\MySoftware\\python310\\lib\\site-packages\\urllib3\\util\\wait.py:86\u001b[0m, in \u001b[0;36mselect_wait_for_socket\u001b[1;34m(sock, read, write, timeout)\u001b[0m\n\u001b[0;32m     <a href='file:///d%3A/MySoftware/python310/lib/site-packages/urllib3/util/wait.py?line=79'>80</a>\u001b[0m \u001b[39m# When doing a non-blocking connect, most systems signal success by\u001b[39;00m\n\u001b[0;32m     <a href='file:///d%3A/MySoftware/python310/lib/site-packages/urllib3/util/wait.py?line=80'>81</a>\u001b[0m \u001b[39m# marking the socket writable. Windows, though, signals success by marked\u001b[39;00m\n\u001b[0;32m     <a href='file:///d%3A/MySoftware/python310/lib/site-packages/urllib3/util/wait.py?line=81'>82</a>\u001b[0m \u001b[39m# it as \"exceptional\". We paper over the difference by checking the write\u001b[39;00m\n\u001b[0;32m     <a href='file:///d%3A/MySoftware/python310/lib/site-packages/urllib3/util/wait.py?line=82'>83</a>\u001b[0m \u001b[39m# sockets for both conditions. (The stdlib selectors module does the same\u001b[39;00m\n\u001b[0;32m     <a href='file:///d%3A/MySoftware/python310/lib/site-packages/urllib3/util/wait.py?line=83'>84</a>\u001b[0m \u001b[39m# thing.)\u001b[39;00m\n\u001b[0;32m     <a href='file:///d%3A/MySoftware/python310/lib/site-packages/urllib3/util/wait.py?line=84'>85</a>\u001b[0m fn \u001b[39m=\u001b[39m partial(select\u001b[39m.\u001b[39mselect, rcheck, wcheck, wcheck)\n\u001b[1;32m---> <a href='file:///d%3A/MySoftware/python310/lib/site-packages/urllib3/util/wait.py?line=85'>86</a>\u001b[0m rready, wready, xready \u001b[39m=\u001b[39m _retry_on_intr(fn, timeout)\n\u001b[0;32m     <a href='file:///d%3A/MySoftware/python310/lib/site-packages/urllib3/util/wait.py?line=86'>87</a>\u001b[0m \u001b[39mreturn\u001b[39;00m \u001b[39mbool\u001b[39m(rready \u001b[39mor\u001b[39;00m wready \u001b[39mor\u001b[39;00m xready)\n",
      "File \u001b[1;32mD:\\MySoftware\\python310\\lib\\site-packages\\urllib3\\util\\wait.py:43\u001b[0m, in \u001b[0;36m_retry_on_intr\u001b[1;34m(fn, timeout)\u001b[0m\n\u001b[0;32m     <a href='file:///d%3A/MySoftware/python310/lib/site-packages/urllib3/util/wait.py?line=41'>42</a>\u001b[0m \u001b[39mdef\u001b[39;00m \u001b[39m_retry_on_intr\u001b[39m(fn, timeout):\n\u001b[1;32m---> <a href='file:///d%3A/MySoftware/python310/lib/site-packages/urllib3/util/wait.py?line=42'>43</a>\u001b[0m     \u001b[39mreturn\u001b[39;00m fn(timeout)\n",
      "\u001b[1;31mKeyboardInterrupt\u001b[0m: "
     ]
    }
   ],
   "source": [
    "tweets_list = []\n",
    "for keyword in lexicon:\n",
    "    print(keyword)\n",
    "    for tweet in sntwitter.TwitterSearchScraper('{} since:2021-01-02 until:2021-01-03 lang:en'.format(keyword)).get_items():\n",
    "        tweets_list.append([tweet.date, tweet.id, tweet.content, tweet.user.username, tweet.user.location, tweet.place, tweet.coordinates, keyword]) #declare the attributes to be returned"
   ]
  },
  {
   "cell_type": "code",
   "execution_count": null,
   "id": "00bad483",
   "metadata": {},
   "outputs": [
    {
     "name": "stdout",
     "output_type": "stream",
     "text": [
      "bitch\n",
      "pussy\n",
      "fucker\n",
      "hoe\n",
      "boob\n",
      "skank fuck\n",
      "cunt rag\n",
      "bitch ass\n",
      "cumslut\n",
      "mothafucka\n",
      "assfuck\n",
      "slut\n",
      "whore\n",
      "dumb fuck\n",
      "cunt\n",
      "cock suck\n"
     ]
    }
   ],
   "source": [
    "for keyword in lexicon:\n",
    "    print(keyword)\n",
    "    for tweet in sntwitter.TwitterSearchScraper('{} since:2021-02-07 until:2021-02-08 lang:en'.format(keyword)).get_items():\n",
    "        tweets_list.append([tweet.date, tweet.id, tweet.content, tweet.user.username, tweet.user.location, tweet.place, tweet.coordinates, keyword]) #declare the attributes to be returned"
   ]
  },
  {
   "cell_type": "code",
   "execution_count": null,
   "id": "52ea412f",
   "metadata": {},
   "outputs": [
    {
     "name": "stdout",
     "output_type": "stream",
     "text": [
      "bitch\n",
      "pussy\n",
      "fucker\n",
      "hoe\n",
      "boob\n",
      "skank fuck\n",
      "cunt rag\n",
      "bitch ass\n",
      "cumslut\n",
      "mothafucka\n",
      "assfuck\n",
      "slut\n",
      "whore\n",
      "dumb fuck\n",
      "cunt\n",
      "cock suck\n"
     ]
    }
   ],
   "source": [
    "for keyword in lexicon:\n",
    "    print(keyword)\n",
    "    for tweet in sntwitter.TwitterSearchScraper('{} since:2021-03-16 until:2021-03-17 lang:en'.format(keyword)).get_items():\n",
    "        tweets_list.append([tweet.date, tweet.id, tweet.content, tweet.user.username, tweet.user.location, tweet.place, tweet.coordinates, keyword]) #declare the attributes to be returned"
   ]
  },
  {
   "cell_type": "code",
   "execution_count": null,
   "id": "ca0b16b7",
   "metadata": {},
   "outputs": [
    {
     "ename": "NameError",
     "evalue": "name 'lexicon' is not defined",
     "output_type": "error",
     "traceback": [
      "\u001b[1;31m---------------------------------------------------------------------------\u001b[0m",
      "\u001b[1;31mNameError\u001b[0m                                 Traceback (most recent call last)",
      "\u001b[1;32mc:\\Users\\86188\\Desktop\\Thesis Twitter Misogyny\\Paper codes\\tweets scrapping\\tweets scrapper final.ipynb Cell 16'\u001b[0m in \u001b[0;36m<module>\u001b[1;34m\u001b[0m\n\u001b[1;32m----> <a href='vscode-notebook-cell:/c%3A/Users/86188/Desktop/Thesis%20Twitter%20Misogyny/Paper%20codes/tweets%20scrapping/tweets%20scrapper%20final.ipynb#ch0000015?line=0'>1</a>\u001b[0m \u001b[39mfor\u001b[39;00m keyword \u001b[39min\u001b[39;00m lexicon:\n\u001b[0;32m      <a href='vscode-notebook-cell:/c%3A/Users/86188/Desktop/Thesis%20Twitter%20Misogyny/Paper%20codes/tweets%20scrapping/tweets%20scrapper%20final.ipynb#ch0000015?line=1'>2</a>\u001b[0m     \u001b[39mprint\u001b[39m(keyword)\n\u001b[0;32m      <a href='vscode-notebook-cell:/c%3A/Users/86188/Desktop/Thesis%20Twitter%20Misogyny/Paper%20codes/tweets%20scrapping/tweets%20scrapper%20final.ipynb#ch0000015?line=2'>3</a>\u001b[0m     \u001b[39mfor\u001b[39;00m tweet \u001b[39min\u001b[39;00m sntwitter\u001b[39m.\u001b[39mTwitterSearchScraper(\u001b[39m'\u001b[39m\u001b[39m{}\u001b[39;00m\u001b[39m since:2021-04-21 until:2021-04-22 lang:en\u001b[39m\u001b[39m'\u001b[39m\u001b[39m.\u001b[39mformat(keyword))\u001b[39m.\u001b[39mget_items():\n",
      "\u001b[1;31mNameError\u001b[0m: name 'lexicon' is not defined"
     ]
    }
   ],
   "source": [
    "for keyword in lexicon:\n",
    "    print(keyword)\n",
    "    for tweet in sntwitter.TwitterSearchScraper('{} since:2021-04-21 until:2021-04-22 lang:en'.format(keyword)).get_items():\n",
    "        tweets_list.append([tweet.date, tweet.id, tweet.content, tweet.user.username, tweet.user.location, tweet.place, tweet.coordinates, keyword]) #declare the attributes to be returned"
   ]
  },
  {
   "cell_type": "code",
   "execution_count": null,
   "id": "25d87d25",
   "metadata": {},
   "outputs": [
    {
     "ename": "NameError",
     "evalue": "name 'lexicon' is not defined",
     "output_type": "error",
     "traceback": [
      "\u001b[1;31m---------------------------------------------------------------------------\u001b[0m",
      "\u001b[1;31mNameError\u001b[0m                                 Traceback (most recent call last)",
      "\u001b[1;32mc:\\Users\\86188\\Desktop\\Thesis Twitter Misogyny\\Paper codes\\tweets scrapping\\tweets scrapper final.ipynb Cell 17'\u001b[0m in \u001b[0;36m<module>\u001b[1;34m\u001b[0m\n\u001b[1;32m----> <a href='vscode-notebook-cell:/c%3A/Users/86188/Desktop/Thesis%20Twitter%20Misogyny/Paper%20codes/tweets%20scrapping/tweets%20scrapper%20final.ipynb#ch0000016?line=0'>1</a>\u001b[0m \u001b[39mfor\u001b[39;00m keyword \u001b[39min\u001b[39;00m lexicon:\n\u001b[0;32m      <a href='vscode-notebook-cell:/c%3A/Users/86188/Desktop/Thesis%20Twitter%20Misogyny/Paper%20codes/tweets%20scrapping/tweets%20scrapper%20final.ipynb#ch0000016?line=1'>2</a>\u001b[0m     \u001b[39mprint\u001b[39m(keyword)\n\u001b[0;32m      <a href='vscode-notebook-cell:/c%3A/Users/86188/Desktop/Thesis%20Twitter%20Misogyny/Paper%20codes/tweets%20scrapping/tweets%20scrapper%20final.ipynb#ch0000016?line=2'>3</a>\u001b[0m     \u001b[39mfor\u001b[39;00m tweet \u001b[39min\u001b[39;00m sntwitter\u001b[39m.\u001b[39mTwitterSearchScraper(\u001b[39m'\u001b[39m\u001b[39m{}\u001b[39;00m\u001b[39m since:2021-05-28 until:2021-05-29 lang:en\u001b[39m\u001b[39m'\u001b[39m\u001b[39m.\u001b[39mformat(keyword))\u001b[39m.\u001b[39mget_items():\n",
      "\u001b[1;31mNameError\u001b[0m: name 'lexicon' is not defined"
     ]
    }
   ],
   "source": [
    "for keyword in lexicon:\n",
    "    print(keyword)\n",
    "    for tweet in sntwitter.TwitterSearchScraper('{} since:2021-05-28 until:2021-05-29 lang:en'.format(keyword)).get_items():\n",
    "        tweets_list.append([tweet.date, tweet.id, tweet.content, tweet.user.username, tweet.user.location, tweet.place, tweet.coordinates, keyword]) #declare the attributes to be returned"
   ]
  },
  {
   "cell_type": "code",
   "execution_count": null,
   "id": "00bad483",
   "metadata": {},
   "outputs": [
    {
     "name": "stdout",
     "output_type": "stream",
     "text": [
      "bitch\n",
      "pussy\n",
      "fucker\n",
      "hoe\n",
      "boob\n",
      "skank fuck\n",
      "cunt rag\n",
      "bitch ass\n",
      "cumslut\n",
      "mothafucka\n",
      "assfuck\n",
      "slut\n",
      "whore\n",
      "dumb fuck\n",
      "cunt\n",
      "cock suck\n"
     ]
    }
   ],
   "source": [
    "for keyword in lexicon:\n",
    "    print(keyword)\n",
    "    for tweet in sntwitter.TwitterSearchScraper('{} since:2021-07-03 until:2021-07-04 lang:en'.format(keyword)).get_items():\n",
    "        tweets_list.append([tweet.date, tweet.id, tweet.content, tweet.user.username, tweet.user.location, tweet.place, tweet.coordinates, keyword]) #declare the attributes to be returned"
   ]
  },
  {
   "cell_type": "code",
   "execution_count": null,
   "id": "52ea412f",
   "metadata": {},
   "outputs": [
    {
     "name": "stdout",
     "output_type": "stream",
     "text": [
      "bitch\n",
      "pussy\n",
      "fucker\n",
      "hoe\n",
      "boob\n",
      "skank fuck\n",
      "cunt rag\n",
      "bitch ass\n",
      "cumslut\n",
      "mothafucka\n",
      "assfuck\n",
      "slut\n",
      "whore\n",
      "dumb fuck\n",
      "cunt\n",
      "cock suck\n"
     ]
    }
   ],
   "source": [
    "for keyword in lexicon:\n",
    "    print(keyword)\n",
    "    for tweet in sntwitter.TwitterSearchScraper('{} since:2021-08-09 until:2021-08-10 lang:en'.format(keyword)).get_items():\n",
    "        tweets_list.append([tweet.date, tweet.id, tweet.content, tweet.user.username, tweet.user.location, tweet.place, tweet.coordinates, keyword]) #declare the attributes to be returned"
   ]
  },
  {
   "cell_type": "code",
   "execution_count": null,
   "id": "ca0b16b7",
   "metadata": {},
   "outputs": [
    {
     "name": "stdout",
     "output_type": "stream",
     "text": [
      "bitch\n",
      "pussy\n",
      "fucker\n",
      "hoe\n",
      "boob\n",
      "skank fuck\n",
      "cunt rag\n",
      "bitch ass\n",
      "cumslut\n",
      "mothafucka\n",
      "assfuck\n",
      "slut\n",
      "whore\n",
      "dumb fuck\n",
      "cunt\n",
      "cock suck\n"
     ]
    }
   ],
   "source": [
    "for keyword in lexicon:\n",
    "    print(keyword)\n",
    "    for tweet in sntwitter.TwitterSearchScraper('{} since:2021-09-14 until:2021-09-15 lang:en'.format(keyword)).get_items():\n",
    "        tweets_list.append([tweet.date, tweet.id, tweet.content, tweet.user.username, tweet.user.location, tweet.place, tweet.coordinates, keyword]) #declare the attributes to be returned"
   ]
  },
  {
   "cell_type": "code",
   "execution_count": null,
   "id": "25d87d25",
   "metadata": {},
   "outputs": [
    {
     "name": "stdout",
     "output_type": "stream",
     "text": [
      "bitch\n",
      "pussy\n",
      "fucker\n",
      "hoe\n",
      "boob\n"
     ]
    }
   ],
   "source": [
    "for keyword in lexicon:\n",
    "    print(keyword)\n",
    "    for tweet in sntwitter.TwitterSearchScraper('{} since:2021-10-21 until:2021-10-22 lang:en'.format(keyword)).get_items():\n",
    "        tweets_list.append([tweet.date, tweet.id, tweet.content, tweet.user.username, tweet.user.location, tweet.place, tweet.coordinates, keyword]) #declare the attributes to be returned"
   ]
  },
  {
   "cell_type": "code",
   "execution_count": null,
   "id": "25d87d25",
   "metadata": {},
   "outputs": [],
   "source": [
    "for keyword in lexicon:\n",
    "    print(keyword)\n",
    "    for tweet in sntwitter.TwitterSearchScraper('{} since:2021-11-26 until:2021-11-27 lang:en'.format(keyword)).get_items():\n",
    "        tweets_list.append([tweet.date, tweet.id, tweet.content, tweet.user.username, tweet.user.location, tweet.place, tweet.coordinates, keyword]) #declare the attributes to be returned"
   ]
  },
  {
   "cell_type": "code",
   "execution_count": null,
   "id": "a724fde3",
   "metadata": {},
   "outputs": [],
   "source": [
    "tweets_df_2 = pd.DataFrame(tweets_list, columns=['Datetime', 'Tweet Id', 'Text', 'User', 'User_location', \"Place\", 'Coordinates', 'Keyword'])"
   ]
  },
  {
   "cell_type": "code",
   "execution_count": null,
   "id": "527bc50a",
   "metadata": {},
   "outputs": [
    {
     "data": {
      "text/plain": [
       "(2763637, 9)"
      ]
     },
     "metadata": {},
     "output_type": "display_data"
    }
   ],
   "source": []
  },
  {
   "cell_type": "code",
   "execution_count": null,
   "id": "dafc0caa",
   "metadata": {},
   "outputs": [],
   "source": [
    "tweets_df_2.to_csv('tweets_df_final_2.csv')"
   ]
  },
  {
   "cell_type": "markdown",
   "id": "9f664bdc",
   "metadata": {},
   "source": [
    "# Scrappe \"the\""
   ]
  },
  {
   "cell_type": "code",
   "execution_count": 8,
   "id": "e8f9d8fa",
   "metadata": {},
   "outputs": [
    {
     "ename": "KeyboardInterrupt",
     "evalue": "",
     "output_type": "error",
     "traceback": [
      "\u001b[1;31m---------------------------------------------------------------------------\u001b[0m",
      "\u001b[1;31mKeyboardInterrupt\u001b[0m                         Traceback (most recent call last)",
      "\u001b[1;32mc:\\Users\\86188\\Desktop\\Thesis Twitter Misogyny\\Paper codes\\tweets scrapping\\tweets scrapper final.ipynb Cell 27'\u001b[0m in \u001b[0;36m<module>\u001b[1;34m\u001b[0m\n\u001b[0;32m      <a href='vscode-notebook-cell:/c%3A/Users/86188/Desktop/Thesis%20Twitter%20Misogyny/Paper%20codes/tweets%20scrapping/tweets%20scrapper%20final.ipynb#ch0000028?line=0'>1</a>\u001b[0m tweets_list \u001b[39m=\u001b[39m []\n\u001b[1;32m----> <a href='vscode-notebook-cell:/c%3A/Users/86188/Desktop/Thesis%20Twitter%20Misogyny/Paper%20codes/tweets%20scrapping/tweets%20scrapper%20final.ipynb#ch0000028?line=1'>2</a>\u001b[0m \u001b[39mfor\u001b[39;00m tweet \u001b[39min\u001b[39;00m sntwitter\u001b[39m.\u001b[39mTwitterSearchScraper(\u001b[39m'\u001b[39m\u001b[39mthe since:2021-03-10 until:2021-03-11 lang:en\u001b[39m\u001b[39m'\u001b[39m)\u001b[39m.\u001b[39mget_items():\n\u001b[0;32m      <a href='vscode-notebook-cell:/c%3A/Users/86188/Desktop/Thesis%20Twitter%20Misogyny/Paper%20codes/tweets%20scrapping/tweets%20scrapper%20final.ipynb#ch0000028?line=2'>3</a>\u001b[0m     tweets_list\u001b[39m.\u001b[39mappend([tweet\u001b[39m.\u001b[39mdate, tweet\u001b[39m.\u001b[39mid, tweet\u001b[39m.\u001b[39mcontent, tweet\u001b[39m.\u001b[39muser\u001b[39m.\u001b[39musername, tweet\u001b[39m.\u001b[39muser\u001b[39m.\u001b[39mlocation, tweet\u001b[39m.\u001b[39mplace, tweet\u001b[39m.\u001b[39mcoordinates])\n",
      "File \u001b[1;32mD:\\MySoftware\\python310\\lib\\site-packages\\snscrape\\modules\\twitter.py:680\u001b[0m, in \u001b[0;36mTwitterSearchScraper.get_items\u001b[1;34m(self)\u001b[0m\n\u001b[0;32m    <a href='file:///d%3A/MySoftware/python310/lib/site-packages/snscrape/modules/twitter.py?line=676'>677</a>\u001b[0m \t\u001b[39mdel\u001b[39;00m params[\u001b[39m'\u001b[39m\u001b[39mtweet_search_mode\u001b[39m\u001b[39m'\u001b[39m]\n\u001b[0;32m    <a href='file:///d%3A/MySoftware/python310/lib/site-packages/snscrape/modules/twitter.py?line=677'>678</a>\u001b[0m \t\u001b[39mdel\u001b[39;00m paginationParams[\u001b[39m'\u001b[39m\u001b[39mtweet_search_mode\u001b[39m\u001b[39m'\u001b[39m]\n\u001b[1;32m--> <a href='file:///d%3A/MySoftware/python310/lib/site-packages/snscrape/modules/twitter.py?line=679'>680</a>\u001b[0m \u001b[39mfor\u001b[39;00m obj \u001b[39min\u001b[39;00m \u001b[39mself\u001b[39m\u001b[39m.\u001b[39m_iter_api_data(\u001b[39m'\u001b[39m\u001b[39mhttps://api.twitter.com/2/search/adaptive.json\u001b[39m\u001b[39m'\u001b[39m, params, paginationParams, cursor \u001b[39m=\u001b[39m \u001b[39mself\u001b[39m\u001b[39m.\u001b[39m_cursor):\n\u001b[0;32m    <a href='file:///d%3A/MySoftware/python310/lib/site-packages/snscrape/modules/twitter.py?line=680'>681</a>\u001b[0m \t\u001b[39myield from\u001b[39;00m \u001b[39mself\u001b[39m\u001b[39m.\u001b[39m_instructions_to_tweets(obj)\n",
      "File \u001b[1;32mD:\\MySoftware\\python310\\lib\\site-packages\\snscrape\\modules\\twitter.py:369\u001b[0m, in \u001b[0;36m_TwitterAPIScraper._iter_api_data\u001b[1;34m(self, endpoint, params, paginationParams, cursor, direction)\u001b[0m\n\u001b[0;32m    <a href='file:///d%3A/MySoftware/python310/lib/site-packages/snscrape/modules/twitter.py?line=366'>367</a>\u001b[0m \u001b[39mwhile\u001b[39;00m \u001b[39mTrue\u001b[39;00m:\n\u001b[0;32m    <a href='file:///d%3A/MySoftware/python310/lib/site-packages/snscrape/modules/twitter.py?line=367'>368</a>\u001b[0m \t_logger\u001b[39m.\u001b[39minfo(\u001b[39mf\u001b[39m\u001b[39m'\u001b[39m\u001b[39mRetrieving scroll page \u001b[39m\u001b[39m{\u001b[39;00mcursor\u001b[39m}\u001b[39;00m\u001b[39m'\u001b[39m)\n\u001b[1;32m--> <a href='file:///d%3A/MySoftware/python310/lib/site-packages/snscrape/modules/twitter.py?line=368'>369</a>\u001b[0m \tobj \u001b[39m=\u001b[39m \u001b[39mself\u001b[39;49m\u001b[39m.\u001b[39;49m_get_api_data(endpoint, reqParams)\n\u001b[0;32m    <a href='file:///d%3A/MySoftware/python310/lib/site-packages/snscrape/modules/twitter.py?line=369'>370</a>\u001b[0m \t\u001b[39myield\u001b[39;00m obj\n\u001b[0;32m    <a href='file:///d%3A/MySoftware/python310/lib/site-packages/snscrape/modules/twitter.py?line=371'>372</a>\u001b[0m \t\u001b[39m# No data format test, just a hard and loud crash if anything's wrong :-)\u001b[39;00m\n",
      "File \u001b[1;32mD:\\MySoftware\\python310\\lib\\site-packages\\snscrape\\modules\\twitter.py:339\u001b[0m, in \u001b[0;36m_TwitterAPIScraper._get_api_data\u001b[1;34m(self, endpoint, params)\u001b[0m\n\u001b[0;32m    <a href='file:///d%3A/MySoftware/python310/lib/site-packages/snscrape/modules/twitter.py?line=336'>337</a>\u001b[0m \u001b[39mdef\u001b[39;00m \u001b[39m_get_api_data\u001b[39m(\u001b[39mself\u001b[39m, endpoint, params):\n\u001b[0;32m    <a href='file:///d%3A/MySoftware/python310/lib/site-packages/snscrape/modules/twitter.py?line=337'>338</a>\u001b[0m \t\u001b[39mself\u001b[39m\u001b[39m.\u001b[39m_ensure_guest_token()\n\u001b[1;32m--> <a href='file:///d%3A/MySoftware/python310/lib/site-packages/snscrape/modules/twitter.py?line=338'>339</a>\u001b[0m \tr \u001b[39m=\u001b[39m \u001b[39mself\u001b[39;49m\u001b[39m.\u001b[39;49m_get(endpoint, params \u001b[39m=\u001b[39;49m params, headers \u001b[39m=\u001b[39;49m \u001b[39mself\u001b[39;49m\u001b[39m.\u001b[39;49m_apiHeaders, responseOkCallback \u001b[39m=\u001b[39;49m \u001b[39mself\u001b[39;49m\u001b[39m.\u001b[39;49m_check_api_response)\n\u001b[0;32m    <a href='file:///d%3A/MySoftware/python310/lib/site-packages/snscrape/modules/twitter.py?line=339'>340</a>\u001b[0m \t\u001b[39mtry\u001b[39;00m:\n\u001b[0;32m    <a href='file:///d%3A/MySoftware/python310/lib/site-packages/snscrape/modules/twitter.py?line=340'>341</a>\u001b[0m \t\tobj \u001b[39m=\u001b[39m r\u001b[39m.\u001b[39mjson()\n",
      "File \u001b[1;32mD:\\MySoftware\\python310\\lib\\site-packages\\snscrape\\base.py:218\u001b[0m, in \u001b[0;36mScraper._get\u001b[1;34m(self, *args, **kwargs)\u001b[0m\n\u001b[0;32m    <a href='file:///d%3A/MySoftware/python310/lib/site-packages/snscrape/base.py?line=216'>217</a>\u001b[0m \u001b[39mdef\u001b[39;00m \u001b[39m_get\u001b[39m(\u001b[39mself\u001b[39m, \u001b[39m*\u001b[39margs, \u001b[39m*\u001b[39m\u001b[39m*\u001b[39mkwargs):\n\u001b[1;32m--> <a href='file:///d%3A/MySoftware/python310/lib/site-packages/snscrape/base.py?line=217'>218</a>\u001b[0m \t\u001b[39mreturn\u001b[39;00m \u001b[39mself\u001b[39m\u001b[39m.\u001b[39m_request(\u001b[39m'\u001b[39m\u001b[39mGET\u001b[39m\u001b[39m'\u001b[39m, \u001b[39m*\u001b[39margs, \u001b[39m*\u001b[39m\u001b[39m*\u001b[39mkwargs)\n",
      "File \u001b[1;32mD:\\MySoftware\\python310\\lib\\site-packages\\snscrape\\base.py:175\u001b[0m, in \u001b[0;36mScraper._request\u001b[1;34m(self, method, url, params, data, headers, timeout, responseOkCallback, allowRedirects, proxies)\u001b[0m\n\u001b[0;32m    <a href='file:///d%3A/MySoftware/python310/lib/site-packages/snscrape/base.py?line=172'>173</a>\u001b[0m \tlogger\u001b[39m.\u001b[39mdebug(\u001b[39mf\u001b[39m\u001b[39m'\u001b[39m\u001b[39m... with data: \u001b[39m\u001b[39m{\u001b[39;00mdata\u001b[39m!r}\u001b[39;00m\u001b[39m'\u001b[39m)\n\u001b[0;32m    <a href='file:///d%3A/MySoftware/python310/lib/site-packages/snscrape/base.py?line=173'>174</a>\u001b[0m \u001b[39mtry\u001b[39;00m:\n\u001b[1;32m--> <a href='file:///d%3A/MySoftware/python310/lib/site-packages/snscrape/base.py?line=174'>175</a>\u001b[0m \tr \u001b[39m=\u001b[39m \u001b[39mself\u001b[39;49m\u001b[39m.\u001b[39;49m_session\u001b[39m.\u001b[39;49msend(req, allow_redirects \u001b[39m=\u001b[39;49m allowRedirects, timeout \u001b[39m=\u001b[39;49m timeout, proxies \u001b[39m=\u001b[39;49m proxies)\n\u001b[0;32m    <a href='file:///d%3A/MySoftware/python310/lib/site-packages/snscrape/base.py?line=175'>176</a>\u001b[0m \u001b[39mexcept\u001b[39;00m requests\u001b[39m.\u001b[39mexceptions\u001b[39m.\u001b[39mRequestException \u001b[39mas\u001b[39;00m exc:\n\u001b[0;32m    <a href='file:///d%3A/MySoftware/python310/lib/site-packages/snscrape/base.py?line=176'>177</a>\u001b[0m \t\u001b[39mif\u001b[39;00m attempt \u001b[39m<\u001b[39m \u001b[39mself\u001b[39m\u001b[39m.\u001b[39m_retries:\n",
      "File \u001b[1;32mD:\\MySoftware\\python310\\lib\\site-packages\\requests\\sessions.py:646\u001b[0m, in \u001b[0;36mSession.send\u001b[1;34m(self, request, **kwargs)\u001b[0m\n\u001b[0;32m    <a href='file:///d%3A/MySoftware/python310/lib/site-packages/requests/sessions.py?line=642'>643</a>\u001b[0m start \u001b[39m=\u001b[39m preferred_clock()\n\u001b[0;32m    <a href='file:///d%3A/MySoftware/python310/lib/site-packages/requests/sessions.py?line=644'>645</a>\u001b[0m \u001b[39m# Send the request\u001b[39;00m\n\u001b[1;32m--> <a href='file:///d%3A/MySoftware/python310/lib/site-packages/requests/sessions.py?line=645'>646</a>\u001b[0m r \u001b[39m=\u001b[39m adapter\u001b[39m.\u001b[39msend(request, \u001b[39m*\u001b[39m\u001b[39m*\u001b[39mkwargs)\n\u001b[0;32m    <a href='file:///d%3A/MySoftware/python310/lib/site-packages/requests/sessions.py?line=647'>648</a>\u001b[0m \u001b[39m# Total elapsed time of the request (approximately)\u001b[39;00m\n\u001b[0;32m    <a href='file:///d%3A/MySoftware/python310/lib/site-packages/requests/sessions.py?line=648'>649</a>\u001b[0m elapsed \u001b[39m=\u001b[39m preferred_clock() \u001b[39m-\u001b[39m start\n",
      "File \u001b[1;32mD:\\MySoftware\\python310\\lib\\site-packages\\requests\\adapters.py:439\u001b[0m, in \u001b[0;36mHTTPAdapter.send\u001b[1;34m(self, request, stream, timeout, verify, cert, proxies)\u001b[0m\n\u001b[0;32m    <a href='file:///d%3A/MySoftware/python310/lib/site-packages/requests/adapters.py?line=436'>437</a>\u001b[0m \u001b[39mtry\u001b[39;00m:\n\u001b[0;32m    <a href='file:///d%3A/MySoftware/python310/lib/site-packages/requests/adapters.py?line=437'>438</a>\u001b[0m     \u001b[39mif\u001b[39;00m \u001b[39mnot\u001b[39;00m chunked:\n\u001b[1;32m--> <a href='file:///d%3A/MySoftware/python310/lib/site-packages/requests/adapters.py?line=438'>439</a>\u001b[0m         resp \u001b[39m=\u001b[39m conn\u001b[39m.\u001b[39;49murlopen(\n\u001b[0;32m    <a href='file:///d%3A/MySoftware/python310/lib/site-packages/requests/adapters.py?line=439'>440</a>\u001b[0m             method\u001b[39m=\u001b[39;49mrequest\u001b[39m.\u001b[39;49mmethod,\n\u001b[0;32m    <a href='file:///d%3A/MySoftware/python310/lib/site-packages/requests/adapters.py?line=440'>441</a>\u001b[0m             url\u001b[39m=\u001b[39;49murl,\n\u001b[0;32m    <a href='file:///d%3A/MySoftware/python310/lib/site-packages/requests/adapters.py?line=441'>442</a>\u001b[0m             body\u001b[39m=\u001b[39;49mrequest\u001b[39m.\u001b[39;49mbody,\n\u001b[0;32m    <a href='file:///d%3A/MySoftware/python310/lib/site-packages/requests/adapters.py?line=442'>443</a>\u001b[0m             headers\u001b[39m=\u001b[39;49mrequest\u001b[39m.\u001b[39;49mheaders,\n\u001b[0;32m    <a href='file:///d%3A/MySoftware/python310/lib/site-packages/requests/adapters.py?line=443'>444</a>\u001b[0m             redirect\u001b[39m=\u001b[39;49m\u001b[39mFalse\u001b[39;49;00m,\n\u001b[0;32m    <a href='file:///d%3A/MySoftware/python310/lib/site-packages/requests/adapters.py?line=444'>445</a>\u001b[0m             assert_same_host\u001b[39m=\u001b[39;49m\u001b[39mFalse\u001b[39;49;00m,\n\u001b[0;32m    <a href='file:///d%3A/MySoftware/python310/lib/site-packages/requests/adapters.py?line=445'>446</a>\u001b[0m             preload_content\u001b[39m=\u001b[39;49m\u001b[39mFalse\u001b[39;49;00m,\n\u001b[0;32m    <a href='file:///d%3A/MySoftware/python310/lib/site-packages/requests/adapters.py?line=446'>447</a>\u001b[0m             decode_content\u001b[39m=\u001b[39;49m\u001b[39mFalse\u001b[39;49;00m,\n\u001b[0;32m    <a href='file:///d%3A/MySoftware/python310/lib/site-packages/requests/adapters.py?line=447'>448</a>\u001b[0m             retries\u001b[39m=\u001b[39;49m\u001b[39mself\u001b[39;49m\u001b[39m.\u001b[39;49mmax_retries,\n\u001b[0;32m    <a href='file:///d%3A/MySoftware/python310/lib/site-packages/requests/adapters.py?line=448'>449</a>\u001b[0m             timeout\u001b[39m=\u001b[39;49mtimeout\n\u001b[0;32m    <a href='file:///d%3A/MySoftware/python310/lib/site-packages/requests/adapters.py?line=449'>450</a>\u001b[0m         )\n\u001b[0;32m    <a href='file:///d%3A/MySoftware/python310/lib/site-packages/requests/adapters.py?line=451'>452</a>\u001b[0m     \u001b[39m# Send the request.\u001b[39;00m\n\u001b[0;32m    <a href='file:///d%3A/MySoftware/python310/lib/site-packages/requests/adapters.py?line=452'>453</a>\u001b[0m     \u001b[39melse\u001b[39;00m:\n\u001b[0;32m    <a href='file:///d%3A/MySoftware/python310/lib/site-packages/requests/adapters.py?line=453'>454</a>\u001b[0m         \u001b[39mif\u001b[39;00m \u001b[39mhasattr\u001b[39m(conn, \u001b[39m'\u001b[39m\u001b[39mproxy_pool\u001b[39m\u001b[39m'\u001b[39m):\n",
      "File \u001b[1;32mD:\\MySoftware\\python310\\lib\\site-packages\\urllib3\\connectionpool.py:670\u001b[0m, in \u001b[0;36mHTTPConnectionPool.urlopen\u001b[1;34m(self, method, url, body, headers, retries, redirect, assert_same_host, timeout, pool_timeout, release_conn, chunked, body_pos, **response_kw)\u001b[0m\n\u001b[0;32m    <a href='file:///d%3A/MySoftware/python310/lib/site-packages/urllib3/connectionpool.py?line=666'>667</a>\u001b[0m     \u001b[39mself\u001b[39m\u001b[39m.\u001b[39m_prepare_proxy(conn)\n\u001b[0;32m    <a href='file:///d%3A/MySoftware/python310/lib/site-packages/urllib3/connectionpool.py?line=668'>669</a>\u001b[0m \u001b[39m# Make the request on the httplib connection object.\u001b[39;00m\n\u001b[1;32m--> <a href='file:///d%3A/MySoftware/python310/lib/site-packages/urllib3/connectionpool.py?line=669'>670</a>\u001b[0m httplib_response \u001b[39m=\u001b[39m \u001b[39mself\u001b[39;49m\u001b[39m.\u001b[39;49m_make_request(\n\u001b[0;32m    <a href='file:///d%3A/MySoftware/python310/lib/site-packages/urllib3/connectionpool.py?line=670'>671</a>\u001b[0m     conn,\n\u001b[0;32m    <a href='file:///d%3A/MySoftware/python310/lib/site-packages/urllib3/connectionpool.py?line=671'>672</a>\u001b[0m     method,\n\u001b[0;32m    <a href='file:///d%3A/MySoftware/python310/lib/site-packages/urllib3/connectionpool.py?line=672'>673</a>\u001b[0m     url,\n\u001b[0;32m    <a href='file:///d%3A/MySoftware/python310/lib/site-packages/urllib3/connectionpool.py?line=673'>674</a>\u001b[0m     timeout\u001b[39m=\u001b[39;49mtimeout_obj,\n\u001b[0;32m    <a href='file:///d%3A/MySoftware/python310/lib/site-packages/urllib3/connectionpool.py?line=674'>675</a>\u001b[0m     body\u001b[39m=\u001b[39;49mbody,\n\u001b[0;32m    <a href='file:///d%3A/MySoftware/python310/lib/site-packages/urllib3/connectionpool.py?line=675'>676</a>\u001b[0m     headers\u001b[39m=\u001b[39;49mheaders,\n\u001b[0;32m    <a href='file:///d%3A/MySoftware/python310/lib/site-packages/urllib3/connectionpool.py?line=676'>677</a>\u001b[0m     chunked\u001b[39m=\u001b[39;49mchunked,\n\u001b[0;32m    <a href='file:///d%3A/MySoftware/python310/lib/site-packages/urllib3/connectionpool.py?line=677'>678</a>\u001b[0m )\n\u001b[0;32m    <a href='file:///d%3A/MySoftware/python310/lib/site-packages/urllib3/connectionpool.py?line=679'>680</a>\u001b[0m \u001b[39m# If we're going to release the connection in ``finally:``, then\u001b[39;00m\n\u001b[0;32m    <a href='file:///d%3A/MySoftware/python310/lib/site-packages/urllib3/connectionpool.py?line=680'>681</a>\u001b[0m \u001b[39m# the response doesn't need to know about the connection. Otherwise\u001b[39;00m\n\u001b[0;32m    <a href='file:///d%3A/MySoftware/python310/lib/site-packages/urllib3/connectionpool.py?line=681'>682</a>\u001b[0m \u001b[39m# it will also try to release it and we'll have a double-release\u001b[39;00m\n\u001b[0;32m    <a href='file:///d%3A/MySoftware/python310/lib/site-packages/urllib3/connectionpool.py?line=682'>683</a>\u001b[0m \u001b[39m# mess.\u001b[39;00m\n\u001b[0;32m    <a href='file:///d%3A/MySoftware/python310/lib/site-packages/urllib3/connectionpool.py?line=683'>684</a>\u001b[0m response_conn \u001b[39m=\u001b[39m conn \u001b[39mif\u001b[39;00m \u001b[39mnot\u001b[39;00m release_conn \u001b[39melse\u001b[39;00m \u001b[39mNone\u001b[39;00m\n",
      "File \u001b[1;32mD:\\MySoftware\\python310\\lib\\site-packages\\urllib3\\connectionpool.py:426\u001b[0m, in \u001b[0;36mHTTPConnectionPool._make_request\u001b[1;34m(self, conn, method, url, timeout, chunked, **httplib_request_kw)\u001b[0m\n\u001b[0;32m    <a href='file:///d%3A/MySoftware/python310/lib/site-packages/urllib3/connectionpool.py?line=420'>421</a>\u001b[0m             httplib_response \u001b[39m=\u001b[39m conn\u001b[39m.\u001b[39mgetresponse()\n\u001b[0;32m    <a href='file:///d%3A/MySoftware/python310/lib/site-packages/urllib3/connectionpool.py?line=421'>422</a>\u001b[0m         \u001b[39mexcept\u001b[39;00m \u001b[39mBaseException\u001b[39;00m \u001b[39mas\u001b[39;00m e:\n\u001b[0;32m    <a href='file:///d%3A/MySoftware/python310/lib/site-packages/urllib3/connectionpool.py?line=422'>423</a>\u001b[0m             \u001b[39m# Remove the TypeError from the exception chain in\u001b[39;00m\n\u001b[0;32m    <a href='file:///d%3A/MySoftware/python310/lib/site-packages/urllib3/connectionpool.py?line=423'>424</a>\u001b[0m             \u001b[39m# Python 3 (including for exceptions like SystemExit).\u001b[39;00m\n\u001b[0;32m    <a href='file:///d%3A/MySoftware/python310/lib/site-packages/urllib3/connectionpool.py?line=424'>425</a>\u001b[0m             \u001b[39m# Otherwise it looks like a bug in the code.\u001b[39;00m\n\u001b[1;32m--> <a href='file:///d%3A/MySoftware/python310/lib/site-packages/urllib3/connectionpool.py?line=425'>426</a>\u001b[0m             six\u001b[39m.\u001b[39;49mraise_from(e, \u001b[39mNone\u001b[39;49;00m)\n\u001b[0;32m    <a href='file:///d%3A/MySoftware/python310/lib/site-packages/urllib3/connectionpool.py?line=426'>427</a>\u001b[0m \u001b[39mexcept\u001b[39;00m (SocketTimeout, BaseSSLError, SocketError) \u001b[39mas\u001b[39;00m e:\n\u001b[0;32m    <a href='file:///d%3A/MySoftware/python310/lib/site-packages/urllib3/connectionpool.py?line=427'>428</a>\u001b[0m     \u001b[39mself\u001b[39m\u001b[39m.\u001b[39m_raise_timeout(err\u001b[39m=\u001b[39me, url\u001b[39m=\u001b[39murl, timeout_value\u001b[39m=\u001b[39mread_timeout)\n",
      "File \u001b[1;32m<string>:3\u001b[0m, in \u001b[0;36mraise_from\u001b[1;34m(value, from_value)\u001b[0m\n",
      "File \u001b[1;32mD:\\MySoftware\\python310\\lib\\site-packages\\urllib3\\connectionpool.py:421\u001b[0m, in \u001b[0;36mHTTPConnectionPool._make_request\u001b[1;34m(self, conn, method, url, timeout, chunked, **httplib_request_kw)\u001b[0m\n\u001b[0;32m    <a href='file:///d%3A/MySoftware/python310/lib/site-packages/urllib3/connectionpool.py?line=417'>418</a>\u001b[0m \u001b[39mexcept\u001b[39;00m \u001b[39mTypeError\u001b[39;00m:\n\u001b[0;32m    <a href='file:///d%3A/MySoftware/python310/lib/site-packages/urllib3/connectionpool.py?line=418'>419</a>\u001b[0m     \u001b[39m# Python 3\u001b[39;00m\n\u001b[0;32m    <a href='file:///d%3A/MySoftware/python310/lib/site-packages/urllib3/connectionpool.py?line=419'>420</a>\u001b[0m     \u001b[39mtry\u001b[39;00m:\n\u001b[1;32m--> <a href='file:///d%3A/MySoftware/python310/lib/site-packages/urllib3/connectionpool.py?line=420'>421</a>\u001b[0m         httplib_response \u001b[39m=\u001b[39m conn\u001b[39m.\u001b[39;49mgetresponse()\n\u001b[0;32m    <a href='file:///d%3A/MySoftware/python310/lib/site-packages/urllib3/connectionpool.py?line=421'>422</a>\u001b[0m     \u001b[39mexcept\u001b[39;00m \u001b[39mBaseException\u001b[39;00m \u001b[39mas\u001b[39;00m e:\n\u001b[0;32m    <a href='file:///d%3A/MySoftware/python310/lib/site-packages/urllib3/connectionpool.py?line=422'>423</a>\u001b[0m         \u001b[39m# Remove the TypeError from the exception chain in\u001b[39;00m\n\u001b[0;32m    <a href='file:///d%3A/MySoftware/python310/lib/site-packages/urllib3/connectionpool.py?line=423'>424</a>\u001b[0m         \u001b[39m# Python 3 (including for exceptions like SystemExit).\u001b[39;00m\n\u001b[0;32m    <a href='file:///d%3A/MySoftware/python310/lib/site-packages/urllib3/connectionpool.py?line=424'>425</a>\u001b[0m         \u001b[39m# Otherwise it looks like a bug in the code.\u001b[39;00m\n\u001b[0;32m    <a href='file:///d%3A/MySoftware/python310/lib/site-packages/urllib3/connectionpool.py?line=425'>426</a>\u001b[0m         six\u001b[39m.\u001b[39mraise_from(e, \u001b[39mNone\u001b[39;00m)\n",
      "File \u001b[1;32mD:\\MySoftware\\python310\\lib\\http\\client.py:1374\u001b[0m, in \u001b[0;36mHTTPConnection.getresponse\u001b[1;34m(self)\u001b[0m\n\u001b[0;32m   <a href='file:///d%3A/MySoftware/python310/lib/http/client.py?line=1371'>1372</a>\u001b[0m \u001b[39mtry\u001b[39;00m:\n\u001b[0;32m   <a href='file:///d%3A/MySoftware/python310/lib/http/client.py?line=1372'>1373</a>\u001b[0m     \u001b[39mtry\u001b[39;00m:\n\u001b[1;32m-> <a href='file:///d%3A/MySoftware/python310/lib/http/client.py?line=1373'>1374</a>\u001b[0m         response\u001b[39m.\u001b[39;49mbegin()\n\u001b[0;32m   <a href='file:///d%3A/MySoftware/python310/lib/http/client.py?line=1374'>1375</a>\u001b[0m     \u001b[39mexcept\u001b[39;00m \u001b[39mConnectionError\u001b[39;00m:\n\u001b[0;32m   <a href='file:///d%3A/MySoftware/python310/lib/http/client.py?line=1375'>1376</a>\u001b[0m         \u001b[39mself\u001b[39m\u001b[39m.\u001b[39mclose()\n",
      "File \u001b[1;32mD:\\MySoftware\\python310\\lib\\http\\client.py:318\u001b[0m, in \u001b[0;36mHTTPResponse.begin\u001b[1;34m(self)\u001b[0m\n\u001b[0;32m    <a href='file:///d%3A/MySoftware/python310/lib/http/client.py?line=315'>316</a>\u001b[0m \u001b[39m# read until we get a non-100 response\u001b[39;00m\n\u001b[0;32m    <a href='file:///d%3A/MySoftware/python310/lib/http/client.py?line=316'>317</a>\u001b[0m \u001b[39mwhile\u001b[39;00m \u001b[39mTrue\u001b[39;00m:\n\u001b[1;32m--> <a href='file:///d%3A/MySoftware/python310/lib/http/client.py?line=317'>318</a>\u001b[0m     version, status, reason \u001b[39m=\u001b[39m \u001b[39mself\u001b[39;49m\u001b[39m.\u001b[39;49m_read_status()\n\u001b[0;32m    <a href='file:///d%3A/MySoftware/python310/lib/http/client.py?line=318'>319</a>\u001b[0m     \u001b[39mif\u001b[39;00m status \u001b[39m!=\u001b[39m CONTINUE:\n\u001b[0;32m    <a href='file:///d%3A/MySoftware/python310/lib/http/client.py?line=319'>320</a>\u001b[0m         \u001b[39mbreak\u001b[39;00m\n",
      "File \u001b[1;32mD:\\MySoftware\\python310\\lib\\http\\client.py:279\u001b[0m, in \u001b[0;36mHTTPResponse._read_status\u001b[1;34m(self)\u001b[0m\n\u001b[0;32m    <a href='file:///d%3A/MySoftware/python310/lib/http/client.py?line=277'>278</a>\u001b[0m \u001b[39mdef\u001b[39;00m \u001b[39m_read_status\u001b[39m(\u001b[39mself\u001b[39m):\n\u001b[1;32m--> <a href='file:///d%3A/MySoftware/python310/lib/http/client.py?line=278'>279</a>\u001b[0m     line \u001b[39m=\u001b[39m \u001b[39mstr\u001b[39m(\u001b[39mself\u001b[39;49m\u001b[39m.\u001b[39;49mfp\u001b[39m.\u001b[39;49mreadline(_MAXLINE \u001b[39m+\u001b[39;49m \u001b[39m1\u001b[39;49m), \u001b[39m\"\u001b[39m\u001b[39miso-8859-1\u001b[39m\u001b[39m\"\u001b[39m)\n\u001b[0;32m    <a href='file:///d%3A/MySoftware/python310/lib/http/client.py?line=279'>280</a>\u001b[0m     \u001b[39mif\u001b[39;00m \u001b[39mlen\u001b[39m(line) \u001b[39m>\u001b[39m _MAXLINE:\n\u001b[0;32m    <a href='file:///d%3A/MySoftware/python310/lib/http/client.py?line=280'>281</a>\u001b[0m         \u001b[39mraise\u001b[39;00m LineTooLong(\u001b[39m\"\u001b[39m\u001b[39mstatus line\u001b[39m\u001b[39m\"\u001b[39m)\n",
      "File \u001b[1;32mD:\\MySoftware\\python310\\lib\\socket.py:705\u001b[0m, in \u001b[0;36mSocketIO.readinto\u001b[1;34m(self, b)\u001b[0m\n\u001b[0;32m    <a href='file:///d%3A/MySoftware/python310/lib/socket.py?line=702'>703</a>\u001b[0m \u001b[39mwhile\u001b[39;00m \u001b[39mTrue\u001b[39;00m:\n\u001b[0;32m    <a href='file:///d%3A/MySoftware/python310/lib/socket.py?line=703'>704</a>\u001b[0m     \u001b[39mtry\u001b[39;00m:\n\u001b[1;32m--> <a href='file:///d%3A/MySoftware/python310/lib/socket.py?line=704'>705</a>\u001b[0m         \u001b[39mreturn\u001b[39;00m \u001b[39mself\u001b[39;49m\u001b[39m.\u001b[39;49m_sock\u001b[39m.\u001b[39;49mrecv_into(b)\n\u001b[0;32m    <a href='file:///d%3A/MySoftware/python310/lib/socket.py?line=705'>706</a>\u001b[0m     \u001b[39mexcept\u001b[39;00m timeout:\n\u001b[0;32m    <a href='file:///d%3A/MySoftware/python310/lib/socket.py?line=706'>707</a>\u001b[0m         \u001b[39mself\u001b[39m\u001b[39m.\u001b[39m_timeout_occurred \u001b[39m=\u001b[39m \u001b[39mTrue\u001b[39;00m\n",
      "File \u001b[1;32mD:\\MySoftware\\python310\\lib\\site-packages\\urllib3\\contrib\\pyopenssl.py:325\u001b[0m, in \u001b[0;36mWrappedSocket.recv_into\u001b[1;34m(self, *args, **kwargs)\u001b[0m\n\u001b[0;32m    <a href='file:///d%3A/MySoftware/python310/lib/site-packages/urllib3/contrib/pyopenssl.py?line=322'>323</a>\u001b[0m         \u001b[39mraise\u001b[39;00m\n\u001b[0;32m    <a href='file:///d%3A/MySoftware/python310/lib/site-packages/urllib3/contrib/pyopenssl.py?line=323'>324</a>\u001b[0m \u001b[39mexcept\u001b[39;00m OpenSSL\u001b[39m.\u001b[39mSSL\u001b[39m.\u001b[39mWantReadError:\n\u001b[1;32m--> <a href='file:///d%3A/MySoftware/python310/lib/site-packages/urllib3/contrib/pyopenssl.py?line=324'>325</a>\u001b[0m     \u001b[39mif\u001b[39;00m \u001b[39mnot\u001b[39;00m util\u001b[39m.\u001b[39;49mwait_for_read(\u001b[39mself\u001b[39;49m\u001b[39m.\u001b[39;49msocket, \u001b[39mself\u001b[39;49m\u001b[39m.\u001b[39;49msocket\u001b[39m.\u001b[39;49mgettimeout()):\n\u001b[0;32m    <a href='file:///d%3A/MySoftware/python310/lib/site-packages/urllib3/contrib/pyopenssl.py?line=325'>326</a>\u001b[0m         \u001b[39mraise\u001b[39;00m timeout(\u001b[39m\"\u001b[39m\u001b[39mThe read operation timed out\u001b[39m\u001b[39m\"\u001b[39m)\n\u001b[0;32m    <a href='file:///d%3A/MySoftware/python310/lib/site-packages/urllib3/contrib/pyopenssl.py?line=326'>327</a>\u001b[0m     \u001b[39melse\u001b[39;00m:\n",
      "File \u001b[1;32mD:\\MySoftware\\python310\\lib\\site-packages\\urllib3\\util\\wait.py:146\u001b[0m, in \u001b[0;36mwait_for_read\u001b[1;34m(sock, timeout)\u001b[0m\n\u001b[0;32m    <a href='file:///d%3A/MySoftware/python310/lib/site-packages/urllib3/util/wait.py?line=141'>142</a>\u001b[0m \u001b[39mdef\u001b[39;00m \u001b[39mwait_for_read\u001b[39m(sock, timeout\u001b[39m=\u001b[39m\u001b[39mNone\u001b[39;00m):\n\u001b[0;32m    <a href='file:///d%3A/MySoftware/python310/lib/site-packages/urllib3/util/wait.py?line=142'>143</a>\u001b[0m     \u001b[39m\"\"\"Waits for reading to be available on a given socket.\u001b[39;00m\n\u001b[0;32m    <a href='file:///d%3A/MySoftware/python310/lib/site-packages/urllib3/util/wait.py?line=143'>144</a>\u001b[0m \u001b[39m    Returns True if the socket is readable, or False if the timeout expired.\u001b[39;00m\n\u001b[0;32m    <a href='file:///d%3A/MySoftware/python310/lib/site-packages/urllib3/util/wait.py?line=144'>145</a>\u001b[0m \u001b[39m    \"\"\"\u001b[39;00m\n\u001b[1;32m--> <a href='file:///d%3A/MySoftware/python310/lib/site-packages/urllib3/util/wait.py?line=145'>146</a>\u001b[0m     \u001b[39mreturn\u001b[39;00m wait_for_socket(sock, read\u001b[39m=\u001b[39;49m\u001b[39mTrue\u001b[39;49;00m, timeout\u001b[39m=\u001b[39;49mtimeout)\n",
      "File \u001b[1;32mD:\\MySoftware\\python310\\lib\\site-packages\\urllib3\\util\\wait.py:86\u001b[0m, in \u001b[0;36mselect_wait_for_socket\u001b[1;34m(sock, read, write, timeout)\u001b[0m\n\u001b[0;32m     <a href='file:///d%3A/MySoftware/python310/lib/site-packages/urllib3/util/wait.py?line=79'>80</a>\u001b[0m \u001b[39m# When doing a non-blocking connect, most systems signal success by\u001b[39;00m\n\u001b[0;32m     <a href='file:///d%3A/MySoftware/python310/lib/site-packages/urllib3/util/wait.py?line=80'>81</a>\u001b[0m \u001b[39m# marking the socket writable. Windows, though, signals success by marked\u001b[39;00m\n\u001b[0;32m     <a href='file:///d%3A/MySoftware/python310/lib/site-packages/urllib3/util/wait.py?line=81'>82</a>\u001b[0m \u001b[39m# it as \"exceptional\". We paper over the difference by checking the write\u001b[39;00m\n\u001b[0;32m     <a href='file:///d%3A/MySoftware/python310/lib/site-packages/urllib3/util/wait.py?line=82'>83</a>\u001b[0m \u001b[39m# sockets for both conditions. (The stdlib selectors module does the same\u001b[39;00m\n\u001b[0;32m     <a href='file:///d%3A/MySoftware/python310/lib/site-packages/urllib3/util/wait.py?line=83'>84</a>\u001b[0m \u001b[39m# thing.)\u001b[39;00m\n\u001b[0;32m     <a href='file:///d%3A/MySoftware/python310/lib/site-packages/urllib3/util/wait.py?line=84'>85</a>\u001b[0m fn \u001b[39m=\u001b[39m partial(select\u001b[39m.\u001b[39mselect, rcheck, wcheck, wcheck)\n\u001b[1;32m---> <a href='file:///d%3A/MySoftware/python310/lib/site-packages/urllib3/util/wait.py?line=85'>86</a>\u001b[0m rready, wready, xready \u001b[39m=\u001b[39m _retry_on_intr(fn, timeout)\n\u001b[0;32m     <a href='file:///d%3A/MySoftware/python310/lib/site-packages/urllib3/util/wait.py?line=86'>87</a>\u001b[0m \u001b[39mreturn\u001b[39;00m \u001b[39mbool\u001b[39m(rready \u001b[39mor\u001b[39;00m wready \u001b[39mor\u001b[39;00m xready)\n",
      "File \u001b[1;32mD:\\MySoftware\\python310\\lib\\site-packages\\urllib3\\util\\wait.py:43\u001b[0m, in \u001b[0;36m_retry_on_intr\u001b[1;34m(fn, timeout)\u001b[0m\n\u001b[0;32m     <a href='file:///d%3A/MySoftware/python310/lib/site-packages/urllib3/util/wait.py?line=41'>42</a>\u001b[0m \u001b[39mdef\u001b[39;00m \u001b[39m_retry_on_intr\u001b[39m(fn, timeout):\n\u001b[1;32m---> <a href='file:///d%3A/MySoftware/python310/lib/site-packages/urllib3/util/wait.py?line=42'>43</a>\u001b[0m     \u001b[39mreturn\u001b[39;00m fn(timeout)\n",
      "\u001b[1;31mKeyboardInterrupt\u001b[0m: "
     ]
    }
   ],
   "source": [
    "tweets_list = []\n",
    "for tweet in sntwitter.TwitterSearchScraper('the since:2021-03-10 until:2021-03-11 lang:en').get_items():\n",
    "    tweets_list.append([tweet.date, tweet.id, tweet.content, tweet.user.username, tweet.user.location, tweet.place, tweet.coordinates]) #declare the attributes to be returned"
   ]
  },
  {
   "cell_type": "code",
   "execution_count": 9,
   "id": "09cd9e9e",
   "metadata": {},
   "outputs": [
    {
     "data": {
      "text/plain": [
       "(1702247, 7)"
      ]
     },
     "execution_count": 9,
     "metadata": {},
     "output_type": "execute_result"
    }
   ],
   "source": [
    "tweets_df_the = pd.DataFrame(tweets_list, columns=['Datetime', 'Tweet Id', 'Text', 'User', 'User_location', \"Place\", 'Coordinates'])\n",
    "tweets_df_the.shape"
   ]
  },
  {
   "cell_type": "code",
   "execution_count": null,
   "id": "b71be8a2",
   "metadata": {},
   "outputs": [],
   "source": [
    "tweets_df_the.to_csv('tweets_df_the.csv')"
   ]
  }
 ],
 "metadata": {
  "kernelspec": {
   "display_name": "Python 3 (ipykernel)",
   "language": "python",
   "name": "python3"
  },
  "language_info": {
   "codemirror_mode": {
    "name": "ipython",
    "version": 3
   },
   "file_extension": ".py",
   "mimetype": "text/x-python",
   "name": "python",
   "nbconvert_exporter": "python",
   "pygments_lexer": "ipython3",
   "version": "3.10.2"
  }
 },
 "nbformat": 4,
 "nbformat_minor": 5
}
